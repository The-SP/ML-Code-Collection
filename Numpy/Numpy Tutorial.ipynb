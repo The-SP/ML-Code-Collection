{
 "cells": [
  {
   "attachments": {},
   "cell_type": "markdown",
   "metadata": {},
   "source": [
    "# Numpy Basics"
   ]
  },
  {
   "cell_type": "code",
   "execution_count": 19,
   "metadata": {},
   "outputs": [],
   "source": [
    "import numpy as np"
   ]
  },
  {
   "cell_type": "code",
   "execution_count": 20,
   "metadata": {},
   "outputs": [
    {
     "name": "stdout",
     "output_type": "stream",
     "text": [
      "[1 2 5 7] [0 1 2 3 4 5 6 7 8 9] [0 2 4 6 8]\n",
      "[0. 0. 0. 0. 0. 0. 0. 0. 0. 0.] [[0. 0. 0. 0. 0.]\n",
      " [0. 0. 0. 0. 0.]]\n",
      "[6 6 6 6 6 6 6 6 6 6] [[6 6 6 6 6]\n",
      " [6 6 6 6 6]]\n"
     ]
    }
   ],
   "source": [
    "# 1D array\n",
    "np1 = np.array([1, 2, 5, 7])\n",
    "\n",
    "# Range\n",
    "np2 = np.arange(10)\n",
    "\n",
    "# Step\n",
    "np3 = np.arange(0, 10, 2)\n",
    "\n",
    "# Zeros\n",
    "np4 = np.zeros(10)\n",
    "\n",
    "# Multidimensional zeros\n",
    "np5 = np.zeros((2, 5))\n",
    "\n",
    "# Full\n",
    "np6 = np.full((10), 6)\n",
    "\n",
    "# Multidimensional full\n",
    "np7 = np.full((2, 5), 6)\n",
    "\n",
    "print(np1, np2, np3)\n",
    "print(np4, np5)\n",
    "print(np6, np7)"
   ]
  },
  {
   "cell_type": "code",
   "execution_count": 21,
   "metadata": {},
   "outputs": [],
   "source": [
    "# 1D array\n",
    "a = np.array([0,1,2,3,4,5,6,7,8,9])\n",
    "b = np.array([[1,2,3,4,5], [6,7,8,9,0], [10,11,12,13,14]])"
   ]
  },
  {
   "attachments": {},
   "cell_type": "markdown",
   "metadata": {},
   "source": [
    "## Slicing"
   ]
  },
  {
   "cell_type": "code",
   "execution_count": 22,
   "metadata": {},
   "outputs": [
    {
     "name": "stdout",
     "output_type": "stream",
     "text": [
      "[2 3 4]\n",
      "[4 5 6 7 8 9]\n",
      "[7 8]\n",
      "[1 3]\n",
      "[0 2 4 6 8]\n"
     ]
    }
   ],
   "source": [
    "# Slicing numpy arrays\n",
    "\n",
    "# Return 3,4,5\n",
    "print(a[2:5])\n",
    "\n",
    "# Return from 4 till end\n",
    "print(a[4:])\n",
    "\n",
    "# Return negative slices eg: 7,8\n",
    "print(a[-3: -1])\n",
    "\n",
    "# Steps\n",
    "print(a[1:5:2])\n",
    "\n",
    "# Steps on the entire array\n",
    "print(a[::2])\n"
   ]
  },
  {
   "cell_type": "code",
   "execution_count": 23,
   "metadata": {},
   "outputs": [
    {
     "name": "stdout",
     "output_type": "stream",
     "text": [
      "[[2 3]\n",
      " [7 8]]\n"
     ]
    }
   ],
   "source": [
    "# Slice 2-D array\n",
    "\n",
    "print(b[0:2, 1:3]) # a[row, col]"
   ]
  },
  {
   "attachments": {},
   "cell_type": "markdown",
   "metadata": {},
   "source": [
    "## Functions"
   ]
  },
  {
   "cell_type": "code",
   "execution_count": 24,
   "metadata": {},
   "outputs": [
    {
     "name": "stdout",
     "output_type": "stream",
     "text": [
      "[1.00000000e+00 2.71828183e+00 7.38905610e+00 2.00855369e+01\n",
      " 5.45981500e+01 1.48413159e+02 4.03428793e+02 1.09663316e+03\n",
      " 2.98095799e+03 8.10308393e+03]\n",
      "9\n",
      "[0 1 1 1 1 1 1 1 1 1]\n"
     ]
    }
   ],
   "source": [
    "# Universal Function\n",
    "\n",
    "print(np.exp(a))    # exponents, log, sin, cos\n",
    "print(np.max(a))    # max/min\n",
    "print(np.sign(a))   # 1 for +ve & 0 for -ve\n"
   ]
  },
  {
   "attachments": {},
   "cell_type": "markdown",
   "metadata": {},
   "source": [
    "## Get Shape, Reshape, Flatten"
   ]
  },
  {
   "cell_type": "code",
   "execution_count": 25,
   "metadata": {},
   "outputs": [
    {
     "name": "stdout",
     "output_type": "stream",
     "text": [
      "(10,)\n",
      "(3, 5)\n",
      "[[0 1 2 3 4]\n",
      " [5 6 7 8 9]]\n",
      "[ 1  2  3  4  5  6  7  8  9  0 10 11 12 13 14]\n"
     ]
    }
   ],
   "source": [
    "# Get shape\n",
    "print(a.shape) # 1D\n",
    "print(b.shape) # 2D\n",
    "\n",
    "# Reshape 1D to 2D\n",
    "c = a.reshape(2,5)\n",
    "print(c)\n",
    "\n",
    "# Flatten 2D to 1D\n",
    "d = b.reshape(-1)\n",
    "print(d)"
   ]
  },
  {
   "cell_type": "code",
   "execution_count": 26,
   "metadata": {},
   "outputs": [
    {
     "name": "stdout",
     "output_type": "stream",
     "text": [
      "1 2 3 4 5 6 7 8 9 10 11 12 "
     ]
    }
   ],
   "source": [
    "# 3D Array\n",
    "np3 = np.array([[[1,2,3], [4,5,6]], [[7,8,9], [10,11,12]]])\n",
    "\n",
    "# Loop through each item of array\n",
    "for x in np.nditer(np3):\n",
    "    print(x, end=' ')"
   ]
  },
  {
   "attachments": {},
   "cell_type": "markdown",
   "metadata": {},
   "source": [
    "## Sort"
   ]
  },
  {
   "cell_type": "code",
   "execution_count": 27,
   "metadata": {},
   "outputs": [
    {
     "name": "stdout",
     "output_type": "stream",
     "text": [
      "[1 2 2 3 3 5 7 8 9]\n",
      "['Harry' 'John' 'Josh' 'Simon']\n",
      "[False False  True  True]\n",
      "[[1 5 7 9]\n",
      " [0 3 5 8]]\n"
     ]
    }
   ],
   "source": [
    "a1 = np.array([7,2,8,3,5,3,2,9,1])\n",
    "b1 = np.array(['John', 'Simon', 'Josh', 'Harry'])\n",
    "c1 = np.array([True, False, False, True])\n",
    "\n",
    "print(np.sort(a1))\n",
    "print(np.sort(b1))\n",
    "print(np.sort(c1))\n",
    "\n",
    "# 2D\n",
    "a2 = np.array([[5,7,1,9], [8,3,5,0]])\n",
    "print(np.sort(a2)) # Sorts each row seperately"
   ]
  },
  {
   "attachments": {},
   "cell_type": "markdown",
   "metadata": {},
   "source": [
    "## Search & Filter"
   ]
  },
  {
   "cell_type": "code",
   "execution_count": 28,
   "metadata": {},
   "outputs": [
    {
     "name": "stdout",
     "output_type": "stream",
     "text": [
      "[3 5]\n",
      "[0 2 4 6 8]\n"
     ]
    }
   ],
   "source": [
    "# Search\n",
    "# np.where() returns tuple eg: (array[3,5], dtype=int64)\n",
    "x = np.where(a1 == 3)\n",
    "print(x[0])\n",
    "\n",
    "# Return even items\n",
    "y = np.where(a % 2 == 0)\n",
    "print(y[0])"
   ]
  },
  {
   "cell_type": "code",
   "execution_count": 29,
   "metadata": {},
   "outputs": [
    {
     "name": "stdout",
     "output_type": "stream",
     "text": [
      "[False  True False  True False  True False  True False  True]\n",
      "[0 1 2 3 4 5 6 7 8 9] [1 3 5 7 9]\n"
     ]
    }
   ],
   "source": [
    "# Filter even items\n",
    "filtered = a % 2 == 1   # Odd\n",
    "print(filtered)\n",
    "print(a, a[filtered])"
   ]
  }
 ],
 "metadata": {
  "kernelspec": {
   "display_name": "Python 3",
   "language": "python",
   "name": "python3"
  },
  "language_info": {
   "codemirror_mode": {
    "name": "ipython",
    "version": 3
   },
   "file_extension": ".py",
   "mimetype": "text/x-python",
   "name": "python",
   "nbconvert_exporter": "python",
   "pygments_lexer": "ipython3",
   "version": "3.11.0"
  },
  "orig_nbformat": 4
 },
 "nbformat": 4,
 "nbformat_minor": 2
}
