{
 "cells": [
  {
   "cell_type": "markdown",
   "metadata": {},
   "source": [
    "## Pandas Testing using pytest\n",
    "\n",
    "[Pandas Testing Tutorial Link](https://machinelearningtutorials.org/pandas-testing-tutorial-with-examples/)  \n",
    "[Pytest Advanced Tutorial](https://www.softwaretestinghelp.com/pytest-tutorial/)\n",
    "\n",
    "1. Testing DataFrames and Series\n",
    "    - Checking Data Types\n",
    "    - Comparing DataFrames\n",
    "    - Handling Missing Values\n",
    "\n",
    "2. Testing Data Transformation Operations\n",
    "    - Filtering and Sorting\n",
    "    - Aggregation and Grouping\n",
    "    - Merging"
   ]
  },
  {
   "cell_type": "code",
   "execution_count": 70,
   "metadata": {},
   "outputs": [],
   "source": [
    "import pandas as pd"
   ]
  },
  {
   "cell_type": "code",
   "execution_count": 71,
   "metadata": {},
   "outputs": [],
   "source": [
    "# Sample test data\n",
    "df = pd.DataFrame({\n",
    "    'product': ['A', 'B', 'C', 'A', 'B'],\n",
    "    'quantity': [12, 15, 8, 5, 20]\n",
    "})"
   ]
  },
  {
   "cell_type": "markdown",
   "metadata": {},
   "source": [
    "Checking Data Types"
   ]
  },
  {
   "cell_type": "code",
   "execution_count": 72,
   "metadata": {},
   "outputs": [],
   "source": [
    "def test_dataframe_dtypes():  \n",
    "    assert df.dtypes['product'] == object\n",
    "    assert df.dtypes['quantity'] == int, 'quantity col must be int type'"
   ]
  },
  {
   "cell_type": "code",
   "execution_count": 73,
   "metadata": {},
   "outputs": [],
   "source": [
    "test_dataframe_dtypes()"
   ]
  },
  {
   "cell_type": "markdown",
   "metadata": {},
   "source": [
    "Comparing DataFrames"
   ]
  },
  {
   "cell_type": "code",
   "execution_count": 74,
   "metadata": {},
   "outputs": [],
   "source": [
    "def test_dataframe_transformation():\n",
    "    df = pd.DataFrame({\n",
    "        'col1': [1, 2, 3],\n",
    "        'col2': ['A', 'B', 'C']\n",
    "    })\n",
    "    \n",
    "    transformed_df = df.copy()\n",
    "    transformed_df['col1'] = df['col1'] * 2\n",
    "    \n",
    "    expected_df = pd.DataFrame({\n",
    "        'col1': [2, 4, 6],\n",
    "        'col2': ['A', 'B', 'C']\n",
    "    })\n",
    "    \n",
    "    assert transformed_df.equals(expected_df), 'DataFrames are not equal'"
   ]
  },
  {
   "cell_type": "code",
   "execution_count": 75,
   "metadata": {},
   "outputs": [],
   "source": [
    "test_dataframe_transformation()"
   ]
  },
  {
   "cell_type": "markdown",
   "metadata": {},
   "source": [
    "Handling Missing values"
   ]
  },
  {
   "cell_type": "code",
   "execution_count": 76,
   "metadata": {},
   "outputs": [],
   "source": [
    "def test_missing_values():  \n",
    "    # Test for missing values\n",
    "    assert df['product'].isnull().sum() == 0\n",
    "    assert df['quantity'].notnull().all()"
   ]
  },
  {
   "cell_type": "code",
   "execution_count": 77,
   "metadata": {},
   "outputs": [],
   "source": [
    "test_missing_values()"
   ]
  },
  {
   "cell_type": "markdown",
   "metadata": {},
   "source": [
    "### Testing Data Transformation Operations"
   ]
  },
  {
   "cell_type": "code",
   "execution_count": 78,
   "metadata": {},
   "outputs": [],
   "source": [
    "df = pd.DataFrame({\n",
    "    'product': ['A', 'B', 'C', 'A', 'B'],\n",
    "    'quantity': [12, 15, 8, 5, 20]\n",
    "})"
   ]
  },
  {
   "cell_type": "markdown",
   "metadata": {},
   "source": [
    "Filtering and Sorting"
   ]
  },
  {
   "cell_type": "code",
   "execution_count": 79,
   "metadata": {},
   "outputs": [],
   "source": [
    "def test_filtering():   \n",
    "    # Apply filtering\n",
    "    filtered_df = df[df['quantity'] >= 10]\n",
    "    \n",
    "    assert len(filtered_df) == 3\n",
    "    \n",
    "    \n",
    "def test_sorting():\n",
    "    # Apply sorting\n",
    "    sorted_df = df.sort_values(by='quantity', ascending=False)\n",
    "    \n",
    "    assert sorted_df['quantity'].is_monotonic_decreasing\n",
    "    \n",
    "       \n",
    "test_filtering()\n",
    "test_sorting()"
   ]
  },
  {
   "cell_type": "markdown",
   "metadata": {},
   "source": [
    "Aggregation and Grouping"
   ]
  },
  {
   "cell_type": "code",
   "execution_count": 80,
   "metadata": {},
   "outputs": [],
   "source": [
    "def test_aggregation():\n",
    "    # Apply aggregation\n",
    "    total_quantity = df['quantity'].sum()\n",
    "\n",
    "    # Test the sum of aggregated values\n",
    "    assert total_quantity == 60\n",
    "    \n",
    "def test_grouping():\n",
    "    # Apply aggregation\n",
    "    grouped_df = df.groupby('product')['quantity'].mean()\n",
    "\n",
    "    # Test the sum of aggregated values\n",
    "    assert grouped_df['A'] == 8.5\n",
    "    assert grouped_df['B'] == 17.5\n",
    "    assert grouped_df['C'] == 8\n",
    "    \n",
    "test_aggregation()\n",
    "test_grouping()"
   ]
  },
  {
   "cell_type": "markdown",
   "metadata": {},
   "source": [
    "Merging"
   ]
  },
  {
   "cell_type": "code",
   "execution_count": 81,
   "metadata": {},
   "outputs": [],
   "source": [
    "# Sample customer data\n",
    "customers = pd.DataFrame({\n",
    "    'customer_id': [1, 2, 3],\n",
    "    'name': ['Alice', 'Bob', 'Charlie']\n",
    "})\n",
    "\n",
    "# Sample order data\n",
    "orders = pd.DataFrame({\n",
    "    'customer_id': [1, 2, 1, 3],\n",
    "    'order_amount': [100, 150, 80, 200]\n",
    "})\n",
    "\n",
    "def test_merging():\n",
    "    # Merge customer and order data\n",
    "    merged_data = pd.merge(customers, orders, on='customer_id')\n",
    "\n",
    "    # Test the number of rows\n",
    "    assert len(merged_data) == 4\n",
    "\n",
    "    # Test order amounts\n",
    "    assert merged_data['order_amount'].sum() == 530\n",
    "    \n",
    "\n",
    "test_merging()"
   ]
  },
  {
   "cell_type": "markdown",
   "metadata": {},
   "source": [
    "### Parameterization  \n",
    "\n",
    "Parametrization is used to combine the multiple test cases into one test case. With parameterized testing, we can test functions and classes with different multiple sets of arguments."
   ]
  },
  {
   "cell_type": "code",
   "execution_count": 89,
   "metadata": {},
   "outputs": [],
   "source": [
    "import pytest\n",
    "import pandas as pd\n",
    "\n",
    "\n",
    "df1 = pd.DataFrame({\n",
    "    'product': ['Apple', 'Banana', 'Orange', 'Apple', 'Banana'],\n",
    "    'quantity': [25, 18, 12, 30, 22]\n",
    "})\n",
    "\n",
    "df2 = pd.DataFrame({\n",
    "    'product': ['Book', 'Pen', 'Notebook', 'Book', 'Pen'],\n",
    "    'quantity': [100, 75, 50, 120, 90]\n",
    "})\n",
    "\n",
    "df3 = pd.DataFrame({\n",
    "    'product': ['Shirt', 'Pants', 'Jacket', 'Shirt', 'Pants'],\n",
    "    'quantity': [35, 42, 28, 40, 38]\n",
    "})\n",
    "\n",
    "def get_quantity_sum(df):\n",
    "    return df['quantity'].sum()\n",
    "\n",
    "@pytest.mark.parametrize(\"test_df, expected_quantity_sum\", [(df1, 107), (df2, 435), (df3, 183)])\n",
    "def test_quantity_sum(test_df, expected_quantity_sum):\n",
    "    result = get_quantity_sum(test_df)\n",
    "    assert result == expected_quantity_sum"
   ]
  }
 ],
 "metadata": {
  "kernelspec": {
   "display_name": "env",
   "language": "python",
   "name": "python3"
  },
  "language_info": {
   "codemirror_mode": {
    "name": "ipython",
    "version": 3
   },
   "file_extension": ".py",
   "mimetype": "text/x-python",
   "name": "python",
   "nbconvert_exporter": "python",
   "pygments_lexer": "ipython3",
   "version": "3.11.5"
  }
 },
 "nbformat": 4,
 "nbformat_minor": 2
}
