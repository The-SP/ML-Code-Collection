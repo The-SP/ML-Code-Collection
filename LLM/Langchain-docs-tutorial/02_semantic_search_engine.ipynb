{
 "cells": [
  {
   "cell_type": "markdown",
   "metadata": {},
   "source": [
    "## Build a semantic search engine\n",
    "\n",
    "- LangChain's document loader, embedding, and vector store abstractions.\n",
    "- Build a search engine over a PDF document.\n",
    "\n",
    "[Link](https://python.langchain.com/docs/tutorials/retrievers/)\n",
    "\n",
    "**Concepts:**\n",
    "- Documents and document loaders;\n",
    "- Text splitters;\n",
    "- Embeddings;\n",
    "- Vector stores and retrievers"
   ]
  },
  {
   "cell_type": "code",
   "execution_count": 1,
   "metadata": {},
   "outputs": [
    {
     "name": "stdout",
     "output_type": "stream",
     "text": [
      "Requirement already satisfied: langchain-community in /home/suraj/Danphe-Software-Labs/Mindgym/langchain_tutorial/env/lib/python3.11/site-packages (0.3.16)\n",
      "Requirement already satisfied: pypdf in /home/suraj/Danphe-Software-Labs/Mindgym/langchain_tutorial/env/lib/python3.11/site-packages (5.2.0)\n",
      "Requirement already satisfied: PyYAML>=5.3 in /home/suraj/Danphe-Software-Labs/Mindgym/langchain_tutorial/env/lib/python3.11/site-packages (from langchain-community) (6.0.2)\n",
      "Requirement already satisfied: SQLAlchemy<3,>=1.4 in /home/suraj/Danphe-Software-Labs/Mindgym/langchain_tutorial/env/lib/python3.11/site-packages (from langchain-community) (2.0.37)\n",
      "Requirement already satisfied: aiohttp<4.0.0,>=3.8.3 in /home/suraj/Danphe-Software-Labs/Mindgym/langchain_tutorial/env/lib/python3.11/site-packages (from langchain-community) (3.11.11)\n",
      "Requirement already satisfied: dataclasses-json<0.7,>=0.5.7 in /home/suraj/Danphe-Software-Labs/Mindgym/langchain_tutorial/env/lib/python3.11/site-packages (from langchain-community) (0.6.7)\n",
      "Requirement already satisfied: httpx-sse<0.5.0,>=0.4.0 in /home/suraj/Danphe-Software-Labs/Mindgym/langchain_tutorial/env/lib/python3.11/site-packages (from langchain-community) (0.4.0)\n",
      "Requirement already satisfied: langchain<0.4.0,>=0.3.16 in /home/suraj/Danphe-Software-Labs/Mindgym/langchain_tutorial/env/lib/python3.11/site-packages (from langchain-community) (0.3.17)\n",
      "Requirement already satisfied: langchain-core<0.4.0,>=0.3.32 in /home/suraj/Danphe-Software-Labs/Mindgym/langchain_tutorial/env/lib/python3.11/site-packages (from langchain-community) (0.3.33)\n",
      "Requirement already satisfied: langsmith<0.4,>=0.1.125 in /home/suraj/Danphe-Software-Labs/Mindgym/langchain_tutorial/env/lib/python3.11/site-packages (from langchain-community) (0.3.4)\n",
      "Requirement already satisfied: numpy<2,>=1.22.4 in /home/suraj/Danphe-Software-Labs/Mindgym/langchain_tutorial/env/lib/python3.11/site-packages (from langchain-community) (1.26.4)\n",
      "Requirement already satisfied: pydantic-settings<3.0.0,>=2.4.0 in /home/suraj/Danphe-Software-Labs/Mindgym/langchain_tutorial/env/lib/python3.11/site-packages (from langchain-community) (2.7.1)\n",
      "Requirement already satisfied: requests<3,>=2 in /home/suraj/Danphe-Software-Labs/Mindgym/langchain_tutorial/env/lib/python3.11/site-packages (from langchain-community) (2.32.3)\n",
      "Requirement already satisfied: tenacity!=8.4.0,<10,>=8.1.0 in /home/suraj/Danphe-Software-Labs/Mindgym/langchain_tutorial/env/lib/python3.11/site-packages (from langchain-community) (9.0.0)\n",
      "Requirement already satisfied: aiohappyeyeballs>=2.3.0 in /home/suraj/Danphe-Software-Labs/Mindgym/langchain_tutorial/env/lib/python3.11/site-packages (from aiohttp<4.0.0,>=3.8.3->langchain-community) (2.4.4)\n",
      "Requirement already satisfied: aiosignal>=1.1.2 in /home/suraj/Danphe-Software-Labs/Mindgym/langchain_tutorial/env/lib/python3.11/site-packages (from aiohttp<4.0.0,>=3.8.3->langchain-community) (1.3.2)\n",
      "Requirement already satisfied: attrs>=17.3.0 in /home/suraj/Danphe-Software-Labs/Mindgym/langchain_tutorial/env/lib/python3.11/site-packages (from aiohttp<4.0.0,>=3.8.3->langchain-community) (25.1.0)\n",
      "Requirement already satisfied: frozenlist>=1.1.1 in /home/suraj/Danphe-Software-Labs/Mindgym/langchain_tutorial/env/lib/python3.11/site-packages (from aiohttp<4.0.0,>=3.8.3->langchain-community) (1.5.0)\n",
      "Requirement already satisfied: multidict<7.0,>=4.5 in /home/suraj/Danphe-Software-Labs/Mindgym/langchain_tutorial/env/lib/python3.11/site-packages (from aiohttp<4.0.0,>=3.8.3->langchain-community) (6.1.0)\n",
      "Requirement already satisfied: propcache>=0.2.0 in /home/suraj/Danphe-Software-Labs/Mindgym/langchain_tutorial/env/lib/python3.11/site-packages (from aiohttp<4.0.0,>=3.8.3->langchain-community) (0.2.1)\n",
      "Requirement already satisfied: yarl<2.0,>=1.17.0 in /home/suraj/Danphe-Software-Labs/Mindgym/langchain_tutorial/env/lib/python3.11/site-packages (from aiohttp<4.0.0,>=3.8.3->langchain-community) (1.18.3)\n",
      "Requirement already satisfied: marshmallow<4.0.0,>=3.18.0 in /home/suraj/Danphe-Software-Labs/Mindgym/langchain_tutorial/env/lib/python3.11/site-packages (from dataclasses-json<0.7,>=0.5.7->langchain-community) (3.26.1)\n",
      "Requirement already satisfied: typing-inspect<1,>=0.4.0 in /home/suraj/Danphe-Software-Labs/Mindgym/langchain_tutorial/env/lib/python3.11/site-packages (from dataclasses-json<0.7,>=0.5.7->langchain-community) (0.9.0)\n",
      "Requirement already satisfied: langchain-text-splitters<0.4.0,>=0.3.3 in /home/suraj/Danphe-Software-Labs/Mindgym/langchain_tutorial/env/lib/python3.11/site-packages (from langchain<0.4.0,>=0.3.16->langchain-community) (0.3.5)\n",
      "Requirement already satisfied: pydantic<3.0.0,>=2.7.4 in /home/suraj/Danphe-Software-Labs/Mindgym/langchain_tutorial/env/lib/python3.11/site-packages (from langchain<0.4.0,>=0.3.16->langchain-community) (2.10.6)\n",
      "Requirement already satisfied: jsonpatch<2.0,>=1.33 in /home/suraj/Danphe-Software-Labs/Mindgym/langchain_tutorial/env/lib/python3.11/site-packages (from langchain-core<0.4.0,>=0.3.32->langchain-community) (1.33)\n",
      "Requirement already satisfied: packaging<25,>=23.2 in /home/suraj/Danphe-Software-Labs/Mindgym/langchain_tutorial/env/lib/python3.11/site-packages (from langchain-core<0.4.0,>=0.3.32->langchain-community) (24.2)\n",
      "Requirement already satisfied: typing-extensions>=4.7 in /home/suraj/Danphe-Software-Labs/Mindgym/langchain_tutorial/env/lib/python3.11/site-packages (from langchain-core<0.4.0,>=0.3.32->langchain-community) (4.12.2)\n",
      "Requirement already satisfied: httpx<1,>=0.23.0 in /home/suraj/Danphe-Software-Labs/Mindgym/langchain_tutorial/env/lib/python3.11/site-packages (from langsmith<0.4,>=0.1.125->langchain-community) (0.28.1)\n",
      "Requirement already satisfied: orjson<4.0.0,>=3.9.14 in /home/suraj/Danphe-Software-Labs/Mindgym/langchain_tutorial/env/lib/python3.11/site-packages (from langsmith<0.4,>=0.1.125->langchain-community) (3.10.15)\n",
      "Requirement already satisfied: requests-toolbelt<2.0.0,>=1.0.0 in /home/suraj/Danphe-Software-Labs/Mindgym/langchain_tutorial/env/lib/python3.11/site-packages (from langsmith<0.4,>=0.1.125->langchain-community) (1.0.0)\n",
      "Requirement already satisfied: zstandard<0.24.0,>=0.23.0 in /home/suraj/Danphe-Software-Labs/Mindgym/langchain_tutorial/env/lib/python3.11/site-packages (from langsmith<0.4,>=0.1.125->langchain-community) (0.23.0)\n",
      "Requirement already satisfied: python-dotenv>=0.21.0 in /home/suraj/Danphe-Software-Labs/Mindgym/langchain_tutorial/env/lib/python3.11/site-packages (from pydantic-settings<3.0.0,>=2.4.0->langchain-community) (1.0.1)\n",
      "Requirement already satisfied: charset-normalizer<4,>=2 in /home/suraj/Danphe-Software-Labs/Mindgym/langchain_tutorial/env/lib/python3.11/site-packages (from requests<3,>=2->langchain-community) (3.4.1)\n",
      "Requirement already satisfied: idna<4,>=2.5 in /home/suraj/Danphe-Software-Labs/Mindgym/langchain_tutorial/env/lib/python3.11/site-packages (from requests<3,>=2->langchain-community) (3.10)\n",
      "Requirement already satisfied: urllib3<3,>=1.21.1 in /home/suraj/Danphe-Software-Labs/Mindgym/langchain_tutorial/env/lib/python3.11/site-packages (from requests<3,>=2->langchain-community) (2.3.0)\n",
      "Requirement already satisfied: certifi>=2017.4.17 in /home/suraj/Danphe-Software-Labs/Mindgym/langchain_tutorial/env/lib/python3.11/site-packages (from requests<3,>=2->langchain-community) (2025.1.31)\n",
      "Requirement already satisfied: greenlet!=0.4.17 in /home/suraj/Danphe-Software-Labs/Mindgym/langchain_tutorial/env/lib/python3.11/site-packages (from SQLAlchemy<3,>=1.4->langchain-community) (3.1.1)\n",
      "Requirement already satisfied: anyio in /home/suraj/Danphe-Software-Labs/Mindgym/langchain_tutorial/env/lib/python3.11/site-packages (from httpx<1,>=0.23.0->langsmith<0.4,>=0.1.125->langchain-community) (4.8.0)\n",
      "Requirement already satisfied: httpcore==1.* in /home/suraj/Danphe-Software-Labs/Mindgym/langchain_tutorial/env/lib/python3.11/site-packages (from httpx<1,>=0.23.0->langsmith<0.4,>=0.1.125->langchain-community) (1.0.7)\n",
      "Requirement already satisfied: h11<0.15,>=0.13 in /home/suraj/Danphe-Software-Labs/Mindgym/langchain_tutorial/env/lib/python3.11/site-packages (from httpcore==1.*->httpx<1,>=0.23.0->langsmith<0.4,>=0.1.125->langchain-community) (0.14.0)\n",
      "Requirement already satisfied: jsonpointer>=1.9 in /home/suraj/Danphe-Software-Labs/Mindgym/langchain_tutorial/env/lib/python3.11/site-packages (from jsonpatch<2.0,>=1.33->langchain-core<0.4.0,>=0.3.32->langchain-community) (3.0.0)\n",
      "Requirement already satisfied: annotated-types>=0.6.0 in /home/suraj/Danphe-Software-Labs/Mindgym/langchain_tutorial/env/lib/python3.11/site-packages (from pydantic<3.0.0,>=2.7.4->langchain<0.4.0,>=0.3.16->langchain-community) (0.7.0)\n",
      "Requirement already satisfied: pydantic-core==2.27.2 in /home/suraj/Danphe-Software-Labs/Mindgym/langchain_tutorial/env/lib/python3.11/site-packages (from pydantic<3.0.0,>=2.7.4->langchain<0.4.0,>=0.3.16->langchain-community) (2.27.2)\n",
      "Requirement already satisfied: mypy-extensions>=0.3.0 in /home/suraj/Danphe-Software-Labs/Mindgym/langchain_tutorial/env/lib/python3.11/site-packages (from typing-inspect<1,>=0.4.0->dataclasses-json<0.7,>=0.5.7->langchain-community) (1.0.0)\n",
      "Requirement already satisfied: sniffio>=1.1 in /home/suraj/Danphe-Software-Labs/Mindgym/langchain_tutorial/env/lib/python3.11/site-packages (from anyio->httpx<1,>=0.23.0->langsmith<0.4,>=0.1.125->langchain-community) (1.3.1)\n",
      "\n",
      "\u001b[1m[\u001b[0m\u001b[34;49mnotice\u001b[0m\u001b[1;39;49m]\u001b[0m\u001b[39;49m A new release of pip is available: \u001b[0m\u001b[31;49m23.2.1\u001b[0m\u001b[39;49m -> \u001b[0m\u001b[32;49m25.0\u001b[0m\n",
      "\u001b[1m[\u001b[0m\u001b[34;49mnotice\u001b[0m\u001b[1;39;49m]\u001b[0m\u001b[39;49m To update, run: \u001b[0m\u001b[32;49mpip install --upgrade pip\u001b[0m\n"
     ]
    }
   ],
   "source": [
    "!pip install langchain-community pypdf"
   ]
  },
  {
   "cell_type": "markdown",
   "metadata": {},
   "source": [
    "### Loading documents"
   ]
  },
  {
   "cell_type": "code",
   "execution_count": 2,
   "metadata": {},
   "outputs": [],
   "source": [
    "from langchain_community.document_loaders import PyPDFLoader\n",
    "\n",
    "file_path = \"./nke-10k-2023.pdf\"\n",
    "loader = PyPDFLoader(file_path)\n",
    "\n",
    "docs = loader.load()"
   ]
  },
  {
   "cell_type": "code",
   "execution_count": 3,
   "metadata": {},
   "outputs": [
    {
     "name": "stdout",
     "output_type": "stream",
     "text": [
      "107\n"
     ]
    },
    {
     "data": {
      "text/plain": [
       "[Document(metadata={'source': './nke-10k-2023.pdf', 'page': 0, 'page_label': '1'}, page_content=\"Table of Contents\\nUNITED STATES\\nSECURITIES AND EXCHANGE COMMISSION\\nWashington, D.C. 20549\\nFORM 10-K\\n(Mark One)\\n☑  ANNUAL REPORT PURSUANT TO SECTION 13 OR 15(D) OF THE SECURITIES EXCHANGE ACT OF 1934\\nFOR THE FISCAL YEAR ENDED MAY 31, 2023\\nOR\\n☐  TRANSITION REPORT PURSUANT TO SECTION 13 OR 15(D) OF THE SECURITIES EXCHANGE ACT OF 1934\\nFOR THE TRANSITION PERIOD FROM                         TO                         .\\nCommission File No. 1-10635\\nNIKE, Inc.\\n(Exact name of Registrant as specified in its charter)\\nOregon 93-0584541\\n(State or other jurisdiction of incorporation) (IRS Employer Identification No.)\\nOne Bowerman Drive, Beaverton, Oregon 97005-6453\\n(Address of principal executive offices and zip code)\\n(503) 671-6453\\n(Registrant's telephone number, including area code)\\nSECURITIES REGISTERED PURSUANT TO SECTION 12(B) OF THE ACT:\\nClass B Common Stock NKE New York Stock Exchange\\n(Title of each class) (Trading symbol) (Name of each exchange on which registered)\\nSECURITIES REGISTERED PURSUANT TO SECTION 12(G) OF THE ACT:\\nNONE\\nIndicate by check mark: YES NO\\n• if the registrant is a well-known seasoned issuer, as defined in Rule 405 of the Securities Act. þ ¨ \\n• if the registrant is not required to file reports pursuant to Section 13 or Section 15(d) of the Act. ¨ þ \\n• whether the registrant (1) has filed all reports required to be filed by Section 13 or 15(d) of the Securities Exchange Act of 1934 during the preceding\\n12 months (or for such shorter period that the registrant was required to file such reports), and (2) has been subject to such filing requirements for the\\npast 90 days.\\nþ ¨ \\n• whether the registrant has submitted electronically every Interactive Data File required to be submitted pursuant to Rule 405 of Regulation S-T\\n(§232.405 of this chapter) during the preceding 12 months (or for such shorter period that the registrant was required to submit such files).\\nþ ¨ \\n• whether the registrant is a large accelerated filer, an accelerated filer, a non-accelerated filer, a smaller reporting company or an emerging growth company. See the definitions of “large accelerated filer,”\\n“accelerated filer,” “smaller reporting company,” and “emerging growth company” in Rule 12b-2 of the Exchange Act.\\nLarge accelerated filer þ Accelerated filer ☐ Non-accelerated filer ☐ Smaller reporting company ☐ Emerging growth company ☐ \\n• if an emerging growth company, if the registrant has elected not to use the extended transition period for complying with any new or revised financial\\naccounting standards provided pursuant to Section 13(a) of the Exchange Act.\\n¨ \\n• whether the registrant has filed a report on and attestation to its management's assessment of the effectiveness of its internal control over financial\\nreporting under Section 404(b) of the Sarbanes-Oxley Act (15 U.S.C. 7262(b)) by the registered public accounting firm that prepared or issued its audit\\nreport.\\nþ \\n• if securities are registered pursuant to Section 12(b) of the Act, whether the financial statements of the registrant included in the filing reflect the\\ncorrection of an error to previously issued financial statements.\\n¨ \\n• whether any of those error corrections are restatements that required a recovery analysis of incentive-based compensation received by any of the\\nregistrant's executive officers during the relevant recovery period pursuant to § 240.10D-1(b).\\n¨ \\n• whether the registrant is a shell company (as defined in Rule 12b-2 of the Act). ☐ þ \\nAs of November 30, 2022, the aggregate market values of the Registrant's Common Stock held by non-affiliates were:\\nClass A $ 7,831,564,572 \\nClass B 136,467,702,472 \\n$ 144,299,267,044 \"),\n",
       " Document(metadata={'source': './nke-10k-2023.pdf', 'page': 1, 'page_label': '2'}, page_content=\"Table of Contents\\nAs of July 12, 2023, the number of shares of the Registrant's Common Stock outstanding were:\\nClass A 304,897,252 \\nClass B 1,225,074,356 \\n1,529,971,608 \\nDOCUMENTS INCORPORATED BY REFERENCE:\\nParts of Registrant's Proxy Statement for the Annual Meeting of Shareholders to be held on September 12, 2023, are incorporated by reference into Part III of this report.\"),\n",
       " Document(metadata={'source': './nke-10k-2023.pdf', 'page': 2, 'page_label': '3'}, page_content=\"Table of Contents\\nNIKE, INC.ANNUAL REPORT ON FORM 10-KTABLE OF CONTENTS\\nPAGE\\nPART I 1\\nITEM 1. Business 1\\nGeneral 1\\nProducts 1\\nSales and Marketing 2\\nOur Markets 2\\nSignificant Customer 3\\nProduct Research, Design and Development 3\\nManufacturing 3\\nInternational Operations and Trade 4\\nCompetition 5\\nTrademarks and Patents 5\\nHuman Capital Resources 6\\nAvailable Information and Websites 7\\nInformation about our Executive Officers 8\\nITEM 1A.Risk Factors 9\\nITEM 1B.Unresolved Staff Comments 24\\nITEM 2. Properties 24\\nITEM 3. Legal Proceedings 24\\nITEM 4. Mine Safety Disclosures 24\\nPART II 25\\nITEM 5. Market for Registrant's Common Equity, Related Stockholder Matters and Issuer Purchases of Equity Securities 25\\nITEM 6. Reserved 27\\nITEM 7. Management's Discussion and Analysis of Financial Condition and Results of Operations 28\\nITEM 7A.Quantitative and Qualitative Disclosures about Market Risk 49\\nITEM 8. Financial Statements and Supplementary Data 51\\nITEM 9. Changes in and Disagreements with Accountants on Accounting and Financial Disclosure 91\\nITEM 9A.Controls and Procedures 91\\nITEM 9B.Other Information 91\\nITEM 9C.Disclosure Regarding Foreign Jurisdictions that Prevent Inspections 91\\nPART III 92\\n(Except for the information set forth under “Information about our Executive Officers” in Item 1 above, Part III is incorporated by reference from the ProxyStatement for the NIKE, Inc. 2023 Annual Meeting of Shareholders.)\\nITEM 10.Directors, Executive Officers and Corporate Governance 92\\nITEM 11. Executive Compensation 92\\nITEM 12.Security Ownership of Certain Beneficial Owners and Management and Related Stockholder Matters 92\\nITEM 13.Certain Relationships and Related Transactions and Director Independence 92\\nITEM 14.Principal Accountant Fees and Services 92\\nPART IV 93\\nITEM 15.Exhibits and Financial Statement Schedules 93\\nITEM 16.Form 10-K Summary 97\\nSignatures 99\"),\n",
       " Document(metadata={'source': './nke-10k-2023.pdf', 'page': 3, 'page_label': '4'}, page_content='Table of Contents\\nPART I\\nITEM 1. BUSINESS\\nGENERAL\\nNIKE, Inc. was incorporated in 1967 under the laws of the State of Oregon. As used in this Annual Report on Form 10-K (this \"Annual Report\"), the terms \"we,\" \"us,\" \"our,\"\\n\"NIKE\" and the \"Company\" refer to NIKE, Inc. and its predecessors, subsidiaries and affiliates, collectively, unless the context indicates otherwise.\\nOur principal business activity is the design, development and worldwide marketing and selling of athletic footwear, apparel, equipment, accessories and services. NIKE is\\nthe largest seller of athletic footwear and apparel in the world. We sell our products through NIKE Direct operations, which are comprised of both NIKE-owned retail stores\\nand sales through our digital platforms (also referred to as \"NIKE Brand Digital\"), to retail accounts and to a mix of independent distributors, licensees and sales\\nrepresentatives in nearly all countries around the world. We also offer interactive consumer services and experiences through our digital platforms. Nearly all of our\\nproducts are manufactured by independent contractors. Nearly all footwear and apparel products are manufactured outside the United States, while equipment products\\nare manufactured both in the United States and abroad.\\nAll references to fiscal 2023, 2022, 2021 and 2020 are to NIKE, Inc.\\'s fiscal years ended May 31, 2023, 2022, 2021 and 2020, respectively. Any references to other fiscal\\nyears refer to a fiscal year ending on May 31 of that year.\\nPRODUCTS\\nOur NIKE Brand product offerings are aligned around our consumer construct focused on Men\\'s, Women\\'s and Kids\\'. We also design products specifically for the Jordan\\nBrand and Converse. We believe this approach allows us to create products that better meet individual consumer needs while accelerating our largest growth\\nopportunities.\\nNIKE\\'s athletic footwear products are designed primarily for specific athletic use, although a large percentage of the products are worn for casual or leisure purposes. We\\nplace considerable emphasis on innovation and high-quality construction in the development and manufacturing of our products. Our Men\\'s, Women\\'s and Jordan Brand\\nfootwear products currently lead in footwear sales and we expect them to continue to do so.\\nWe also sell sports apparel, which features the same trademarks and are sold predominantly through the same marketing and distribution channels as athletic footwear.\\nOur sports apparel, similar to our athletic footwear products, is designed primarily for athletic use, although many of the products are worn for casual or leisure purposes,\\nand demonstrates our commitment to innovation and high-quality construction. Our Men\\'s and Women\\'s apparel products currently lead in apparel sales and we expect\\nthem to continue to do so. We often market footwear, apparel and accessories in \"collections\" of similar use or by category. We also market apparel with licensed college\\nand professional team and league logos.\\nWe sell a line of performance equipment and accessories under the NIKE Brand name, including bags, socks, sport balls, eyewear, timepieces, digital devices, bats,\\ngloves, protective equipment and other equipment designed for sports activities. We also sell small amounts of various plastic products to other manufacturers through\\nour wholly-owned subsidiary, NIKE IHM, Inc., doing business as Air Manufacturing Innovation.\\nOur Jordan Brand designs, distributes and licenses athletic and casual footwear, apparel and accessories predominantly focused on basketball performance and culture\\nusing the Jumpman trademark. Sales and operating results for Jordan Brand products are reported within the respective NIKE Brand geographic operating segments.\\nOur wholly-owned subsidiary brand, Converse, headquartered in Boston, Massachusetts, designs, distributes and licenses casual sneakers, apparel and accessories\\nunder the Converse, Chuck Taylor, All Star, One Star, Star Chevron and Jack Purcell trademarks. Operating results of the Converse brand are reported on a stand-alone\\nbasis.\\nIn addition to the products we sell to our wholesale customers and directly to consumers through our NIKE Direct operations, we have also entered into license\\nagreements that permit unaffiliated parties to manufacture and sell, using NIKE-owned trademarks, certain apparel, digital devices and applications and other equipment\\ndesigned for sports activities.\\n2023 FORM 10-K 1'),\n",
       " Document(metadata={'source': './nke-10k-2023.pdf', 'page': 4, 'page_label': '5'}, page_content='Table of Contents\\nWe also offer interactive consumer services and experiences as well as digital products through our digital platforms, including fitness and activity apps; sport, fitness and\\nwellness content; and digital services and features in retail stores that enhance the consumer experience.\\nSALES AND MARKETING\\nWe experience moderate fluctuations in aggregate sales volume during the year. Historically, revenues in the first and fourth fiscal quarters have slightly exceeded those\\nin the second and third fiscal quarters. However, the mix of product sales may vary considerably as a result of changes in seasonal and geographic demand for particular\\ntypes of footwear, apparel and equipment, as well as other macroeconomic, strategic, operating and logistics-related factors.\\nBecause NIKE is a consumer products company, the relative popularity and availability of various sports and fitness activities, as well as changing design trends, affect\\nthe demand for our products. We must, therefore, respond to trends and shifts in consumer preferences by adjusting the mix of existing product offerings, developing new\\nproducts, styles and categories and influencing sports and fitness preferences through extensive marketing. Failure to respond in a timely and adequate manner could\\nhave a material adverse effect on our sales and profitability. This is a continuing risk. Refer to Item 1A. Risk Factors.\\nOUR MARKETS\\nWe report our NIKE Brand operations based on our internal geographic organization. Each NIKE Brand geographic segment operates predominantly in one industry: the\\ndesign, development, marketing and selling of athletic footwear, apparel and equipment. The Company\\'s reportable operating segments for the NIKE Brand are: North\\nAmerica; Europe, Middle East & Africa (\"EMEA\"); Greater China; and Asia Pacific & Latin America (\"APLA\"), and include results for the NIKE and Jordan brands. Sales\\nthrough our NIKE Direct operations are managed within each geographic operating segment.\\nConverse is also a reportable operating segment and operates predominately in one industry: the design, marketing, licensing and selling of casual sneakers, apparel and\\naccessories. Converse direct to consumer operations, including digital commerce, are reported within the Converse operating segment results.\\nUNITED STATES MARKET\\nFor fiscal 2023, NIKE Brand and Converse sales in the United States accounted for approximately 43% of total revenues, compared to 40% and 39% for fiscal 2022 and\\nfiscal 2021, respectively. We sell our products to thousands of retail accounts in the United States, including a mix of footwear stores, sporting goods stores, athletic\\nspecialty stores, department stores, skate, tennis and golf shops and other retail accounts. In the United States, we utilize NIKE sales offices to solicit such sales. During\\nfiscal 2023, our three largest United States customers accounted for approximately 22% of sales in the United States.\\nOur NIKE Direct and Converse direct to consumer operations sell our products to consumers through various digital platforms. In addition, our NIKE Direct and Converse\\ndirect to consumer operations sell products through the following number of retail stores in the United States:\\nU.S. RETAIL STORES NUMBER\\nNIKE Brand factory stores 213 \\nNIKE Brand in-line stores (including employee-only stores) 74 \\nConverse stores (including factory stores) 82 \\nTOTAL 369 \\nIn the United States, NIKE has eight significant distribution centers. Refer to Item 2. Properties for further information.\\n2023 FORM 10-K 2')]"
      ]
     },
     "execution_count": 3,
     "metadata": {},
     "output_type": "execute_result"
    }
   ],
   "source": [
    "print(len(docs))\n",
    "\n",
    "docs[:5]"
   ]
  },
  {
   "cell_type": "code",
   "execution_count": 4,
   "metadata": {},
   "outputs": [
    {
     "name": "stdout",
     "output_type": "stream",
     "text": [
      "Table of Contents\n",
      "UNITED STATES\n",
      "SECURITIES AND EXCHANGE COMMISSION\n",
      "Washington, D.C. 20549\n",
      "FORM 10-K\n",
      "(Mark One)\n",
      "☑  ANNUAL REPORT PURSUANT TO SECTION 13 OR 15(D) OF THE SECURITIES EXCHANGE ACT OF 1934\n",
      "F\n",
      "Metadata: {'source': './nke-10k-2023.pdf', 'page': 0, 'page_label': '1'}\n"
     ]
    }
   ],
   "source": [
    "print(docs[0].page_content[:200])\n",
    "\n",
    "print(\"Metadata:\", docs[0].metadata)"
   ]
  },
  {
   "cell_type": "markdown",
   "metadata": {},
   "source": [
    "### Splitting\n",
    "\n",
    "Split our documents into chunks of 1000 characters with 200 characters of overlap between chunks."
   ]
  },
  {
   "cell_type": "code",
   "execution_count": 5,
   "metadata": {},
   "outputs": [],
   "source": [
    "from langchain_text_splitters import RecursiveCharacterTextSplitter\n",
    "\n",
    "text_splitter = RecursiveCharacterTextSplitter(\n",
    "    chunk_size=1000, chunk_overlap=200, add_start_index=True\n",
    ")\n",
    "all_splits = text_splitter.split_documents(docs)"
   ]
  },
  {
   "cell_type": "code",
   "execution_count": 6,
   "metadata": {},
   "outputs": [
    {
     "data": {
      "text/plain": [
       "516"
      ]
     },
     "execution_count": 6,
     "metadata": {},
     "output_type": "execute_result"
    }
   ],
   "source": [
    "len(all_splits)"
   ]
  },
  {
   "cell_type": "code",
   "execution_count": 7,
   "metadata": {},
   "outputs": [
    {
     "data": {
      "text/plain": [
       "Document(metadata={'source': './nke-10k-2023.pdf', 'page': 0, 'page_label': '1', 'start_index': 0}, page_content=\"Table of Contents\\nUNITED STATES\\nSECURITIES AND EXCHANGE COMMISSION\\nWashington, D.C. 20549\\nFORM 10-K\\n(Mark One)\\n☑  ANNUAL REPORT PURSUANT TO SECTION 13 OR 15(D) OF THE SECURITIES EXCHANGE ACT OF 1934\\nFOR THE FISCAL YEAR ENDED MAY 31, 2023\\nOR\\n☐  TRANSITION REPORT PURSUANT TO SECTION 13 OR 15(D) OF THE SECURITIES EXCHANGE ACT OF 1934\\nFOR THE TRANSITION PERIOD FROM                         TO                         .\\nCommission File No. 1-10635\\nNIKE, Inc.\\n(Exact name of Registrant as specified in its charter)\\nOregon 93-0584541\\n(State or other jurisdiction of incorporation) (IRS Employer Identification No.)\\nOne Bowerman Drive, Beaverton, Oregon 97005-6453\\n(Address of principal executive offices and zip code)\\n(503) 671-6453\\n(Registrant's telephone number, including area code)\\nSECURITIES REGISTERED PURSUANT TO SECTION 12(B) OF THE ACT:\\nClass B Common Stock NKE New York Stock Exchange\\n(Title of each class) (Trading symbol) (Name of each exchange on which registered)\")"
      ]
     },
     "execution_count": 7,
     "metadata": {},
     "output_type": "execute_result"
    }
   ],
   "source": [
    "all_splits[0]"
   ]
  },
  {
   "cell_type": "markdown",
   "metadata": {},
   "source": [
    "### Embeddings\n",
    "\n",
    "Vector search is a common way to store and search over unstructured data (such as unstructured text). The idea is to store numeric vectors that are associated with the text. Given a query, we can embed it as a vector of the same dimension and use vector similarity metrics (such as cosine similarity) to identify related text."
   ]
  },
  {
   "cell_type": "code",
   "execution_count": 8,
   "metadata": {},
   "outputs": [
    {
     "name": "stderr",
     "output_type": "stream",
     "text": [
      "/home/suraj/Danphe-Software-Labs/Mindgym/langchain_tutorial/env/lib/python3.11/site-packages/tqdm/auto.py:21: TqdmWarning: IProgress not found. Please update jupyter and ipywidgets. See https://ipywidgets.readthedocs.io/en/stable/user_install.html\n",
      "  from .autonotebook import tqdm as notebook_tqdm\n"
     ]
    }
   ],
   "source": [
    "from langchain_huggingface import HuggingFaceEmbeddings\n",
    "\n",
    "model_name = \"sentence-transformers/all-MiniLM-L6-v2\"\n",
    "embedding_model = HuggingFaceEmbeddings(model_name=model_name)"
   ]
  },
  {
   "cell_type": "code",
   "execution_count": 9,
   "metadata": {},
   "outputs": [
    {
     "name": "stdout",
     "output_type": "stream",
     "text": [
      "Generated vectors of length 384\n",
      "\n",
      "[-0.024540932849049568, -0.11797189712524414, 0.004213640931993723, 0.018862487748265266, 0.002389059402048588, 0.09116826206445694, 0.03516406565904617, 0.012289813719689846, -0.006725108716636896, -0.033514976501464844]\n"
     ]
    }
   ],
   "source": [
    "vector_1 = embedding_model.embed_query(all_splits[0].page_content)\n",
    "vector_2 = embedding_model.embed_query(all_splits[1].page_content)\n",
    "\n",
    "assert len(vector_1) == len(vector_2)\n",
    "\n",
    "print(f\"Generated vectors of length {len(vector_1)}\\n\")\n",
    "print(vector_1[:10])"
   ]
  },
  {
   "cell_type": "markdown",
   "metadata": {},
   "source": [
    "### Vector stores\n",
    "\n",
    "LangChain VectorStore objects contain methods for adding text and Document objects to the store, and querying them using various similarity metrics. "
   ]
  },
  {
   "cell_type": "code",
   "execution_count": 10,
   "metadata": {},
   "outputs": [],
   "source": [
    "from langchain_core.vectorstores import InMemoryVectorStore\n",
    "\n",
    "vector_store = InMemoryVectorStore(embedding_model)"
   ]
  },
  {
   "cell_type": "markdown",
   "metadata": {},
   "source": [
    "It can index the documents"
   ]
  },
  {
   "cell_type": "code",
   "execution_count": 11,
   "metadata": {},
   "outputs": [],
   "source": [
    "ids = vector_store.add_documents(documents=all_splits)"
   ]
  },
  {
   "cell_type": "markdown",
   "metadata": {},
   "source": [
    "Return documents based on similarity to a string query:"
   ]
  },
  {
   "cell_type": "code",
   "execution_count": 12,
   "metadata": {},
   "outputs": [
    {
     "name": "stdout",
     "output_type": "stream",
     "text": [
      "page_content='direct to consumer operations sell products through the following number of retail stores in the United States:\n",
      "U.S. RETAIL STORES NUMBER\n",
      "NIKE Brand factory stores 213 \n",
      "NIKE Brand in-line stores (including employee-only stores) 74 \n",
      "Converse stores (including factory stores) 82 \n",
      "TOTAL 369 \n",
      "In the United States, NIKE has eight significant distribution centers. Refer to Item 2. Properties for further information.\n",
      "2023 FORM 10-K 2' metadata={'source': './nke-10k-2023.pdf', 'page': 4, 'page_label': '5', 'start_index': 3125}\n"
     ]
    }
   ],
   "source": [
    "results = vector_store.similarity_search(\n",
    "    \"How many distribution centers does Nike have in the US?\"\n",
    ")\n",
    "\n",
    "print(results[0])"
   ]
  },
  {
   "cell_type": "markdown",
   "metadata": {},
   "source": [
    "Async query"
   ]
  },
  {
   "cell_type": "code",
   "execution_count": 13,
   "metadata": {},
   "outputs": [
    {
     "name": "stdout",
     "output_type": "stream",
     "text": [
      "page_content='Table of Contents\n",
      "PART I\n",
      "ITEM 1. BUSINESS\n",
      "GENERAL\n",
      "NIKE, Inc. was incorporated in 1967 under the laws of the State of Oregon. As used in this Annual Report on Form 10-K (this \"Annual Report\"), the terms \"we,\" \"us,\" \"our,\"\n",
      "\"NIKE\" and the \"Company\" refer to NIKE, Inc. and its predecessors, subsidiaries and affiliates, collectively, unless the context indicates otherwise.\n",
      "Our principal business activity is the design, development and worldwide marketing and selling of athletic footwear, apparel, equipment, accessories and services. NIKE is\n",
      "the largest seller of athletic footwear and apparel in the world. We sell our products through NIKE Direct operations, which are comprised of both NIKE-owned retail stores\n",
      "and sales through our digital platforms (also referred to as \"NIKE Brand Digital\"), to retail accounts and to a mix of independent distributors, licensees and sales' metadata={'source': './nke-10k-2023.pdf', 'page': 3, 'page_label': '4', 'start_index': 0}\n"
     ]
    }
   ],
   "source": [
    "results = await vector_store.asimilarity_search(\"When was Nike incorporated?\")\n",
    "\n",
    "print(results[0])"
   ]
  },
  {
   "cell_type": "markdown",
   "metadata": {},
   "source": [
    "Return scores:"
   ]
  },
  {
   "cell_type": "code",
   "execution_count": 14,
   "metadata": {},
   "outputs": [
    {
     "name": "stdout",
     "output_type": "stream",
     "text": [
      "Score: 0.8032568929340668\n",
      "\n",
      "page_content='Table of Contents\n",
      "FISCAL 2023 NIKE BRAND REVENUE HIGHLIGHTSThe following tables present NIKE Brand revenues disaggregated by reportable operating segment, distribution channel and major product line:\n",
      "FISCAL 2023 COMPARED TO FISCAL 2022\n",
      "• NIKE, Inc. Revenues were $51.2 billion in fiscal 2023, which increased 10% and 16% compared to fiscal 2022 on a reported and currency-neutral basis, respectively.\n",
      "The increase was due to higher revenues in North America, Europe, Middle East & Africa (\"EMEA\"), APLA and Greater China, which contributed approximately 7, 6,\n",
      "2 and 1 percentage points to NIKE, Inc. Revenues, respectively.\n",
      "• NIKE Brand revenues, which represented over 90% of NIKE, Inc. Revenues, increased 10% and 16% on a reported and currency-neutral basis, respectively. This\n",
      "increase was primarily due to higher revenues in Men's, the Jordan Brand, Women's and Kids' which grew 17%, 35%,11% and 10%, respectively, on a wholesale\n",
      "equivalent basis.' metadata={'source': './nke-10k-2023.pdf', 'page': 35, 'page_label': '36', 'start_index': 0}\n"
     ]
    }
   ],
   "source": [
    "results = vector_store.similarity_search_with_score(\"What was Nike's revenue in 2023?\")\n",
    "doc, score = results[0]\n",
    "print(f\"Score: {score}\\n\")\n",
    "print(doc)"
   ]
  },
  {
   "cell_type": "markdown",
   "metadata": {},
   "source": [
    "### Retrievers"
   ]
  },
  {
   "cell_type": "code",
   "execution_count": 15,
   "metadata": {},
   "outputs": [
    {
     "data": {
      "text/plain": [
       "[[Document(id='8f759412-e64b-4b9e-aa3a-b2ae65db9ec4', metadata={'source': './nke-10k-2023.pdf', 'page': 4, 'page_label': '5', 'start_index': 3125}, page_content='direct to consumer operations sell products through the following number of retail stores in the United States:\\nU.S. RETAIL STORES NUMBER\\nNIKE Brand factory stores 213 \\nNIKE Brand in-line stores (including employee-only stores) 74 \\nConverse stores (including factory stores) 82 \\nTOTAL 369 \\nIn the United States, NIKE has eight significant distribution centers. Refer to Item 2. Properties for further information.\\n2023 FORM 10-K 2')],\n",
       " [Document(id='aa870b96-f8e8-4a0a-8138-6b76619c2819', metadata={'source': './nke-10k-2023.pdf', 'page': 3, 'page_label': '4', 'start_index': 0}, page_content='Table of Contents\\nPART I\\nITEM 1. BUSINESS\\nGENERAL\\nNIKE, Inc. was incorporated in 1967 under the laws of the State of Oregon. As used in this Annual Report on Form 10-K (this \"Annual Report\"), the terms \"we,\" \"us,\" \"our,\"\\n\"NIKE\" and the \"Company\" refer to NIKE, Inc. and its predecessors, subsidiaries and affiliates, collectively, unless the context indicates otherwise.\\nOur principal business activity is the design, development and worldwide marketing and selling of athletic footwear, apparel, equipment, accessories and services. NIKE is\\nthe largest seller of athletic footwear and apparel in the world. We sell our products through NIKE Direct operations, which are comprised of both NIKE-owned retail stores\\nand sales through our digital platforms (also referred to as \"NIKE Brand Digital\"), to retail accounts and to a mix of independent distributors, licensees and sales')]]"
      ]
     },
     "execution_count": 15,
     "metadata": {},
     "output_type": "execute_result"
    }
   ],
   "source": [
    "from typing import List \n",
    "\n",
    "from langchain_core.documents import Document \n",
    "from langchain_core.runnables import chain \n",
    "\n",
    "@chain \n",
    "def retriever(query: str) -> List[Document]:\n",
    "    return vector_store.similarity_search(query, k=1)\n",
    "\n",
    "retriever.batch(\n",
    "    [\n",
    "        \"How many distribution centers does Nike have in the US?\",\n",
    "        \"When was Nike incorporated?\",\n",
    "    ],\n",
    ")"
   ]
  },
  {
   "cell_type": "markdown",
   "metadata": {},
   "source": [
    "Vectorstores implement an `as_retriever` method that will generate a Retriever, specifically a VectorStoreRetriever. "
   ]
  },
  {
   "cell_type": "code",
   "execution_count": 16,
   "metadata": {},
   "outputs": [
    {
     "data": {
      "text/plain": [
       "[[Document(id='8f759412-e64b-4b9e-aa3a-b2ae65db9ec4', metadata={'source': './nke-10k-2023.pdf', 'page': 4, 'page_label': '5', 'start_index': 3125}, page_content='direct to consumer operations sell products through the following number of retail stores in the United States:\\nU.S. RETAIL STORES NUMBER\\nNIKE Brand factory stores 213 \\nNIKE Brand in-line stores (including employee-only stores) 74 \\nConverse stores (including factory stores) 82 \\nTOTAL 369 \\nIn the United States, NIKE has eight significant distribution centers. Refer to Item 2. Properties for further information.\\n2023 FORM 10-K 2')],\n",
       " [Document(id='aa870b96-f8e8-4a0a-8138-6b76619c2819', metadata={'source': './nke-10k-2023.pdf', 'page': 3, 'page_label': '4', 'start_index': 0}, page_content='Table of Contents\\nPART I\\nITEM 1. BUSINESS\\nGENERAL\\nNIKE, Inc. was incorporated in 1967 under the laws of the State of Oregon. As used in this Annual Report on Form 10-K (this \"Annual Report\"), the terms \"we,\" \"us,\" \"our,\"\\n\"NIKE\" and the \"Company\" refer to NIKE, Inc. and its predecessors, subsidiaries and affiliates, collectively, unless the context indicates otherwise.\\nOur principal business activity is the design, development and worldwide marketing and selling of athletic footwear, apparel, equipment, accessories and services. NIKE is\\nthe largest seller of athletic footwear and apparel in the world. We sell our products through NIKE Direct operations, which are comprised of both NIKE-owned retail stores\\nand sales through our digital platforms (also referred to as \"NIKE Brand Digital\"), to retail accounts and to a mix of independent distributors, licensees and sales')]]"
      ]
     },
     "execution_count": 16,
     "metadata": {},
     "output_type": "execute_result"
    }
   ],
   "source": [
    "retriever = vector_store.as_retriever(\n",
    "    search_type=\"similarity\",\n",
    "    search_kwargs={\"k\": 1},\n",
    ")\n",
    "\n",
    "retriever.batch(\n",
    "    [\n",
    "        \"How many distribution centers does Nike have in the US?\",\n",
    "        \"When was Nike incorporated?\",\n",
    "    ],\n",
    ")"
   ]
  },
  {
   "cell_type": "markdown",
   "metadata": {},
   "source": [
    "Retrievers can easily be incorporated into more complex applications, such as **retrieval-augmented generation (RAG)** applications that combine a given question with retrieved context into a prompt for a LLM."
   ]
  }
 ],
 "metadata": {
  "kernelspec": {
   "display_name": "env",
   "language": "python",
   "name": "python3"
  },
  "language_info": {
   "codemirror_mode": {
    "name": "ipython",
    "version": 3
   },
   "file_extension": ".py",
   "mimetype": "text/x-python",
   "name": "python",
   "nbconvert_exporter": "python",
   "pygments_lexer": "ipython3",
   "version": "3.11.5"
  }
 },
 "nbformat": 4,
 "nbformat_minor": 2
}
