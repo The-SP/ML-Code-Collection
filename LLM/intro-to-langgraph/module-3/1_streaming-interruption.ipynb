{
 "cells": [
  {
   "cell_type": "markdown",
   "id": "ddc2496b",
   "metadata": {},
   "source": [
    "## Streaming\n",
    "\n",
    "LangGraph is built with [first class support for streaming](https://langchain-ai.github.io/langgraph/concepts/low_level/#streaming).\n",
    "\n",
    "Let's set up our Chatbot from Module 2, and show various way to stream outputs from the graph during execution. "
   ]
  },
  {
   "cell_type": "code",
   "execution_count": 1,
   "id": "74af8925",
   "metadata": {},
   "outputs": [
    {
     "data": {
      "text/plain": [
       "True"
      ]
     },
     "execution_count": 1,
     "metadata": {},
     "output_type": "execute_result"
    }
   ],
   "source": [
    "from dotenv import load_dotenv\n",
    "\n",
    "load_dotenv()"
   ]
  },
  {
   "cell_type": "code",
   "execution_count": null,
   "id": "50f2a44e",
   "metadata": {},
   "outputs": [],
   "source": [
    "from langchain_google_genai import ChatGoogleGenerativeAI\n",
    "\n",
    "llm = ChatGoogleGenerativeAI(model=\"gemini-2.0-flash\")"
   ]
  },
  {
   "cell_type": "code",
   "execution_count": 8,
   "id": "77c65e22",
   "metadata": {},
   "outputs": [],
   "source": [
    "from IPython.display import Image, display\n",
    "from langchain_core.messages import HumanMessage, RemoveMessage, SystemMessage\n",
    "from langchain_google_genai import ChatGoogleGenerativeAI\n",
    "from langgraph.checkpoint.memory import MemorySaver\n",
    "from langgraph.graph import END, START, MessagesState, StateGraph\n",
    "\n",
    "# LLM\n",
    "model = ChatGoogleGenerativeAI(model=\"gemini-2.0-flash\")\n",
    "\n",
    "\n",
    "# State\n",
    "class State(MessagesState):\n",
    "    summary: str\n",
    "\n",
    "\n",
    "def call_model(state: State):\n",
    "    # Get summary if it exists\n",
    "    summary = state.get(\"summary\", \"\")\n",
    "\n",
    "    # If there is summary, then we add it\n",
    "    if summary:\n",
    "        # Add summary to system message\n",
    "        system_message = f\"Summary of conversation earlier: {summary}\"\n",
    "\n",
    "        # Append summary to any newer messages\n",
    "        messages = [SystemMessage(content=system_message)] + state[\"messages\"]\n",
    "    else:\n",
    "        messages = state[\"messages\"]\n",
    "\n",
    "    response = model.invoke(messages)\n",
    "    return {\"messages\": response}\n",
    "\n",
    "\n",
    "def summarize_conversation(state: State):\n",
    "    # Get summary if it exists\n",
    "    summary = state.get(\"summary\", \"\")\n",
    "\n",
    "    # Create summarization prompt\n",
    "    if summary:\n",
    "        # A summary already exists\n",
    "        summary_message = (\n",
    "            f\"This is summary of the conversation to date: {summary}\\n\\n\"\n",
    "            \"Extend the summary by taking into account the new messages above:\"\n",
    "        )\n",
    "\n",
    "    else:\n",
    "        summary_message = \"Create a summary of the conversation above:\"\n",
    "\n",
    "    # Add prompt to our history\n",
    "    messages = state[\"messages\"] + [HumanMessage(content=summary_message)]\n",
    "    response = model.invoke(messages)\n",
    "\n",
    "    # Delete all but the 2 most recent messages\n",
    "    delete_messages = [RemoveMessage(id=m.id) for m in state[\"messages\"][:-2]]\n",
    "    return {\"summary\": response.content, \"messages\": delete_messages}\n",
    "\n",
    "\n",
    "# Determine whether to end or summarize the conversation\n",
    "def should_continue(state: State):\n",
    "    \"\"\"Return the next node to execute.\"\"\"\n",
    "\n",
    "    messages = state[\"messages\"]\n",
    "\n",
    "    # If there are more than six messages, then we summarize the conversation\n",
    "    if len(messages) > 6:\n",
    "        return \"summarize_conversation\"\n",
    "\n",
    "    # Otherwise we can just end\n",
    "    return END\n",
    "\n",
    "\n",
    "# Define a new graph\n",
    "workflow = StateGraph(State)\n",
    "workflow.add_node(\"conversation\", call_model)\n",
    "workflow.add_node(summarize_conversation)\n",
    "\n",
    "# Set the entrypoint as conversation\n",
    "workflow.add_edge(START, \"conversation\")\n",
    "workflow.add_conditional_edges(\"conversation\", should_continue)\n",
    "workflow.add_edge(\"summarize_conversation\", END)\n",
    "\n",
    "# Compile\n",
    "memory = MemorySaver()\n",
    "graph = workflow.compile(checkpointer=memory)"
   ]
  },
  {
   "cell_type": "markdown",
   "id": "534e9830",
   "metadata": {},
   "source": [
    "### Streaming full state\n",
    "\n",
    "Now, let's talk about ways to [stream our graph state](https://langchain-ai.github.io/langgraph/concepts/low_level/#streaming).\n",
    "\n",
    "`.stream` and `.astream` are sync and async methods for streaming back results. \n",
    " \n",
    "LangGraph supports a few [different streaming modes](https://langchain-ai.github.io/langgraph/how-tos/stream-values/) for [graph state](https://langchain-ai.github.io/langgraph/how-tos/stream-values/):\n",
    " \n",
    "* `values`: This streams the full state of the graph after each node is called.\n",
    "* `updates`: This streams updates to the state of the graph after each node is called.\n",
    "\n",
    "![values_vs_updates.png](https://cdn.prod.website-files.com/65b8cd72835ceeacd4449a53/66dbaf892d24625a201744e5_streaming1.png)\n",
    "\n",
    "Let's look at `stream_mode=\"updates\"`.\n",
    "\n",
    "Because we stream with `updates`, we only see updates to the state after node in the graph is run.\n",
    "\n",
    "Each `chunk` is a dict with `node_name` as the key and the updated state as the value."
   ]
  },
  {
   "cell_type": "code",
   "execution_count": 9,
   "id": "33f121cd",
   "metadata": {},
   "outputs": [
    {
     "name": "stdout",
     "output_type": "stream",
     "text": [
      "==================================\u001b[1m Ai Message \u001b[0m==================================\n",
      "\n",
      "Hi Lance! It's nice to meet you. How can I help you today?\n"
     ]
    }
   ],
   "source": [
    "# Create a thread\n",
    "config = {\"configurable\": {\"thread_id\": \"1\"}}\n",
    "\n",
    "# Start conversation\n",
    "for chunk in graph.stream({\"messages\": [HumanMessage(content=\"hi! I'm Lance\")]}, config, stream_mode=\"updates\"):\n",
    "    chunk['conversation'][\"messages\"].pretty_print()"
   ]
  },
  {
   "cell_type": "markdown",
   "id": "5304aa8d",
   "metadata": {},
   "source": [
    "Now, we can see `stream_mode=\"values\"`.\n",
    "\n",
    "This is the `full state` of the graph after the `conversation` node is called."
   ]
  },
  {
   "cell_type": "code",
   "execution_count": 10,
   "id": "562fca9e",
   "metadata": {},
   "outputs": [
    {
     "name": "stdout",
     "output_type": "stream",
     "text": [
      "================================\u001b[1m Human Message \u001b[0m=================================\n",
      "\n",
      "hi! I'm Lance\n",
      "---------------------------------------------------------------------------\n",
      "================================\u001b[1m Human Message \u001b[0m=================================\n",
      "\n",
      "hi! I'm Lance\n",
      "==================================\u001b[1m Ai Message \u001b[0m==================================\n",
      "\n",
      "Hi Lance! It's nice to meet you. How can I help you today?\n",
      "---------------------------------------------------------------------------\n"
     ]
    }
   ],
   "source": [
    "# Start conversation, again\n",
    "config = {\"configurable\": {\"thread_id\": \"2\"}}\n",
    "\n",
    "# Start conversation\n",
    "input_message = HumanMessage(content=\"hi! I'm Lance\")\n",
    "for event in graph.stream({\"messages\": [input_message]}, config, stream_mode=\"values\"):\n",
    "    for m in event['messages']:\n",
    "        m.pretty_print()\n",
    "    print(\"---\"*25)"
   ]
  },
  {
   "cell_type": "markdown",
   "id": "09dac15c",
   "metadata": {},
   "source": [
    "### Streaming tokens\n",
    "\n",
    "We often want to stream more than graph state.\n",
    "\n",
    "In particular, with chat model calls it is common to stream the tokens as they are generated.\n",
    "\n",
    "We can do this [using the `.astream_events` method](https://langchain-ai.github.io/langgraph/how-tos/streaming-from-final-node/#stream-outputs-from-the-final-node), which streams back events as they happen inside nodes!\n",
    "\n",
    "Each event is a dict with a few keys:\n",
    " \n",
    "* `event`: This is the type of event that is being emitted. \n",
    "* `name`: This is the name of event.\n",
    "* `data`: This is the data associated with the event.\n",
    "* `metadata`: Contains`langgraph_node`, the node emitting the event.\n",
    "\n",
    "Let's have a look."
   ]
  },
  {
   "cell_type": "code",
   "execution_count": 11,
   "id": "3f2131eb",
   "metadata": {},
   "outputs": [
    {
     "name": "stdout",
     "output_type": "stream",
     "text": [
      "Node: . Type: on_chain_start. Name: LangGraph\n",
      "Node: conversation. Type: on_chain_start. Name: conversation\n",
      "Node: conversation. Type: on_chat_model_start. Name: ChatGoogleGenerativeAI\n",
      "Node: conversation. Type: on_chat_model_stream. Name: ChatGoogleGenerativeAI\n",
      "Node: conversation. Type: on_chat_model_stream. Name: ChatGoogleGenerativeAI\n",
      "Node: conversation. Type: on_chat_model_stream. Name: ChatGoogleGenerativeAI\n",
      "Node: conversation. Type: on_chat_model_stream. Name: ChatGoogleGenerativeAI\n",
      "Node: conversation. Type: on_chat_model_stream. Name: ChatGoogleGenerativeAI\n",
      "Node: conversation. Type: on_chat_model_stream. Name: ChatGoogleGenerativeAI\n",
      "Node: conversation. Type: on_chat_model_stream. Name: ChatGoogleGenerativeAI\n",
      "Node: conversation. Type: on_chat_model_stream. Name: ChatGoogleGenerativeAI\n",
      "Node: conversation. Type: on_chat_model_stream. Name: ChatGoogleGenerativeAI\n",
      "Node: conversation. Type: on_chat_model_stream. Name: ChatGoogleGenerativeAI\n",
      "Node: conversation. Type: on_chat_model_stream. Name: ChatGoogleGenerativeAI\n",
      "Node: conversation. Type: on_chat_model_stream. Name: ChatGoogleGenerativeAI\n",
      "Node: conversation. Type: on_chat_model_stream. Name: ChatGoogleGenerativeAI\n",
      "Node: conversation. Type: on_chat_model_stream. Name: ChatGoogleGenerativeAI\n",
      "Node: conversation. Type: on_chat_model_stream. Name: ChatGoogleGenerativeAI\n",
      "Node: conversation. Type: on_chat_model_stream. Name: ChatGoogleGenerativeAI\n",
      "Node: conversation. Type: on_chat_model_stream. Name: ChatGoogleGenerativeAI\n",
      "Node: conversation. Type: on_chat_model_stream. Name: ChatGoogleGenerativeAI\n",
      "Node: conversation. Type: on_chat_model_stream. Name: ChatGoogleGenerativeAI\n",
      "Node: conversation. Type: on_chat_model_stream. Name: ChatGoogleGenerativeAI\n",
      "Node: conversation. Type: on_chat_model_stream. Name: ChatGoogleGenerativeAI\n",
      "Node: conversation. Type: on_chat_model_stream. Name: ChatGoogleGenerativeAI\n",
      "Node: conversation. Type: on_chat_model_stream. Name: ChatGoogleGenerativeAI\n",
      "Node: conversation. Type: on_chat_model_stream. Name: ChatGoogleGenerativeAI\n",
      "Node: conversation. Type: on_chat_model_end. Name: ChatGoogleGenerativeAI\n",
      "Node: conversation. Type: on_chain_start. Name: should_continue\n",
      "Node: conversation. Type: on_chain_end. Name: should_continue\n",
      "Node: conversation. Type: on_chain_stream. Name: conversation\n",
      "Node: conversation. Type: on_chain_end. Name: conversation\n",
      "Node: . Type: on_chain_stream. Name: LangGraph\n",
      "Node: . Type: on_chain_end. Name: LangGraph\n"
     ]
    }
   ],
   "source": [
    "config = {\"configurable\": {\"thread_id\": \"3\"}}\n",
    "input_message = HumanMessage(content=\"Tell me about the 49ers NFL team\")\n",
    "async for event in graph.astream_events({\"messages\": [input_message]}, config, version=\"v2\"):\n",
    "    print(f\"Node: {event['metadata'].get('langgraph_node','')}. Type: {event['event']}. Name: {event['name']}\")"
   ]
  },
  {
   "cell_type": "markdown",
   "id": "2cc83401",
   "metadata": {},
   "source": [
    "The central point is that tokens from chat models within your graph have the `on_chat_model_stream` type.\n",
    "\n",
    "We can use `event['metadata']['langgraph_node']` to select the node to stream from.\n",
    "\n",
    "And we can use `event['data']` to get the actual data for each event, which in this case is an `AIMessageChunk`. "
   ]
  },
  {
   "cell_type": "code",
   "execution_count": 12,
   "id": "3d089877",
   "metadata": {},
   "outputs": [
    {
     "name": "stdout",
     "output_type": "stream",
     "text": [
      "{'chunk': AIMessageChunk(content='Okay', additional_kwargs={}, response_metadata={'safety_ratings': []}, id='run--8785d3b1-704f-47ca-ab7f-dddc1a1a8020', usage_metadata={'input_tokens': 11, 'output_tokens': 0, 'total_tokens': 11, 'input_token_details': {'cache_read': 0}})}\n",
      "{'chunk': AIMessageChunk(content=\", here's a comprehensive overview of the San Francisco 49ers:\", additional_kwargs={}, response_metadata={'safety_ratings': []}, id='run--8785d3b1-704f-47ca-ab7f-dddc1a1a8020', usage_metadata={'input_tokens': 0, 'output_tokens': 0, 'total_tokens': 0, 'input_token_details': {'cache_read': 0}})}\n",
      "{'chunk': AIMessageChunk(content='\\n\\n**Franchise Information:**\\n\\n*   **Team Name:** San Francisco', additional_kwargs={}, response_metadata={'safety_ratings': []}, id='run--8785d3b1-704f-47ca-ab7f-dddc1a1a8020', usage_metadata={'input_tokens': 0, 'output_tokens': 0, 'total_tokens': 0, 'input_token_details': {'cache_read': 0}})}\n",
      "{'chunk': AIMessageChunk(content=' 49ers (often shortened to 49ers or Niners)\\n*   **City:** Santa Clara, California (though they represent the San Francisco Bay Area', additional_kwargs={}, response_metadata={'safety_ratings': []}, id='run--8785d3b1-704f-47ca-ab7f-dddc1a1a8020', usage_metadata={'input_tokens': 0, 'output_tokens': 0, 'total_tokens': 0, 'input_token_details': {'cache_read': 0}})}\n",
      "{'chunk': AIMessageChunk(content=')\\n*   **League:** National Football League (NFL)\\n*   **Conference:** National Football Conference (NFC)\\n*   **Division:** NFC West', additional_kwargs={}, response_metadata={'safety_ratings': []}, id='run--8785d3b1-704f-47ca-ab7f-dddc1a1a8020', usage_metadata={'input_tokens': 0, 'output_tokens': 0, 'total_tokens': 0, 'input_token_details': {'cache_read': 0}})}\n",
      "{'chunk': AIMessageChunk(content=\"\\n*   **Founded:** 1946 (as part of the All-America Football Conference - AAFC)\\n*   **Joined NFL:** 1950\\n*   **Home Stadium:** Levi's Stadium (opened\", additional_kwargs={}, response_metadata={'safety_ratings': []}, id='run--8785d3b1-704f-47ca-ab7f-dddc1a1a8020', usage_metadata={'input_tokens': 0, 'output_tokens': 0, 'total_tokens': 0, 'input_token_details': {'cache_read': 0}})}\n",
      "{'chunk': AIMessageChunk(content=' 2014)\\n*   **Team Colors:** Red, Gold, White\\n*   **Mascot:** Sourdough Sam\\n*   **Owner:** Denise DeBartolo York and family\\n*   **Head', additional_kwargs={}, response_metadata={'safety_ratings': []}, id='run--8785d3b1-704f-47ca-ab7f-dddc1a1a8020', usage_metadata={'input_tokens': 0, 'output_tokens': 0, 'total_tokens': 0, 'input_token_details': {'cache_read': 0}})}\n",
      "{'chunk': AIMessageChunk(content=' Coach:** Kyle Shanahan\\n*   **General Manager:** John Lynch\\n\\n**Historical Significance and Dynasty Years:**\\n\\n*   **Early Years (AAFC/Early NFL):**  The 49ers were a successful team in the AAFC before joining the NFL.  They were known for their offensive firepower, but', additional_kwargs={}, response_metadata={'safety_ratings': []}, id='run--8785d3b1-704f-47ca-ab7f-dddc1a1a8020', usage_metadata={'input_tokens': 0, 'output_tokens': 0, 'total_tokens': 0, 'input_token_details': {'cache_read': 0}})}\n",
      "{'chunk': AIMessageChunk(content=' struggled to find consistent success in the early NFL years.\\n*   **Bill Walsh Era (1979-1988):** This is the period that cemented the 49ers as a legendary franchise.  Bill Walsh, a revolutionary offensive mind, implemented the \"West Coast Offense,\" a precision', additional_kwargs={}, response_metadata={'safety_ratings': []}, id='run--8785d3b1-704f-47ca-ab7f-dddc1a1a8020', usage_metadata={'input_tokens': 0, 'output_tokens': 0, 'total_tokens': 0, 'input_token_details': {'cache_read': 0}})}\n",
      "{'chunk': AIMessageChunk(content=\" passing attack that emphasized short, controlled passes and yards after catch.\\n    *   **Joe Montana:** Walsh drafted Joe Montana, who became one of the greatest quarterbacks in NFL history.  Montana's poise, accuracy, and leadership were central to the 49ers' success.\\n    *   **Super\", additional_kwargs={}, response_metadata={'safety_ratings': []}, id='run--8785d3b1-704f-47ca-ab7f-dddc1a1a8020', usage_metadata={'input_tokens': 0, 'output_tokens': 0, 'total_tokens': 0, 'input_token_details': {'cache_read': 0}})}\n",
      "{'chunk': AIMessageChunk(content=\" Bowl Wins:** The 49ers won four Super Bowls under Walsh's leadership:\\n        *   Super Bowl XVI (1982) vs. Cincinnati Bengals\\n        *   Super Bowl XIX (1985) vs. Miami Dolphins\\n        *   Super Bowl XXIII (1989) vs\", additional_kwargs={}, response_metadata={'safety_ratings': []}, id='run--8785d3b1-704f-47ca-ab7f-dddc1a1a8020', usage_metadata={'input_tokens': 0, 'output_tokens': 0, 'total_tokens': 0, 'input_token_details': {'cache_read': 0}})}\n",
      "{'chunk': AIMessageChunk(content='. Cincinnati Bengals\\n        *   Super Bowl XXIV (1990) vs. Denver Broncos\\n*   **George Seifert Era (1989-1996):** Seifert took over after Walsh retired and continued the dynasty.\\n    *   **Steve Young:**  Steve Young, another', additional_kwargs={}, response_metadata={'safety_ratings': []}, id='run--8785d3b1-704f-47ca-ab7f-dddc1a1a8020', usage_metadata={'input_tokens': 0, 'output_tokens': 0, 'total_tokens': 0, 'input_token_details': {'cache_read': 0}})}\n",
      "{'chunk': AIMessageChunk(content=' Hall of Fame quarterback, took over from Montana and led the team to further success.\\n    *   **Super Bowl Win:** The 49ers won one Super Bowl under Seifert:\\n        *   Super Bowl XXIX (1995) vs. San Diego Chargers\\n*   **Post-Dynasty Years', additional_kwargs={}, response_metadata={'safety_ratings': []}, id='run--8785d3b1-704f-47ca-ab7f-dddc1a1a8020', usage_metadata={'input_tokens': 0, 'output_tokens': 0, 'total_tokens': 0, 'input_token_details': {'cache_read': 0}})}\n",
      "{'chunk': AIMessageChunk(content=\":** After the 1990s, the 49ers experienced periods of success and struggles. They had some playoff appearances but didn't reach the Super Bowl again until 2013.\\n*   **Jim Harbaugh Era (2011-2014):** The\", additional_kwargs={}, response_metadata={'safety_ratings': []}, id='run--8785d3b1-704f-47ca-ab7f-dddc1a1a8020', usage_metadata={'input_tokens': 0, 'output_tokens': 0, 'total_tokens': 0, 'input_token_details': {'cache_read': 0}})}\n",
      "{'chunk': AIMessageChunk(content=' 49ers had a resurgence under coach Jim Harbaugh, reaching Super Bowl XLVII in 2013, where they lost to the Baltimore Ravens.\\n*   **Kyle Shanahan Era (2017-Present):** Shanahan, known for his offensive play-calling, has brought the', additional_kwargs={}, response_metadata={'safety_ratings': []}, id='run--8785d3b1-704f-47ca-ab7f-dddc1a1a8020', usage_metadata={'input_tokens': 0, 'output_tokens': 0, 'total_tokens': 0, 'input_token_details': {'cache_read': 0}})}\n",
      "{'chunk': AIMessageChunk(content=' 49ers back to prominence.\\n    *   **Super Bowl LIV (2020):** The 49ers reached Super Bowl LIV but lost to the Kansas City Chiefs.\\n    *   **Super Bowl LVIII (2024):** The 49ers reached Super Bowl L', additional_kwargs={}, response_metadata={'safety_ratings': []}, id='run--8785d3b1-704f-47ca-ab7f-dddc1a1a8020', usage_metadata={'input_tokens': 0, 'output_tokens': 0, 'total_tokens': 0, 'input_token_details': {'cache_read': 0}})}\n",
      "{'chunk': AIMessageChunk(content='VIII but lost to the Kansas City Chiefs.\\n\\n**Key Players (Past and Present):**\\n\\n*   **Joe Montana (QB):**  Considered by many to be one of the greatest quarterbacks of all time.\\n*   **Steve Young (QB):**  Another Hall of Fame quarterback who followed Montana and', additional_kwargs={}, response_metadata={'safety_ratings': []}, id='run--8785d3b1-704f-47ca-ab7f-dddc1a1a8020', usage_metadata={'input_tokens': 0, 'output_tokens': 0, 'total_tokens': 0, 'input_token_details': {'cache_read': 0}})}\n",
      "{'chunk': AIMessageChunk(content=\" led the 49ers to a Super Bowl win.\\n*   **Jerry Rice (WR):**  Widely regarded as the greatest wide receiver in NFL history.  He was a key part of the 49ers' dynasty.\\n*   **Ronnie Lott (S):**  A hard\", additional_kwargs={}, response_metadata={'safety_ratings': []}, id='run--8785d3b1-704f-47ca-ab7f-dddc1a1a8020', usage_metadata={'input_tokens': 0, 'output_tokens': 0, 'total_tokens': 0, 'input_token_details': {'cache_read': 0}})}\n",
      "{'chunk': AIMessageChunk(content=\"-hitting and intimidating safety who was a cornerstone of the 49ers' defense.\\n*   **Steve\\xa0Wilks (DC):**\\xa0The current Defensive Coordinator, who is tasked with leading the team's defense.\\n*   **George Kittle (TE):** A dynamic and versatile tight end\", additional_kwargs={}, response_metadata={'safety_ratings': []}, id='run--8785d3b1-704f-47ca-ab7f-dddc1a1a8020', usage_metadata={'input_tokens': 0, 'output_tokens': 0, 'total_tokens': 0, 'input_token_details': {'cache_read': 0}})}\n",
      "{'chunk': AIMessageChunk(content=\" who is a key part of the 49ers' offense.\\n*   **Nick Bosa (DE):** An elite pass rusher and defensive leader.\\n*   **Christian McCaffrey (RB):** A versatile running back known for his rushing and receiving abilities.\\n*   **Brock Purdy (\", additional_kwargs={}, response_metadata={'safety_ratings': []}, id='run--8785d3b1-704f-47ca-ab7f-dddc1a1a8020', usage_metadata={'input_tokens': 0, 'output_tokens': 0, 'total_tokens': 0, 'input_token_details': {'cache_read': 0}})}\n",
      "{'chunk': AIMessageChunk(content='QB):** The current starting quarterback who has exceeded expectations after being drafted as \"Mr. Irrelevant\".\\n\\n**Team Strengths:**\\n\\n*   **Strong Offense:** Under Kyle Shanahan, the 49ers typically have a potent and innovative offense that can run and pass effectively.\\n*   **Domin', additional_kwargs={}, response_metadata={'safety_ratings': []}, id='run--8785d3b1-704f-47ca-ab7f-dddc1a1a8020', usage_metadata={'input_tokens': 0, 'output_tokens': 0, 'total_tokens': 0, 'input_token_details': {'cache_read': 0}})}\n",
      "{'chunk': AIMessageChunk(content='ant Defense:** The 49ers often have a strong and aggressive defense, particularly with their pass rush.\\n*   **Well-Rounded Team:** The 49ers strive to be strong in all phases of the game (offense, defense, and special teams).\\n\\n**Stadium Information:**\\n\\n*   ', additional_kwargs={}, response_metadata={'safety_ratings': []}, id='run--8785d3b1-704f-47ca-ab7f-dddc1a1a8020', usage_metadata={'input_tokens': 0, 'output_tokens': 0, 'total_tokens': 0, 'input_token_details': {'cache_read': 0}})}\n",
      "{'chunk': AIMessageChunk(content=\"**Levi's Stadium:** Located in Santa Clara, California. It's a modern stadium with a large capacity and various amenities. It hosted Super Bowl 50.\\n\\n**Fan Base:**\\n\\n*   The 49ers have a large and passionate fan base throughout the Bay Area and beyond.  Their\", additional_kwargs={}, response_metadata={'safety_ratings': []}, id='run--8785d3b1-704f-47ca-ab7f-dddc1a1a8020', usage_metadata={'input_tokens': 0, 'output_tokens': 0, 'total_tokens': 0, 'input_token_details': {'cache_read': 0}})}\n",
      "{'chunk': AIMessageChunk(content=' dynasty years created a generation of loyal fans.\\n\\n**In Summary:**\\n\\nThe San Francisco 49ers are one of the most storied and successful franchises in NFL history. Their dynasty years under Bill Walsh and subsequent success have made them a beloved team with a rich legacy. They continue to be a competitive team in the NFC', additional_kwargs={}, response_metadata={'safety_ratings': []}, id='run--8785d3b1-704f-47ca-ab7f-dddc1a1a8020', usage_metadata={'input_tokens': 0, 'output_tokens': 0, 'total_tokens': 0, 'input_token_details': {'cache_read': 0}})}\n",
      "{'chunk': AIMessageChunk(content=' and are always striving to add to their Super Bowl trophy collection.', additional_kwargs={}, response_metadata={'finish_reason': 'STOP', 'model_name': 'gemini-2.0-flash', 'safety_ratings': []}, id='run--8785d3b1-704f-47ca-ab7f-dddc1a1a8020', usage_metadata={'input_tokens': -1, 'output_tokens': 1302, 'total_tokens': 1301, 'input_token_details': {'cache_read': 0}})}\n"
     ]
    }
   ],
   "source": [
    "node_to_stream = 'conversation'\n",
    "config = {\"configurable\": {\"thread_id\": \"4\"}}\n",
    "input_message = HumanMessage(content=\"Tell me about the 49ers NFL team\")\n",
    "async for event in graph.astream_events({\"messages\": [input_message]}, config, version=\"v2\"):\n",
    "    # Get chat model tokens from a particular node \n",
    "    if event[\"event\"] == \"on_chat_model_stream\" and event['metadata'].get('langgraph_node','') == node_to_stream:\n",
    "        print(event[\"data\"])"
   ]
  },
  {
   "cell_type": "markdown",
   "id": "5ffb60f3",
   "metadata": {},
   "source": [
    "As you see above, just use the `chunk` key to get the `AIMessageChunk`."
   ]
  },
  {
   "cell_type": "code",
   "execution_count": 13,
   "id": "9d16677d",
   "metadata": {},
   "outputs": [
    {
     "name": "stdout",
     "output_type": "stream",
     "text": [
      "The| San Francisco |49ers are a professional American football team based in the San Francisco Bay Area|. Here's a rundown of key information about them:\n",
      "\n",
      "**General Information:**\n",
      "\n",
      "*|   **Name:** San Francisco 49ers\n",
      "*   **City:** Santa Clara, California (plays home games at Levi's Stadium)\n",
      "*   **|League:** National Football League (NFL)\n",
      "*   **Conference:** National Football Conference (NFC)\n",
      "*   **Division:** NFC West\n",
      "*   |**Founded:** 1946 (as part of the All-America Football Conference)\n",
      "*   **Joined NFL:** 1950\n",
      "*   **Team Colors:** Red, Gold, and White\n",
      "*   **|Mascot:** Sourdough Sam\n",
      "*   **Owner:** Denise DeBartolo York and family\n",
      "*   **Head Coach:** Kyle Shanahan\n",
      "*   **General Manager:** John Lynch\n",
      "*   **Home Field:** Levi's| Stadium\n",
      "\n",
      "**History & Achievements:**\n",
      "\n",
      "*   **Early Years:** The 49ers were initially part of the All-America Football Conference (AAFC) before joining the NFL in 1950.\n",
      "*   **\"Million Dollar Backfield\":** In the 1950s,| they gained fame for their high-powered offense featuring players like Y.A. Tittle, Hugh McElhenny, Joe Perry, and John Henry Johnson.\n",
      "*   **Dynasty Era (1980s-1990s):** This is the era the 49ers are most famous| for. Led by quarterback Joe Montana and head coach Bill Walsh, they won four Super Bowls in the 1980s (XVI, XIX, XXIII, XXIV).  Later, with Steve Young at quarterback and George Seifert as head coach, they added a fifth Super Bowl (XXIX). This era is known| for the \"West Coast Offense,\" a sophisticated passing attack emphasizing short, precise routes.\n",
      "*   **Recent History:** After a period of struggles, the 49ers reached Super Bowl XLVII in 2013, losing to the Baltimore Ravens.  Under head coach Kyle Shanahan and general manager| John Lynch, they returned to the Super Bowl LIV in 2020, losing to the Kansas City Chiefs.  They also made it to the NFC Championship game in 2022, losing to the Philadelphia Eagles, and Super Bowl LVIII in 2024, losing to the Kansas City| Chiefs.\n",
      "\n",
      "**Super Bowl Championships:**\n",
      "\n",
      "*   XVI (1982): 49ers 26, Cincinnati Bengals 21\n",
      "*   XIX (1985): 49ers 38, Miami Dolphins 16\n",
      "*   XXIII (1989):| 49ers 20, Cincinnati Bengals 16\n",
      "*   XXIV (1990): 49ers 55, Denver Broncos 10\n",
      "*   XXIX (1995): 49ers 49, San Diego Chargers 26\n",
      "\n",
      "**Key Players| (Past & Present):**\n",
      "\n",
      "*   **Joe Montana (QB):** Arguably one of the greatest quarterbacks of all time.\n",
      "*   **Steve Young (QB):** Another Hall of Fame quarterback who succeeded Montana.\n",
      "*   **Jerry Rice (WR):** Widely considered the greatest wide receiver in NFL| history.\n",
      "*   **Ronnie Lott (S):** A fearsome and legendary safety.\n",
      "*   **Steve Wilks (LB):** A dominant linebacker.\n",
      "*   **George Kittle (TE):** A current star tight end known for his receiving and blocking.\n",
      "*   **De|ebo Samuel (WR/RB):** A versatile offensive weapon.\n",
      "*   **Nick Bosa (DE):** A dominant pass rusher.\n",
      "*   **Christian McCaffrey (RB):** Star running back acquired in 2022.\n",
      "*   **Brock Purdy (QB):** Current starting| quarterback who was the last player picked in the 2022 NFL draft.\n",
      "\n",
      "**Rivalries:**\n",
      "\n",
      "*   **Dallas Cowboys:** A classic rivalry dating back to the 1970s and 1980s, with many memorable playoff matchups.\n",
      "*   **Seattle Seahawks:** A more| recent, intense rivalry within the NFC West.\n",
      "*   **Los Angeles Rams:** Another NFC West rivalry.\n",
      "\n",
      "**Levi's Stadium:**\n",
      "\n",
      "*   Opened in 2014 in Santa Clara, California.\n",
      "*   Hosts 49ers games and other major events, including Super Bowl 50.\n",
      "\n",
      "|**Overall:**\n",
      "\n",
      "The San Francisco 49ers are one of the most storied and successful franchises in NFL history. Their dynasty era in the 1980s and 1990s is legendary, and they continue to be a competitive team striving for championships.  They have a passionate fanbase and a rich| history of great players and coaches.\n",
      "|"
     ]
    }
   ],
   "source": [
    "config = {\"configurable\": {\"thread_id\": \"5\"}}\n",
    "input_message = HumanMessage(content=\"Tell me about the 49ers NFL team\")\n",
    "async for event in graph.astream_events({\"messages\": [input_message]}, config, version=\"v2\"):\n",
    "    # Get chat model tokens from a particular node \n",
    "    if event[\"event\"] == \"on_chat_model_stream\" and event['metadata'].get('langgraph_node','') == node_to_stream:\n",
    "        data = event[\"data\"]\n",
    "        print(data[\"chunk\"].content, end=\"|\")"
   ]
  }
 ],
 "metadata": {
  "kernelspec": {
   "display_name": "langchain-academy",
   "language": "python",
   "name": "python3"
  },
  "language_info": {
   "codemirror_mode": {
    "name": "ipython",
    "version": 3
   },
   "file_extension": ".py",
   "mimetype": "text/x-python",
   "name": "python",
   "nbconvert_exporter": "python",
   "pygments_lexer": "ipython3",
   "version": "3.13.6"
  }
 },
 "nbformat": 4,
 "nbformat_minor": 5
}
