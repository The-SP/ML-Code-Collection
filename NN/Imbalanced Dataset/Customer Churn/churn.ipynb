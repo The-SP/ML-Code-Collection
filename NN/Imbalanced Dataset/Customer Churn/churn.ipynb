{
 "cells": [
  {
   "cell_type": "markdown",
   "id": "720890d5",
   "metadata": {},
   "source": [
    "# Customer churn prediction\n",
    "Customer churn prediction is to measure why customers are leaving a business.\n",
    "\n",
    "1. Build a deep learning model to predict churn rate.\n",
    "2. Improve f1 score in minority class using various techniques such as undersampling, oversampling, ensemble, etc."
   ]
  },
  {
   "cell_type": "code",
   "execution_count": 1,
   "id": "9dbfe8fd",
   "metadata": {},
   "outputs": [],
   "source": [
    "import numpy as np\n",
    "import pandas as pd\n",
    "import matplotlib.pyplot as plt\n",
    "%matplotlib inline"
   ]
  },
  {
   "cell_type": "code",
   "execution_count": 2,
   "id": "3251ec39",
   "metadata": {},
   "outputs": [
    {
     "data": {
      "text/html": [
       "<div>\n",
       "<style scoped>\n",
       "    .dataframe tbody tr th:only-of-type {\n",
       "        vertical-align: middle;\n",
       "    }\n",
       "\n",
       "    .dataframe tbody tr th {\n",
       "        vertical-align: top;\n",
       "    }\n",
       "\n",
       "    .dataframe thead th {\n",
       "        text-align: right;\n",
       "    }\n",
       "</style>\n",
       "<table border=\"1\" class=\"dataframe\">\n",
       "  <thead>\n",
       "    <tr style=\"text-align: right;\">\n",
       "      <th></th>\n",
       "      <th>customerID</th>\n",
       "      <th>gender</th>\n",
       "      <th>SeniorCitizen</th>\n",
       "      <th>Partner</th>\n",
       "      <th>Dependents</th>\n",
       "      <th>tenure</th>\n",
       "      <th>PhoneService</th>\n",
       "      <th>MultipleLines</th>\n",
       "      <th>InternetService</th>\n",
       "      <th>OnlineSecurity</th>\n",
       "      <th>...</th>\n",
       "      <th>DeviceProtection</th>\n",
       "      <th>TechSupport</th>\n",
       "      <th>StreamingTV</th>\n",
       "      <th>StreamingMovies</th>\n",
       "      <th>Contract</th>\n",
       "      <th>PaperlessBilling</th>\n",
       "      <th>PaymentMethod</th>\n",
       "      <th>MonthlyCharges</th>\n",
       "      <th>TotalCharges</th>\n",
       "      <th>Churn</th>\n",
       "    </tr>\n",
       "  </thead>\n",
       "  <tbody>\n",
       "    <tr>\n",
       "      <th>0</th>\n",
       "      <td>7590-VHVEG</td>\n",
       "      <td>Female</td>\n",
       "      <td>0</td>\n",
       "      <td>Yes</td>\n",
       "      <td>No</td>\n",
       "      <td>1</td>\n",
       "      <td>No</td>\n",
       "      <td>No phone service</td>\n",
       "      <td>DSL</td>\n",
       "      <td>No</td>\n",
       "      <td>...</td>\n",
       "      <td>No</td>\n",
       "      <td>No</td>\n",
       "      <td>No</td>\n",
       "      <td>No</td>\n",
       "      <td>Month-to-month</td>\n",
       "      <td>Yes</td>\n",
       "      <td>Electronic check</td>\n",
       "      <td>29.85</td>\n",
       "      <td>29.85</td>\n",
       "      <td>No</td>\n",
       "    </tr>\n",
       "    <tr>\n",
       "      <th>1</th>\n",
       "      <td>5575-GNVDE</td>\n",
       "      <td>Male</td>\n",
       "      <td>0</td>\n",
       "      <td>No</td>\n",
       "      <td>No</td>\n",
       "      <td>34</td>\n",
       "      <td>Yes</td>\n",
       "      <td>No</td>\n",
       "      <td>DSL</td>\n",
       "      <td>Yes</td>\n",
       "      <td>...</td>\n",
       "      <td>Yes</td>\n",
       "      <td>No</td>\n",
       "      <td>No</td>\n",
       "      <td>No</td>\n",
       "      <td>One year</td>\n",
       "      <td>No</td>\n",
       "      <td>Mailed check</td>\n",
       "      <td>56.95</td>\n",
       "      <td>1889.5</td>\n",
       "      <td>No</td>\n",
       "    </tr>\n",
       "    <tr>\n",
       "      <th>2</th>\n",
       "      <td>3668-QPYBK</td>\n",
       "      <td>Male</td>\n",
       "      <td>0</td>\n",
       "      <td>No</td>\n",
       "      <td>No</td>\n",
       "      <td>2</td>\n",
       "      <td>Yes</td>\n",
       "      <td>No</td>\n",
       "      <td>DSL</td>\n",
       "      <td>Yes</td>\n",
       "      <td>...</td>\n",
       "      <td>No</td>\n",
       "      <td>No</td>\n",
       "      <td>No</td>\n",
       "      <td>No</td>\n",
       "      <td>Month-to-month</td>\n",
       "      <td>Yes</td>\n",
       "      <td>Mailed check</td>\n",
       "      <td>53.85</td>\n",
       "      <td>108.15</td>\n",
       "      <td>Yes</td>\n",
       "    </tr>\n",
       "    <tr>\n",
       "      <th>3</th>\n",
       "      <td>7795-CFOCW</td>\n",
       "      <td>Male</td>\n",
       "      <td>0</td>\n",
       "      <td>No</td>\n",
       "      <td>No</td>\n",
       "      <td>45</td>\n",
       "      <td>No</td>\n",
       "      <td>No phone service</td>\n",
       "      <td>DSL</td>\n",
       "      <td>Yes</td>\n",
       "      <td>...</td>\n",
       "      <td>Yes</td>\n",
       "      <td>Yes</td>\n",
       "      <td>No</td>\n",
       "      <td>No</td>\n",
       "      <td>One year</td>\n",
       "      <td>No</td>\n",
       "      <td>Bank transfer (automatic)</td>\n",
       "      <td>42.30</td>\n",
       "      <td>1840.75</td>\n",
       "      <td>No</td>\n",
       "    </tr>\n",
       "    <tr>\n",
       "      <th>4</th>\n",
       "      <td>9237-HQITU</td>\n",
       "      <td>Female</td>\n",
       "      <td>0</td>\n",
       "      <td>No</td>\n",
       "      <td>No</td>\n",
       "      <td>2</td>\n",
       "      <td>Yes</td>\n",
       "      <td>No</td>\n",
       "      <td>Fiber optic</td>\n",
       "      <td>No</td>\n",
       "      <td>...</td>\n",
       "      <td>No</td>\n",
       "      <td>No</td>\n",
       "      <td>No</td>\n",
       "      <td>No</td>\n",
       "      <td>Month-to-month</td>\n",
       "      <td>Yes</td>\n",
       "      <td>Electronic check</td>\n",
       "      <td>70.70</td>\n",
       "      <td>151.65</td>\n",
       "      <td>Yes</td>\n",
       "    </tr>\n",
       "  </tbody>\n",
       "</table>\n",
       "<p>5 rows × 21 columns</p>\n",
       "</div>"
      ],
      "text/plain": [
       "   customerID  gender  SeniorCitizen Partner Dependents  tenure PhoneService  \\\n",
       "0  7590-VHVEG  Female              0     Yes         No       1           No   \n",
       "1  5575-GNVDE    Male              0      No         No      34          Yes   \n",
       "2  3668-QPYBK    Male              0      No         No       2          Yes   \n",
       "3  7795-CFOCW    Male              0      No         No      45           No   \n",
       "4  9237-HQITU  Female              0      No         No       2          Yes   \n",
       "\n",
       "      MultipleLines InternetService OnlineSecurity  ... DeviceProtection  \\\n",
       "0  No phone service             DSL             No  ...               No   \n",
       "1                No             DSL            Yes  ...              Yes   \n",
       "2                No             DSL            Yes  ...               No   \n",
       "3  No phone service             DSL            Yes  ...              Yes   \n",
       "4                No     Fiber optic             No  ...               No   \n",
       "\n",
       "  TechSupport StreamingTV StreamingMovies        Contract PaperlessBilling  \\\n",
       "0          No          No              No  Month-to-month              Yes   \n",
       "1          No          No              No        One year               No   \n",
       "2          No          No              No  Month-to-month              Yes   \n",
       "3         Yes          No              No        One year               No   \n",
       "4          No          No              No  Month-to-month              Yes   \n",
       "\n",
       "               PaymentMethod MonthlyCharges  TotalCharges Churn  \n",
       "0           Electronic check          29.85         29.85    No  \n",
       "1               Mailed check          56.95        1889.5    No  \n",
       "2               Mailed check          53.85        108.15   Yes  \n",
       "3  Bank transfer (automatic)          42.30       1840.75    No  \n",
       "4           Electronic check          70.70        151.65   Yes  \n",
       "\n",
       "[5 rows x 21 columns]"
      ]
     },
     "execution_count": 2,
     "metadata": {},
     "output_type": "execute_result"
    }
   ],
   "source": [
    "df = pd.read_csv('customer_churn.csv')\n",
    "df.head()"
   ]
  },
  {
   "cell_type": "code",
   "execution_count": 3,
   "id": "b60b0a01",
   "metadata": {},
   "outputs": [],
   "source": [
    "df.drop('customerID', axis=1, inplace=True)"
   ]
  },
  {
   "cell_type": "code",
   "execution_count": 4,
   "id": "ce74d03e",
   "metadata": {},
   "outputs": [
    {
     "name": "stdout",
     "output_type": "stream",
     "text": [
      "<class 'pandas.core.frame.DataFrame'>\n",
      "RangeIndex: 7043 entries, 0 to 7042\n",
      "Data columns (total 20 columns):\n",
      " #   Column            Non-Null Count  Dtype  \n",
      "---  ------            --------------  -----  \n",
      " 0   gender            7043 non-null   object \n",
      " 1   SeniorCitizen     7043 non-null   int64  \n",
      " 2   Partner           7043 non-null   object \n",
      " 3   Dependents        7043 non-null   object \n",
      " 4   tenure            7043 non-null   int64  \n",
      " 5   PhoneService      7043 non-null   object \n",
      " 6   MultipleLines     7043 non-null   object \n",
      " 7   InternetService   7043 non-null   object \n",
      " 8   OnlineSecurity    7043 non-null   object \n",
      " 9   OnlineBackup      7043 non-null   object \n",
      " 10  DeviceProtection  7043 non-null   object \n",
      " 11  TechSupport       7043 non-null   object \n",
      " 12  StreamingTV       7043 non-null   object \n",
      " 13  StreamingMovies   7043 non-null   object \n",
      " 14  Contract          7043 non-null   object \n",
      " 15  PaperlessBilling  7043 non-null   object \n",
      " 16  PaymentMethod     7043 non-null   object \n",
      " 17  MonthlyCharges    7043 non-null   float64\n",
      " 18  TotalCharges      7043 non-null   object \n",
      " 19  Churn             7043 non-null   object \n",
      "dtypes: float64(1), int64(2), object(17)\n",
      "memory usage: 1.1+ MB\n"
     ]
    }
   ],
   "source": [
    "df.info()"
   ]
  },
  {
   "cell_type": "markdown",
   "id": "fbbd6b40",
   "metadata": {},
   "source": [
    "**TotalCharges should be float but it is an object. Let's check what's going on with this column**"
   ]
  },
  {
   "cell_type": "code",
   "execution_count": 5,
   "id": "4604f84d",
   "metadata": {},
   "outputs": [
    {
     "data": {
      "text/plain": [
       "array(['29.85', '1889.5', '108.15', ..., '346.45', '306.6', '6844.5'],\n",
       "      dtype=object)"
      ]
     },
     "execution_count": 5,
     "metadata": {},
     "output_type": "execute_result"
    }
   ],
   "source": [
    "df['TotalCharges'].values"
   ]
  },
  {
   "cell_type": "markdown",
   "id": "457defc5",
   "metadata": {},
   "source": [
    "**Its string. Convert it to numbers.**"
   ]
  },
  {
   "cell_type": "code",
   "execution_count": 6,
   "id": "0b95c987",
   "metadata": {},
   "outputs": [],
   "source": [
    "df['TotalCharges'] = pd.to_numeric(df['TotalCharges'], errors='coerce')\n",
    "# 'coerce' argument will convert non-numeric values to NaN"
   ]
  },
  {
   "cell_type": "code",
   "execution_count": 7,
   "id": "f3c16756",
   "metadata": {},
   "outputs": [
    {
     "data": {
      "text/plain": [
       "11"
      ]
     },
     "execution_count": 7,
     "metadata": {},
     "output_type": "execute_result"
    }
   ],
   "source": [
    "df['TotalCharges'].isnull().sum()"
   ]
  },
  {
   "cell_type": "markdown",
   "id": "86ca28ba",
   "metadata": {},
   "source": [
    "Remove rows with NaN values in 'TotalCharges' column"
   ]
  },
  {
   "cell_type": "code",
   "execution_count": 8,
   "id": "45f6b85f",
   "metadata": {},
   "outputs": [],
   "source": [
    "df = df.dropna(subset=['TotalCharges'])"
   ]
  },
  {
   "cell_type": "markdown",
   "id": "ddb4adcc",
   "metadata": {},
   "source": [
    "**Print unique values in object columns to see data values**"
   ]
  },
  {
   "cell_type": "code",
   "execution_count": 9,
   "id": "51c023f2",
   "metadata": {},
   "outputs": [],
   "source": [
    "def print_unique_col_values(df):\n",
    "    for col in df:\n",
    "        if df[col].dtypes == 'object':\n",
    "            print (f'{col}: {df[col].unique()}')"
   ]
  },
  {
   "cell_type": "code",
   "execution_count": 10,
   "id": "7e58a618",
   "metadata": {},
   "outputs": [
    {
     "name": "stdout",
     "output_type": "stream",
     "text": [
      "gender: ['Female' 'Male']\n",
      "Partner: ['Yes' 'No']\n",
      "Dependents: ['No' 'Yes']\n",
      "PhoneService: ['No' 'Yes']\n",
      "MultipleLines: ['No phone service' 'No' 'Yes']\n",
      "InternetService: ['DSL' 'Fiber optic' 'No']\n",
      "OnlineSecurity: ['No' 'Yes' 'No internet service']\n",
      "OnlineBackup: ['Yes' 'No' 'No internet service']\n",
      "DeviceProtection: ['No' 'Yes' 'No internet service']\n",
      "TechSupport: ['No' 'Yes' 'No internet service']\n",
      "StreamingTV: ['No' 'Yes' 'No internet service']\n",
      "StreamingMovies: ['No' 'Yes' 'No internet service']\n",
      "Contract: ['Month-to-month' 'One year' 'Two year']\n",
      "PaperlessBilling: ['Yes' 'No']\n",
      "PaymentMethod: ['Electronic check' 'Mailed check' 'Bank transfer (automatic)'\n",
      " 'Credit card (automatic)']\n",
      "Churn: ['No' 'Yes']\n"
     ]
    }
   ],
   "source": [
    "print_unique_col_values(df)"
   ]
  },
  {
   "cell_type": "markdown",
   "id": "7e03e37d",
   "metadata": {},
   "source": [
    "**Some of the columns have no internet service or no phone service, that can be replaced with a simple No**"
   ]
  },
  {
   "cell_type": "code",
   "execution_count": 11,
   "id": "78d0a0cd",
   "metadata": {},
   "outputs": [],
   "source": [
    "df1 = df.copy()\n",
    "\n",
    "df1.replace('No internet service','No',inplace=True)\n",
    "df1.replace('No phone service','No',inplace=True)"
   ]
  },
  {
   "cell_type": "markdown",
   "id": "e11d21d6",
   "metadata": {},
   "source": [
    "**Convert binary categorical values to numeric values**"
   ]
  },
  {
   "cell_type": "code",
   "execution_count": 12,
   "id": "8486535c",
   "metadata": {},
   "outputs": [
    {
     "name": "stdout",
     "output_type": "stream",
     "text": [
      "gender: [0 1]\n",
      "SeniorCitizen: [0 1]\n",
      "Partner: [1 0]\n",
      "Dependents: [0 1]\n",
      "tenure: [ 1 34  2 45  8 22 10 28 62 13 16 58 49 25 69 52 71 21 12 30 47 72 17 27\n",
      "  5 46 11 70 63 43 15 60 18 66  9  3 31 50 64 56  7 42 35 48 29 65 38 68\n",
      " 32 55 37 36 41  6  4 33 67 23 57 61 14 20 53 40 59 24 44 19 54 51 26 39]\n",
      "PhoneService: [0 1]\n",
      "MultipleLines: [0 1]\n",
      "InternetService: ['DSL' 'Fiber optic' 0]\n",
      "OnlineSecurity: [0 1]\n",
      "OnlineBackup: [1 0]\n",
      "DeviceProtection: [0 1]\n",
      "TechSupport: [0 1]\n",
      "StreamingTV: [0 1]\n",
      "StreamingMovies: [0 1]\n",
      "Contract: ['Month-to-month' 'One year' 'Two year']\n",
      "PaperlessBilling: [1 0]\n",
      "PaymentMethod: ['Electronic check' 'Mailed check' 'Bank transfer (automatic)'\n",
      " 'Credit card (automatic)']\n",
      "MonthlyCharges: [29.85 56.95 53.85 ... 63.1  44.2  78.7 ]\n",
      "TotalCharges: [  29.85 1889.5   108.15 ...  346.45  306.6  6844.5 ]\n",
      "Churn: [0 1]\n"
     ]
    }
   ],
   "source": [
    "df1['gender'] = df['gender'].replace({'Female': 0, 'Male': 1})\n",
    "\n",
    "for col in df1.columns:\n",
    "    df1[col] = df1[col].replace({'Yes': 1, 'No': 0})\n",
    "    \n",
    "for col in df1.columns:\n",
    "    print(f'{col}: {df1[col].unique()}')"
   ]
  },
  {
   "cell_type": "markdown",
   "id": "3bae8eba",
   "metadata": {},
   "source": [
    "**One hot encoding for categorical columns**"
   ]
  },
  {
   "cell_type": "markdown",
   "id": "c627ddb9",
   "metadata": {},
   "source": [
    "### One hot encoding"
   ]
  },
  {
   "cell_type": "code",
   "execution_count": 13,
   "id": "c5792eb3",
   "metadata": {},
   "outputs": [
    {
     "name": "stdout",
     "output_type": "stream",
     "text": [
      "InternetService: ['DSL' 'Fiber optic' 0]\n",
      "Contract: ['Month-to-month' 'One year' 'Two year']\n",
      "PaymentMethod: ['Electronic check' 'Mailed check' 'Bank transfer (automatic)'\n",
      " 'Credit card (automatic)']\n"
     ]
    }
   ],
   "source": [
    "print_unique_col_values(df1)"
   ]
  },
  {
   "cell_type": "code",
   "execution_count": 14,
   "id": "121d4ef3",
   "metadata": {},
   "outputs": [
    {
     "data": {
      "text/plain": [
       "Index(['gender', 'SeniorCitizen', 'Partner', 'Dependents', 'tenure',\n",
       "       'PhoneService', 'MultipleLines', 'OnlineSecurity', 'OnlineBackup',\n",
       "       'DeviceProtection', 'TechSupport', 'StreamingTV', 'StreamingMovies',\n",
       "       'PaperlessBilling', 'MonthlyCharges', 'TotalCharges', 'Churn',\n",
       "       'InternetService_DSL', 'InternetService_Fiber optic',\n",
       "       'Contract_One year', 'Contract_Two year',\n",
       "       'PaymentMethod_Credit card (automatic)',\n",
       "       'PaymentMethod_Electronic check', 'PaymentMethod_Mailed check'],\n",
       "      dtype='object')"
      ]
     },
     "execution_count": 14,
     "metadata": {},
     "output_type": "execute_result"
    }
   ],
   "source": [
    "categorical_cols = ['InternetService', 'Contract', 'PaymentMethod']\n",
    "df2 = pd.get_dummies(df1, columns=categorical_cols, drop_first=True).astype(int)\n",
    "\n",
    "df2.columns"
   ]
  },
  {
   "cell_type": "code",
   "execution_count": 15,
   "id": "716208e2",
   "metadata": {},
   "outputs": [
    {
     "data": {
      "text/html": [
       "<div>\n",
       "<style scoped>\n",
       "    .dataframe tbody tr th:only-of-type {\n",
       "        vertical-align: middle;\n",
       "    }\n",
       "\n",
       "    .dataframe tbody tr th {\n",
       "        vertical-align: top;\n",
       "    }\n",
       "\n",
       "    .dataframe thead th {\n",
       "        text-align: right;\n",
       "    }\n",
       "</style>\n",
       "<table border=\"1\" class=\"dataframe\">\n",
       "  <thead>\n",
       "    <tr style=\"text-align: right;\">\n",
       "      <th></th>\n",
       "      <th>gender</th>\n",
       "      <th>SeniorCitizen</th>\n",
       "      <th>Partner</th>\n",
       "      <th>Dependents</th>\n",
       "      <th>tenure</th>\n",
       "      <th>PhoneService</th>\n",
       "      <th>MultipleLines</th>\n",
       "      <th>OnlineSecurity</th>\n",
       "      <th>OnlineBackup</th>\n",
       "      <th>DeviceProtection</th>\n",
       "      <th>...</th>\n",
       "      <th>MonthlyCharges</th>\n",
       "      <th>TotalCharges</th>\n",
       "      <th>Churn</th>\n",
       "      <th>InternetService_DSL</th>\n",
       "      <th>InternetService_Fiber optic</th>\n",
       "      <th>Contract_One year</th>\n",
       "      <th>Contract_Two year</th>\n",
       "      <th>PaymentMethod_Credit card (automatic)</th>\n",
       "      <th>PaymentMethod_Electronic check</th>\n",
       "      <th>PaymentMethod_Mailed check</th>\n",
       "    </tr>\n",
       "  </thead>\n",
       "  <tbody>\n",
       "    <tr>\n",
       "      <th>1239</th>\n",
       "      <td>0</td>\n",
       "      <td>0</td>\n",
       "      <td>1</td>\n",
       "      <td>1</td>\n",
       "      <td>3</td>\n",
       "      <td>1</td>\n",
       "      <td>0</td>\n",
       "      <td>0</td>\n",
       "      <td>1</td>\n",
       "      <td>0</td>\n",
       "      <td>...</td>\n",
       "      <td>58</td>\n",
       "      <td>168</td>\n",
       "      <td>0</td>\n",
       "      <td>1</td>\n",
       "      <td>0</td>\n",
       "      <td>0</td>\n",
       "      <td>0</td>\n",
       "      <td>1</td>\n",
       "      <td>0</td>\n",
       "      <td>0</td>\n",
       "    </tr>\n",
       "    <tr>\n",
       "      <th>1757</th>\n",
       "      <td>1</td>\n",
       "      <td>0</td>\n",
       "      <td>1</td>\n",
       "      <td>1</td>\n",
       "      <td>54</td>\n",
       "      <td>1</td>\n",
       "      <td>0</td>\n",
       "      <td>0</td>\n",
       "      <td>1</td>\n",
       "      <td>0</td>\n",
       "      <td>...</td>\n",
       "      <td>79</td>\n",
       "      <td>4362</td>\n",
       "      <td>0</td>\n",
       "      <td>0</td>\n",
       "      <td>1</td>\n",
       "      <td>0</td>\n",
       "      <td>1</td>\n",
       "      <td>0</td>\n",
       "      <td>0</td>\n",
       "      <td>0</td>\n",
       "    </tr>\n",
       "    <tr>\n",
       "      <th>4752</th>\n",
       "      <td>1</td>\n",
       "      <td>0</td>\n",
       "      <td>0</td>\n",
       "      <td>0</td>\n",
       "      <td>23</td>\n",
       "      <td>1</td>\n",
       "      <td>0</td>\n",
       "      <td>0</td>\n",
       "      <td>0</td>\n",
       "      <td>0</td>\n",
       "      <td>...</td>\n",
       "      <td>20</td>\n",
       "      <td>481</td>\n",
       "      <td>0</td>\n",
       "      <td>0</td>\n",
       "      <td>0</td>\n",
       "      <td>1</td>\n",
       "      <td>0</td>\n",
       "      <td>0</td>\n",
       "      <td>0</td>\n",
       "      <td>1</td>\n",
       "    </tr>\n",
       "    <tr>\n",
       "      <th>5604</th>\n",
       "      <td>1</td>\n",
       "      <td>0</td>\n",
       "      <td>0</td>\n",
       "      <td>0</td>\n",
       "      <td>17</td>\n",
       "      <td>1</td>\n",
       "      <td>0</td>\n",
       "      <td>0</td>\n",
       "      <td>0</td>\n",
       "      <td>0</td>\n",
       "      <td>...</td>\n",
       "      <td>70</td>\n",
       "      <td>1207</td>\n",
       "      <td>0</td>\n",
       "      <td>0</td>\n",
       "      <td>1</td>\n",
       "      <td>0</td>\n",
       "      <td>0</td>\n",
       "      <td>0</td>\n",
       "      <td>1</td>\n",
       "      <td>0</td>\n",
       "    </tr>\n",
       "    <tr>\n",
       "      <th>6530</th>\n",
       "      <td>1</td>\n",
       "      <td>1</td>\n",
       "      <td>1</td>\n",
       "      <td>0</td>\n",
       "      <td>63</td>\n",
       "      <td>0</td>\n",
       "      <td>0</td>\n",
       "      <td>1</td>\n",
       "      <td>0</td>\n",
       "      <td>0</td>\n",
       "      <td>...</td>\n",
       "      <td>36</td>\n",
       "      <td>2298</td>\n",
       "      <td>0</td>\n",
       "      <td>1</td>\n",
       "      <td>0</td>\n",
       "      <td>1</td>\n",
       "      <td>0</td>\n",
       "      <td>0</td>\n",
       "      <td>0</td>\n",
       "      <td>0</td>\n",
       "    </tr>\n",
       "  </tbody>\n",
       "</table>\n",
       "<p>5 rows × 24 columns</p>\n",
       "</div>"
      ],
      "text/plain": [
       "      gender  SeniorCitizen  Partner  Dependents  tenure  PhoneService  \\\n",
       "1239       0              0        1           1       3             1   \n",
       "1757       1              0        1           1      54             1   \n",
       "4752       1              0        0           0      23             1   \n",
       "5604       1              0        0           0      17             1   \n",
       "6530       1              1        1           0      63             0   \n",
       "\n",
       "      MultipleLines  OnlineSecurity  OnlineBackup  DeviceProtection  ...  \\\n",
       "1239              0               0             1                 0  ...   \n",
       "1757              0               0             1                 0  ...   \n",
       "4752              0               0             0                 0  ...   \n",
       "5604              0               0             0                 0  ...   \n",
       "6530              0               1             0                 0  ...   \n",
       "\n",
       "      MonthlyCharges  TotalCharges  Churn  InternetService_DSL  \\\n",
       "1239              58           168      0                    1   \n",
       "1757              79          4362      0                    0   \n",
       "4752              20           481      0                    0   \n",
       "5604              70          1207      0                    0   \n",
       "6530              36          2298      0                    1   \n",
       "\n",
       "      InternetService_Fiber optic  Contract_One year  Contract_Two year  \\\n",
       "1239                            0                  0                  0   \n",
       "1757                            1                  0                  1   \n",
       "4752                            0                  1                  0   \n",
       "5604                            1                  0                  0   \n",
       "6530                            0                  1                  0   \n",
       "\n",
       "      PaymentMethod_Credit card (automatic)  PaymentMethod_Electronic check  \\\n",
       "1239                                      1                               0   \n",
       "1757                                      0                               0   \n",
       "4752                                      0                               0   \n",
       "5604                                      0                               1   \n",
       "6530                                      0                               0   \n",
       "\n",
       "      PaymentMethod_Mailed check  \n",
       "1239                           0  \n",
       "1757                           0  \n",
       "4752                           1  \n",
       "5604                           0  \n",
       "6530                           0  \n",
       "\n",
       "[5 rows x 24 columns]"
      ]
     },
     "execution_count": 15,
     "metadata": {},
     "output_type": "execute_result"
    }
   ],
   "source": [
    "df2.sample(5)"
   ]
  },
  {
   "cell_type": "markdown",
   "id": "adaa4d33",
   "metadata": {},
   "source": [
    "**Scaling values**"
   ]
  },
  {
   "cell_type": "code",
   "execution_count": 16,
   "id": "9a16acb8",
   "metadata": {},
   "outputs": [
    {
     "data": {
      "text/html": [
       "<div>\n",
       "<style scoped>\n",
       "    .dataframe tbody tr th:only-of-type {\n",
       "        vertical-align: middle;\n",
       "    }\n",
       "\n",
       "    .dataframe tbody tr th {\n",
       "        vertical-align: top;\n",
       "    }\n",
       "\n",
       "    .dataframe thead th {\n",
       "        text-align: right;\n",
       "    }\n",
       "</style>\n",
       "<table border=\"1\" class=\"dataframe\">\n",
       "  <thead>\n",
       "    <tr style=\"text-align: right;\">\n",
       "      <th></th>\n",
       "      <th>tenure</th>\n",
       "      <th>MonthlyCharges</th>\n",
       "      <th>TotalCharges</th>\n",
       "    </tr>\n",
       "  </thead>\n",
       "  <tbody>\n",
       "    <tr>\n",
       "      <th>count</th>\n",
       "      <td>7032.000000</td>\n",
       "      <td>7032.000000</td>\n",
       "      <td>7032.000000</td>\n",
       "    </tr>\n",
       "    <tr>\n",
       "      <th>mean</th>\n",
       "      <td>32.421786</td>\n",
       "      <td>64.332480</td>\n",
       "      <td>2282.830489</td>\n",
       "    </tr>\n",
       "    <tr>\n",
       "      <th>std</th>\n",
       "      <td>24.545260</td>\n",
       "      <td>30.088668</td>\n",
       "      <td>2266.768490</td>\n",
       "    </tr>\n",
       "    <tr>\n",
       "      <th>min</th>\n",
       "      <td>1.000000</td>\n",
       "      <td>18.000000</td>\n",
       "      <td>18.000000</td>\n",
       "    </tr>\n",
       "    <tr>\n",
       "      <th>25%</th>\n",
       "      <td>9.000000</td>\n",
       "      <td>35.000000</td>\n",
       "      <td>401.000000</td>\n",
       "    </tr>\n",
       "    <tr>\n",
       "      <th>50%</th>\n",
       "      <td>29.000000</td>\n",
       "      <td>70.000000</td>\n",
       "      <td>1397.000000</td>\n",
       "    </tr>\n",
       "    <tr>\n",
       "      <th>75%</th>\n",
       "      <td>55.000000</td>\n",
       "      <td>89.000000</td>\n",
       "      <td>3794.250000</td>\n",
       "    </tr>\n",
       "    <tr>\n",
       "      <th>max</th>\n",
       "      <td>72.000000</td>\n",
       "      <td>118.000000</td>\n",
       "      <td>8684.000000</td>\n",
       "    </tr>\n",
       "  </tbody>\n",
       "</table>\n",
       "</div>"
      ],
      "text/plain": [
       "            tenure  MonthlyCharges  TotalCharges\n",
       "count  7032.000000     7032.000000   7032.000000\n",
       "mean     32.421786       64.332480   2282.830489\n",
       "std      24.545260       30.088668   2266.768490\n",
       "min       1.000000       18.000000     18.000000\n",
       "25%       9.000000       35.000000    401.000000\n",
       "50%      29.000000       70.000000   1397.000000\n",
       "75%      55.000000       89.000000   3794.250000\n",
       "max      72.000000      118.000000   8684.000000"
      ]
     },
     "execution_count": 16,
     "metadata": {},
     "output_type": "execute_result"
    }
   ],
   "source": [
    "cols_to_scale = ['tenure', 'MonthlyCharges', 'TotalCharges']\n",
    "df2[cols_to_scale].describe()"
   ]
  },
  {
   "cell_type": "code",
   "execution_count": 17,
   "id": "c7cd219a",
   "metadata": {},
   "outputs": [],
   "source": [
    "from sklearn.preprocessing import MinMaxScaler\n",
    "\n",
    "scaler = MinMaxScaler()\n",
    "df2[cols_to_scale] = scaler.fit_transform(df2[cols_to_scale])"
   ]
  },
  {
   "cell_type": "code",
   "execution_count": 18,
   "id": "2519bd8a",
   "metadata": {},
   "outputs": [
    {
     "data": {
      "text/html": [
       "<div>\n",
       "<style scoped>\n",
       "    .dataframe tbody tr th:only-of-type {\n",
       "        vertical-align: middle;\n",
       "    }\n",
       "\n",
       "    .dataframe tbody tr th {\n",
       "        vertical-align: top;\n",
       "    }\n",
       "\n",
       "    .dataframe thead th {\n",
       "        text-align: right;\n",
       "    }\n",
       "</style>\n",
       "<table border=\"1\" class=\"dataframe\">\n",
       "  <thead>\n",
       "    <tr style=\"text-align: right;\">\n",
       "      <th></th>\n",
       "      <th>tenure</th>\n",
       "      <th>MonthlyCharges</th>\n",
       "      <th>TotalCharges</th>\n",
       "    </tr>\n",
       "  </thead>\n",
       "  <tbody>\n",
       "    <tr>\n",
       "      <th>count</th>\n",
       "      <td>7032.000000</td>\n",
       "      <td>7032.000000</td>\n",
       "      <td>7032.000000</td>\n",
       "    </tr>\n",
       "    <tr>\n",
       "      <th>mean</th>\n",
       "      <td>0.442560</td>\n",
       "      <td>0.463325</td>\n",
       "      <td>0.261347</td>\n",
       "    </tr>\n",
       "    <tr>\n",
       "      <th>std</th>\n",
       "      <td>0.345708</td>\n",
       "      <td>0.300887</td>\n",
       "      <td>0.261570</td>\n",
       "    </tr>\n",
       "    <tr>\n",
       "      <th>min</th>\n",
       "      <td>0.000000</td>\n",
       "      <td>0.000000</td>\n",
       "      <td>0.000000</td>\n",
       "    </tr>\n",
       "    <tr>\n",
       "      <th>25%</th>\n",
       "      <td>0.112676</td>\n",
       "      <td>0.170000</td>\n",
       "      <td>0.044196</td>\n",
       "    </tr>\n",
       "    <tr>\n",
       "      <th>50%</th>\n",
       "      <td>0.394366</td>\n",
       "      <td>0.520000</td>\n",
       "      <td>0.159128</td>\n",
       "    </tr>\n",
       "    <tr>\n",
       "      <th>75%</th>\n",
       "      <td>0.760563</td>\n",
       "      <td>0.710000</td>\n",
       "      <td>0.435755</td>\n",
       "    </tr>\n",
       "    <tr>\n",
       "      <th>max</th>\n",
       "      <td>1.000000</td>\n",
       "      <td>1.000000</td>\n",
       "      <td>1.000000</td>\n",
       "    </tr>\n",
       "  </tbody>\n",
       "</table>\n",
       "</div>"
      ],
      "text/plain": [
       "            tenure  MonthlyCharges  TotalCharges\n",
       "count  7032.000000     7032.000000   7032.000000\n",
       "mean      0.442560        0.463325      0.261347\n",
       "std       0.345708        0.300887      0.261570\n",
       "min       0.000000        0.000000      0.000000\n",
       "25%       0.112676        0.170000      0.044196\n",
       "50%       0.394366        0.520000      0.159128\n",
       "75%       0.760563        0.710000      0.435755\n",
       "max       1.000000        1.000000      1.000000"
      ]
     },
     "execution_count": 18,
     "metadata": {},
     "output_type": "execute_result"
    }
   ],
   "source": [
    "df2[cols_to_scale].describe()"
   ]
  },
  {
   "cell_type": "markdown",
   "id": "7bc26636",
   "metadata": {},
   "source": [
    "## Model"
   ]
  },
  {
   "cell_type": "code",
   "execution_count": 19,
   "id": "3b78eadc",
   "metadata": {},
   "outputs": [],
   "source": [
    "from sklearn.model_selection import train_test_split\n",
    "\n",
    "X = df2.drop('Churn', axis=1)\n",
    "y = df2['Churn']\n",
    "\n",
    "X_train, X_test, y_train, y_test = train_test_split(X, y, test_size=0.2, random_state=42, stratify=y)\n",
    "\n",
    "# stratify=y ensures that the distribution of classes in the target variable is maintained in both the training and testing sets"
   ]
  },
  {
   "cell_type": "code",
   "execution_count": 20,
   "id": "5671ecad",
   "metadata": {},
   "outputs": [
    {
     "name": "stdout",
     "output_type": "stream",
     "text": [
      "Churn\n",
      "0    5163\n",
      "1    1869\n",
      "Name: count, dtype: int64\n",
      "Churn\n",
      "0    4130\n",
      "1    1495\n",
      "Name: count, dtype: int64\n",
      "Churn\n",
      "0    1033\n",
      "1     374\n",
      "Name: count, dtype: int64\n"
     ]
    }
   ],
   "source": [
    "print(y.value_counts())\n",
    "print(y_train.value_counts())\n",
    "print(y_test.value_counts())"
   ]
  },
  {
   "cell_type": "code",
   "execution_count": 21,
   "id": "6b4bcbf9",
   "metadata": {},
   "outputs": [
    {
     "data": {
      "text/plain": [
       "(2.7624398073836276, 2.762541806020067, 2.7620320855614975)"
      ]
     },
     "execution_count": 21,
     "metadata": {},
     "output_type": "execute_result"
    }
   ],
   "source": [
    "5163/1869, 4130/1495, 1033/374"
   ]
  },
  {
   "cell_type": "code",
   "execution_count": 22,
   "id": "dd02f4f9",
   "metadata": {},
   "outputs": [
    {
     "data": {
      "text/plain": [
       "((5625, 23), (1407, 23))"
      ]
     },
     "execution_count": 22,
     "metadata": {},
     "output_type": "execute_result"
    }
   ],
   "source": [
    "X_train.shape, X_test.shape"
   ]
  },
  {
   "cell_type": "markdown",
   "id": "5567f34f",
   "metadata": {},
   "source": [
    "## ANN\n",
    "\n",
    "**Build a model (ANN) in tensorflow/keras**"
   ]
  },
  {
   "cell_type": "code",
   "execution_count": 23,
   "id": "715c89ad",
   "metadata": {},
   "outputs": [],
   "source": [
    "import tensorflow as tf\n",
    "from tensorflow import keras\n",
    "from sklearn.metrics import confusion_matrix , classification_report"
   ]
  },
  {
   "cell_type": "code",
   "execution_count": 24,
   "id": "514587c4",
   "metadata": {
    "scrolled": true
   },
   "outputs": [],
   "source": [
    "def ANN(X_train, X_test, y_train, y_test):\n",
    "    model = keras.Sequential([\n",
    "        keras.layers.Dense(23, input_shape=(23,), activation='relu'),\n",
    "        keras.layers.Dense(12, activation='relu'),\n",
    "        keras.layers.Dense(1, activation='sigmoid')\n",
    "    ])\n",
    "\n",
    "    model.compile(\n",
    "        optimizer='adam',\n",
    "        loss='binary_crossentropy',\n",
    "        metrics=['accuracy']\n",
    "    )\n",
    "\n",
    "    model.fit(X_train, y_train, epochs=50, verbose=2)\n",
    "\n",
    "    print('\\nModel Evaluation:\\n')\n",
    "    print(model.evaluate(X_test, y_test))\n",
    "\n",
    "    y_pred = model.predict(X_test)\n",
    "    y_pred = np.round(y_pred)\n",
    "\n",
    "    # print('\\nClassification Report:\\n')\n",
    "    # print(classification_report(y_test, y_pred))\n",
    "\n",
    "    return y_pred"
   ]
  },
  {
   "cell_type": "code",
   "execution_count": 25,
   "id": "944892f3",
   "metadata": {},
   "outputs": [
    {
     "name": "stdout",
     "output_type": "stream",
     "text": [
      "Epoch 1/50\n",
      "176/176 - 4s - loss: 0.5327 - accuracy: 0.7397 - 4s/epoch - 20ms/step\n",
      "Epoch 2/50\n",
      "176/176 - 1s - loss: 0.4344 - accuracy: 0.7934 - 1s/epoch - 7ms/step\n",
      "Epoch 3/50\n",
      "176/176 - 1s - loss: 0.4229 - accuracy: 0.7996 - 1s/epoch - 7ms/step\n",
      "Epoch 4/50\n",
      "176/176 - 1s - loss: 0.4170 - accuracy: 0.8021 - 1s/epoch - 8ms/step\n",
      "Epoch 5/50\n",
      "176/176 - 1s - loss: 0.4157 - accuracy: 0.7995 - 1s/epoch - 6ms/step\n",
      "Epoch 6/50\n",
      "176/176 - 1s - loss: 0.4135 - accuracy: 0.8034 - 1s/epoch - 6ms/step\n",
      "Epoch 7/50\n",
      "176/176 - 1s - loss: 0.4119 - accuracy: 0.8011 - 1s/epoch - 6ms/step\n",
      "Epoch 8/50\n",
      "176/176 - 1s - loss: 0.4097 - accuracy: 0.8050 - 1s/epoch - 6ms/step\n",
      "Epoch 9/50\n",
      "176/176 - 1s - loss: 0.4087 - accuracy: 0.8068 - 1s/epoch - 6ms/step\n",
      "Epoch 10/50\n",
      "176/176 - 1s - loss: 0.4075 - accuracy: 0.8080 - 1s/epoch - 7ms/step\n",
      "Epoch 11/50\n",
      "176/176 - 1s - loss: 0.4063 - accuracy: 0.8059 - 1s/epoch - 6ms/step\n",
      "Epoch 12/50\n",
      "176/176 - 1s - loss: 0.4060 - accuracy: 0.8080 - 1s/epoch - 6ms/step\n",
      "Epoch 13/50\n",
      "176/176 - 1s - loss: 0.4048 - accuracy: 0.8100 - 1s/epoch - 6ms/step\n",
      "Epoch 14/50\n",
      "176/176 - 1s - loss: 0.4041 - accuracy: 0.8094 - 1s/epoch - 6ms/step\n",
      "Epoch 15/50\n",
      "176/176 - 1s - loss: 0.4029 - accuracy: 0.8080 - 1s/epoch - 6ms/step\n",
      "Epoch 16/50\n",
      "176/176 - 1s - loss: 0.4023 - accuracy: 0.8080 - 1s/epoch - 6ms/step\n",
      "Epoch 17/50\n",
      "176/176 - 1s - loss: 0.4005 - accuracy: 0.8096 - 1s/epoch - 6ms/step\n",
      "Epoch 18/50\n",
      "176/176 - 1s - loss: 0.3997 - accuracy: 0.8078 - 1s/epoch - 6ms/step\n",
      "Epoch 19/50\n",
      "176/176 - 1s - loss: 0.3993 - accuracy: 0.8098 - 1s/epoch - 6ms/step\n",
      "Epoch 20/50\n",
      "176/176 - 1s - loss: 0.3985 - accuracy: 0.8094 - 1s/epoch - 7ms/step\n",
      "Epoch 21/50\n",
      "176/176 - 1s - loss: 0.3966 - accuracy: 0.8098 - 1s/epoch - 7ms/step\n",
      "Epoch 22/50\n",
      "176/176 - 1s - loss: 0.3956 - accuracy: 0.8140 - 1s/epoch - 7ms/step\n",
      "Epoch 23/50\n",
      "176/176 - 1s - loss: 0.3959 - accuracy: 0.8123 - 1s/epoch - 7ms/step\n",
      "Epoch 24/50\n",
      "176/176 - 1s - loss: 0.3949 - accuracy: 0.8135 - 1s/epoch - 7ms/step\n",
      "Epoch 25/50\n",
      "176/176 - 1s - loss: 0.3934 - accuracy: 0.8132 - 1s/epoch - 7ms/step\n",
      "Epoch 26/50\n",
      "176/176 - 1s - loss: 0.3934 - accuracy: 0.8165 - 1s/epoch - 7ms/step\n",
      "Epoch 27/50\n",
      "176/176 - 1s - loss: 0.3925 - accuracy: 0.8160 - 1s/epoch - 7ms/step\n",
      "Epoch 28/50\n",
      "176/176 - 1s - loss: 0.3918 - accuracy: 0.8174 - 1s/epoch - 7ms/step\n",
      "Epoch 29/50\n",
      "176/176 - 1s - loss: 0.3919 - accuracy: 0.8144 - 1s/epoch - 7ms/step\n",
      "Epoch 30/50\n",
      "176/176 - 1s - loss: 0.3907 - accuracy: 0.8158 - 1s/epoch - 7ms/step\n",
      "Epoch 31/50\n",
      "176/176 - 1s - loss: 0.3902 - accuracy: 0.8169 - 1s/epoch - 7ms/step\n",
      "Epoch 32/50\n",
      "176/176 - 1s - loss: 0.3897 - accuracy: 0.8164 - 1s/epoch - 7ms/step\n",
      "Epoch 33/50\n",
      "176/176 - 1s - loss: 0.3894 - accuracy: 0.8155 - 1s/epoch - 7ms/step\n",
      "Epoch 34/50\n",
      "176/176 - 1s - loss: 0.3881 - accuracy: 0.8172 - 1s/epoch - 6ms/step\n",
      "Epoch 35/50\n",
      "176/176 - 1s - loss: 0.3882 - accuracy: 0.8174 - 1s/epoch - 7ms/step\n",
      "Epoch 36/50\n",
      "176/176 - 1s - loss: 0.3868 - accuracy: 0.8151 - 1s/epoch - 7ms/step\n",
      "Epoch 37/50\n",
      "176/176 - 1s - loss: 0.3867 - accuracy: 0.8192 - 1s/epoch - 7ms/step\n",
      "Epoch 38/50\n",
      "176/176 - 1s - loss: 0.3855 - accuracy: 0.8208 - 1s/epoch - 6ms/step\n",
      "Epoch 39/50\n",
      "176/176 - 1s - loss: 0.3874 - accuracy: 0.8188 - 1s/epoch - 6ms/step\n",
      "Epoch 40/50\n",
      "176/176 - 1s - loss: 0.3846 - accuracy: 0.8220 - 1s/epoch - 6ms/step\n",
      "Epoch 41/50\n",
      "176/176 - 1s - loss: 0.3850 - accuracy: 0.8204 - 1s/epoch - 7ms/step\n",
      "Epoch 42/50\n",
      "176/176 - 1s - loss: 0.3824 - accuracy: 0.8185 - 1s/epoch - 7ms/step\n",
      "Epoch 43/50\n",
      "176/176 - 1s - loss: 0.3832 - accuracy: 0.8212 - 1s/epoch - 7ms/step\n",
      "Epoch 44/50\n",
      "176/176 - 1s - loss: 0.3825 - accuracy: 0.8224 - 1s/epoch - 7ms/step\n",
      "Epoch 45/50\n",
      "176/176 - 1s - loss: 0.3818 - accuracy: 0.8222 - 1s/epoch - 6ms/step\n",
      "Epoch 46/50\n",
      "176/176 - 1s - loss: 0.3820 - accuracy: 0.8226 - 1s/epoch - 6ms/step\n",
      "Epoch 47/50\n",
      "176/176 - 1s - loss: 0.3812 - accuracy: 0.8240 - 1s/epoch - 6ms/step\n",
      "Epoch 48/50\n",
      "176/176 - 1s - loss: 0.3835 - accuracy: 0.8228 - 1s/epoch - 7ms/step\n",
      "Epoch 49/50\n",
      "176/176 - 1s - loss: 0.3801 - accuracy: 0.8231 - 1s/epoch - 7ms/step\n",
      "Epoch 50/50\n",
      "176/176 - 1s - loss: 0.3808 - accuracy: 0.8245 - 1s/epoch - 6ms/step\n",
      "\n",
      "Model Evaluation:\n",
      "\n",
      "44/44 [==============================] - 0s 6ms/step - loss: 0.4444 - accuracy: 0.7854\n",
      "[0.4444153606891632, 0.7853589057922363]\n",
      "44/44 [==============================] - 0s 3ms/step\n"
     ]
    }
   ],
   "source": [
    "y_pred = ANN(X_train, X_test, y_train, y_test)"
   ]
  },
  {
   "cell_type": "code",
   "execution_count": 26,
   "id": "00aa6fa9",
   "metadata": {},
   "outputs": [
    {
     "name": "stdout",
     "output_type": "stream",
     "text": [
      "\n",
      "Classification Report:\n",
      "\n",
      "              precision    recall  f1-score   support\n",
      "\n",
      "           0       0.84      0.88      0.86      1033\n",
      "           1       0.61      0.52      0.56       374\n",
      "\n",
      "    accuracy                           0.79      1407\n",
      "   macro avg       0.72      0.70      0.71      1407\n",
      "weighted avg       0.78      0.79      0.78      1407\n",
      "\n"
     ]
    }
   ],
   "source": [
    "print('\\nClassification Report:\\n')\n",
    "print(classification_report(y_test, y_pred))"
   ]
  },
  {
   "cell_type": "markdown",
   "id": "3a9e8a34",
   "metadata": {},
   "source": [
    "**class 1 has lower performance with lower precision, recall, and F1-score.**"
   ]
  },
  {
   "cell_type": "markdown",
   "id": "5cdaf21c",
   "metadata": {},
   "source": [
    "# Imbalanced Dataset\n",
    "reference: https://www.kaggle.com/rafjaa/resampling-strategies-for-imbalanced-datasets\n",
    "\n"
   ]
  },
  {
   "cell_type": "markdown",
   "id": "eaabdaa2",
   "metadata": {},
   "source": [
    "## Method 1: Undersampling"
   ]
  },
  {
   "cell_type": "code",
   "execution_count": 27,
   "id": "e5039c2d",
   "metadata": {},
   "outputs": [],
   "source": [
    "# class count\n",
    "count_class_0, count_class_1 = df2['Churn'].value_counts()\n",
    "\n",
    "# Divide by class\n",
    "df_class_0 = df2[df2['Churn'] == 0]\n",
    "df_class_1 = df2[df2['Churn'] == 1]"
   ]
  },
  {
   "cell_type": "code",
   "execution_count": 28,
   "id": "5222e414",
   "metadata": {},
   "outputs": [
    {
     "name": "stdout",
     "output_type": "stream",
     "text": [
      "Random under-sampling:\n",
      "Churn\n",
      "0    1869\n",
      "1    1869\n",
      "Name: count, dtype: int64\n"
     ]
    }
   ],
   "source": [
    "# Undersample 0-class and concat the df of both class\n",
    "df_class_0_under = df_class_0.sample(count_class_1)\n",
    "df_undersample = pd.concat([df_class_0_under, df_class_1], axis=0)\n",
    "\n",
    "print('Random under-sampling:')\n",
    "print(df_undersample['Churn'].value_counts())"
   ]
  },
  {
   "cell_type": "code",
   "execution_count": 29,
   "id": "aae1f6e0",
   "metadata": {},
   "outputs": [],
   "source": [
    "X = df_undersample.drop('Churn', axis=1)\n",
    "y = df_undersample['Churn']\n",
    "\n",
    "X_train, X_test, y_train, y_test = train_test_split(X, y, test_size=0.2, random_state=42, stratify=y)"
   ]
  },
  {
   "cell_type": "code",
   "execution_count": 30,
   "id": "6e272b58",
   "metadata": {},
   "outputs": [
    {
     "data": {
      "text/plain": [
       "Churn\n",
       "0    1495\n",
       "1    1495\n",
       "Name: count, dtype: int64"
      ]
     },
     "execution_count": 30,
     "metadata": {},
     "output_type": "execute_result"
    }
   ],
   "source": [
    "y_train.value_counts()"
   ]
  },
  {
   "cell_type": "code",
   "execution_count": 31,
   "id": "e54007b9",
   "metadata": {},
   "outputs": [
    {
     "name": "stdout",
     "output_type": "stream",
     "text": [
      "Epoch 1/50\n",
      "94/94 - 1s - loss: 0.6351 - accuracy: 0.6452 - 1s/epoch - 14ms/step\n",
      "Epoch 2/50\n",
      "94/94 - 1s - loss: 0.5364 - accuracy: 0.7462 - 685ms/epoch - 7ms/step\n",
      "Epoch 3/50\n",
      "94/94 - 1s - loss: 0.5066 - accuracy: 0.7656 - 699ms/epoch - 7ms/step\n",
      "Epoch 4/50\n",
      "94/94 - 1s - loss: 0.4974 - accuracy: 0.7649 - 719ms/epoch - 8ms/step\n",
      "Epoch 5/50\n",
      "94/94 - 1s - loss: 0.4928 - accuracy: 0.7672 - 715ms/epoch - 8ms/step\n",
      "Epoch 6/50\n",
      "94/94 - 1s - loss: 0.4902 - accuracy: 0.7639 - 735ms/epoch - 8ms/step\n",
      "Epoch 7/50\n",
      "94/94 - 1s - loss: 0.4889 - accuracy: 0.7712 - 704ms/epoch - 7ms/step\n",
      "Epoch 8/50\n",
      "94/94 - 1s - loss: 0.4877 - accuracy: 0.7669 - 722ms/epoch - 8ms/step\n",
      "Epoch 9/50\n",
      "94/94 - 1s - loss: 0.4851 - accuracy: 0.7712 - 716ms/epoch - 8ms/step\n",
      "Epoch 10/50\n",
      "94/94 - 1s - loss: 0.4830 - accuracy: 0.7702 - 729ms/epoch - 8ms/step\n",
      "Epoch 11/50\n",
      "94/94 - 1s - loss: 0.4819 - accuracy: 0.7716 - 704ms/epoch - 7ms/step\n",
      "Epoch 12/50\n",
      "94/94 - 1s - loss: 0.4800 - accuracy: 0.7719 - 706ms/epoch - 8ms/step\n",
      "Epoch 13/50\n",
      "94/94 - 1s - loss: 0.4783 - accuracy: 0.7732 - 706ms/epoch - 8ms/step\n",
      "Epoch 14/50\n",
      "94/94 - 1s - loss: 0.4768 - accuracy: 0.7763 - 695ms/epoch - 7ms/step\n",
      "Epoch 15/50\n",
      "94/94 - 1s - loss: 0.4755 - accuracy: 0.7736 - 714ms/epoch - 8ms/step\n",
      "Epoch 16/50\n",
      "94/94 - 1s - loss: 0.4764 - accuracy: 0.7793 - 709ms/epoch - 8ms/step\n",
      "Epoch 17/50\n",
      "94/94 - 1s - loss: 0.4734 - accuracy: 0.7756 - 715ms/epoch - 8ms/step\n",
      "Epoch 18/50\n",
      "94/94 - 1s - loss: 0.4746 - accuracy: 0.7746 - 726ms/epoch - 8ms/step\n",
      "Epoch 19/50\n",
      "94/94 - 1s - loss: 0.4722 - accuracy: 0.7793 - 735ms/epoch - 8ms/step\n",
      "Epoch 20/50\n",
      "94/94 - 1s - loss: 0.4710 - accuracy: 0.7796 - 743ms/epoch - 8ms/step\n",
      "Epoch 21/50\n",
      "94/94 - 1s - loss: 0.4693 - accuracy: 0.7776 - 702ms/epoch - 7ms/step\n",
      "Epoch 22/50\n",
      "94/94 - 1s - loss: 0.4697 - accuracy: 0.7779 - 706ms/epoch - 8ms/step\n",
      "Epoch 23/50\n",
      "94/94 - 1s - loss: 0.4676 - accuracy: 0.7783 - 720ms/epoch - 8ms/step\n",
      "Epoch 24/50\n",
      "94/94 - 1s - loss: 0.4652 - accuracy: 0.7846 - 735ms/epoch - 8ms/step\n",
      "Epoch 25/50\n",
      "94/94 - 1s - loss: 0.4650 - accuracy: 0.7829 - 724ms/epoch - 8ms/step\n",
      "Epoch 26/50\n",
      "94/94 - 1s - loss: 0.4632 - accuracy: 0.7846 - 710ms/epoch - 8ms/step\n",
      "Epoch 27/50\n",
      "94/94 - 1s - loss: 0.4624 - accuracy: 0.7849 - 709ms/epoch - 8ms/step\n",
      "Epoch 28/50\n",
      "94/94 - 1s - loss: 0.4625 - accuracy: 0.7849 - 731ms/epoch - 8ms/step\n",
      "Epoch 29/50\n",
      "94/94 - 1s - loss: 0.4629 - accuracy: 0.7789 - 747ms/epoch - 8ms/step\n",
      "Epoch 30/50\n",
      "94/94 - 1s - loss: 0.4628 - accuracy: 0.7803 - 705ms/epoch - 7ms/step\n",
      "Epoch 31/50\n",
      "94/94 - 1s - loss: 0.4586 - accuracy: 0.7883 - 684ms/epoch - 7ms/step\n",
      "Epoch 32/50\n",
      "94/94 - 1s - loss: 0.4570 - accuracy: 0.7866 - 726ms/epoch - 8ms/step\n",
      "Epoch 33/50\n",
      "94/94 - 1s - loss: 0.4572 - accuracy: 0.7880 - 729ms/epoch - 8ms/step\n",
      "Epoch 34/50\n",
      "94/94 - 1s - loss: 0.4552 - accuracy: 0.7873 - 728ms/epoch - 8ms/step\n",
      "Epoch 35/50\n",
      "94/94 - 1s - loss: 0.4550 - accuracy: 0.7906 - 722ms/epoch - 8ms/step\n",
      "Epoch 36/50\n",
      "94/94 - 1s - loss: 0.4530 - accuracy: 0.7896 - 680ms/epoch - 7ms/step\n",
      "Epoch 37/50\n",
      "94/94 - 1s - loss: 0.4514 - accuracy: 0.7903 - 693ms/epoch - 7ms/step\n",
      "Epoch 38/50\n",
      "94/94 - 1s - loss: 0.4511 - accuracy: 0.7910 - 716ms/epoch - 8ms/step\n",
      "Epoch 39/50\n",
      "94/94 - 1s - loss: 0.4507 - accuracy: 0.7893 - 707ms/epoch - 8ms/step\n",
      "Epoch 40/50\n",
      "94/94 - 1s - loss: 0.4494 - accuracy: 0.7893 - 730ms/epoch - 8ms/step\n",
      "Epoch 41/50\n",
      "94/94 - 1s - loss: 0.4472 - accuracy: 0.7920 - 739ms/epoch - 8ms/step\n",
      "Epoch 42/50\n",
      "94/94 - 1s - loss: 0.4480 - accuracy: 0.7876 - 711ms/epoch - 8ms/step\n",
      "Epoch 43/50\n",
      "94/94 - 1s - loss: 0.4456 - accuracy: 0.7970 - 693ms/epoch - 7ms/step\n",
      "Epoch 44/50\n",
      "94/94 - 1s - loss: 0.4447 - accuracy: 0.7936 - 685ms/epoch - 7ms/step\n",
      "Epoch 45/50\n",
      "94/94 - 1s - loss: 0.4432 - accuracy: 0.7957 - 674ms/epoch - 7ms/step\n",
      "Epoch 46/50\n",
      "94/94 - 1s - loss: 0.4429 - accuracy: 0.7990 - 673ms/epoch - 7ms/step\n",
      "Epoch 47/50\n",
      "94/94 - 1s - loss: 0.4427 - accuracy: 0.7957 - 669ms/epoch - 7ms/step\n",
      "Epoch 48/50\n",
      "94/94 - 1s - loss: 0.4417 - accuracy: 0.7997 - 667ms/epoch - 7ms/step\n",
      "Epoch 49/50\n",
      "94/94 - 1s - loss: 0.4391 - accuracy: 0.8000 - 660ms/epoch - 7ms/step\n",
      "Epoch 50/50\n",
      "94/94 - 1s - loss: 0.4391 - accuracy: 0.7977 - 659ms/epoch - 7ms/step\n",
      "\n",
      "Model Evaluation:\n",
      "\n",
      "24/24 [==============================] - 0s 6ms/step - loss: 0.5193 - accuracy: 0.7473\n",
      "[0.5193367004394531, 0.7473261952400208]\n",
      "24/24 [==============================] - 0s 3ms/step\n"
     ]
    }
   ],
   "source": [
    "y_pred = ANN(X_train, X_test, y_train, y_test)"
   ]
  },
  {
   "cell_type": "code",
   "execution_count": 32,
   "id": "1581e3d7",
   "metadata": {},
   "outputs": [
    {
     "name": "stdout",
     "output_type": "stream",
     "text": [
      "\n",
      "Classification Report:\n",
      "\n",
      "              precision    recall  f1-score   support\n",
      "\n",
      "           0       0.78      0.70      0.73       374\n",
      "           1       0.72      0.80      0.76       374\n",
      "\n",
      "    accuracy                           0.75       748\n",
      "   macro avg       0.75      0.75      0.75       748\n",
      "weighted avg       0.75      0.75      0.75       748\n",
      "\n"
     ]
    }
   ],
   "source": [
    "print('\\nClassification Report:\\n')\n",
    "print(classification_report(y_test, y_pred))"
   ]
  },
  {
   "cell_type": "markdown",
   "id": "d6183529",
   "metadata": {},
   "source": [
    "**Results after Undersampling**\n",
    "- f1-score for minority class 1 improved from **0.6 to 0.75**\n",
    "- f1-score for class 0 reduced from **0.86 to 0.75**\n",
    "- We have more generalized classifier which classifies both classes with similar prediction score"
   ]
  },
  {
   "cell_type": "markdown",
   "id": "2850d4b4",
   "metadata": {},
   "source": [
    "## Method 2: Oversampling"
   ]
  },
  {
   "cell_type": "code",
   "execution_count": 33,
   "id": "310775cf",
   "metadata": {},
   "outputs": [
    {
     "name": "stdout",
     "output_type": "stream",
     "text": [
      "Random over-sampling:\n",
      "Churn\n",
      "0    5163\n",
      "1    5163\n",
      "Name: count, dtype: int64\n"
     ]
    }
   ],
   "source": [
    "# Oversample class-1 and concat the df of both classes\n",
    "df_class_1_over = df_class_1.sample(count_class_0, replace=True)\n",
    "df_oversample = pd.concat([df_class_0, df_class_1_over], axis=0)\n",
    "\n",
    "print('Random over-sampling:')\n",
    "print(df_oversample['Churn'].value_counts())"
   ]
  },
  {
   "cell_type": "code",
   "execution_count": 34,
   "id": "934361cb",
   "metadata": {},
   "outputs": [],
   "source": [
    "X = df_oversample.drop('Churn', axis=1)\n",
    "y = df_oversample['Churn']\n",
    "\n",
    "X_train, X_test, y_train, y_test = train_test_split(X, y, test_size=0.2, random_state=42, stratify=y)"
   ]
  },
  {
   "cell_type": "code",
   "execution_count": 35,
   "id": "a4aa2422",
   "metadata": {},
   "outputs": [
    {
     "data": {
      "text/plain": [
       "Churn\n",
       "0    4130\n",
       "1    4130\n",
       "Name: count, dtype: int64"
      ]
     },
     "execution_count": 35,
     "metadata": {},
     "output_type": "execute_result"
    }
   ],
   "source": [
    "y_train.value_counts()"
   ]
  },
  {
   "cell_type": "code",
   "execution_count": 36,
   "id": "cecd863d",
   "metadata": {},
   "outputs": [
    {
     "name": "stdout",
     "output_type": "stream",
     "text": [
      "Epoch 1/50\n",
      "259/259 - 2s - loss: 0.5981 - accuracy: 0.6770 - 2s/epoch - 9ms/step\n",
      "Epoch 2/50\n",
      "259/259 - 2s - loss: 0.5051 - accuracy: 0.7519 - 2s/epoch - 7ms/step\n",
      "Epoch 3/50\n",
      "259/259 - 2s - loss: 0.4926 - accuracy: 0.7571 - 2s/epoch - 7ms/step\n",
      "Epoch 4/50\n",
      "259/259 - 2s - loss: 0.4884 - accuracy: 0.7610 - 2s/epoch - 7ms/step\n",
      "Epoch 5/50\n",
      "259/259 - 2s - loss: 0.4858 - accuracy: 0.7626 - 2s/epoch - 7ms/step\n",
      "Epoch 6/50\n",
      "259/259 - 2s - loss: 0.4826 - accuracy: 0.7623 - 2s/epoch - 7ms/step\n",
      "Epoch 7/50\n",
      "259/259 - 2s - loss: 0.4803 - accuracy: 0.7649 - 2s/epoch - 7ms/step\n",
      "Epoch 8/50\n",
      "259/259 - 2s - loss: 0.4781 - accuracy: 0.7677 - 2s/epoch - 7ms/step\n",
      "Epoch 9/50\n",
      "259/259 - 2s - loss: 0.4755 - accuracy: 0.7699 - 2s/epoch - 7ms/step\n",
      "Epoch 10/50\n",
      "259/259 - 2s - loss: 0.4743 - accuracy: 0.7694 - 2s/epoch - 7ms/step\n",
      "Epoch 11/50\n",
      "259/259 - 2s - loss: 0.4725 - accuracy: 0.7685 - 2s/epoch - 7ms/step\n",
      "Epoch 12/50\n",
      "259/259 - 2s - loss: 0.4704 - accuracy: 0.7735 - 2s/epoch - 7ms/step\n",
      "Epoch 13/50\n",
      "259/259 - 2s - loss: 0.4684 - accuracy: 0.7732 - 2s/epoch - 7ms/step\n",
      "Epoch 14/50\n",
      "259/259 - 2s - loss: 0.4668 - accuracy: 0.7730 - 2s/epoch - 7ms/step\n",
      "Epoch 15/50\n",
      "259/259 - 2s - loss: 0.4649 - accuracy: 0.7734 - 2s/epoch - 7ms/step\n",
      "Epoch 16/50\n",
      "259/259 - 2s - loss: 0.4637 - accuracy: 0.7781 - 2s/epoch - 7ms/step\n",
      "Epoch 17/50\n",
      "259/259 - 2s - loss: 0.4625 - accuracy: 0.7749 - 2s/epoch - 7ms/step\n",
      "Epoch 18/50\n",
      "259/259 - 2s - loss: 0.4610 - accuracy: 0.7742 - 2s/epoch - 7ms/step\n",
      "Epoch 19/50\n",
      "259/259 - 2s - loss: 0.4589 - accuracy: 0.7793 - 2s/epoch - 7ms/step\n",
      "Epoch 20/50\n",
      "259/259 - 2s - loss: 0.4583 - accuracy: 0.7791 - 2s/epoch - 7ms/step\n",
      "Epoch 21/50\n",
      "259/259 - 2s - loss: 0.4567 - accuracy: 0.7788 - 2s/epoch - 7ms/step\n",
      "Epoch 22/50\n",
      "259/259 - 2s - loss: 0.4551 - accuracy: 0.7785 - 2s/epoch - 7ms/step\n",
      "Epoch 23/50\n",
      "259/259 - 2s - loss: 0.4547 - accuracy: 0.7795 - 2s/epoch - 7ms/step\n",
      "Epoch 24/50\n",
      "259/259 - 2s - loss: 0.4521 - accuracy: 0.7827 - 2s/epoch - 7ms/step\n",
      "Epoch 25/50\n",
      "259/259 - 2s - loss: 0.4519 - accuracy: 0.7835 - 2s/epoch - 7ms/step\n",
      "Epoch 26/50\n",
      "259/259 - 2s - loss: 0.4498 - accuracy: 0.7843 - 2s/epoch - 7ms/step\n",
      "Epoch 27/50\n",
      "259/259 - 2s - loss: 0.4494 - accuracy: 0.7829 - 2s/epoch - 7ms/step\n",
      "Epoch 28/50\n",
      "259/259 - 2s - loss: 0.4477 - accuracy: 0.7843 - 2s/epoch - 7ms/step\n",
      "Epoch 29/50\n",
      "259/259 - 2s - loss: 0.4470 - accuracy: 0.7834 - 2s/epoch - 7ms/step\n",
      "Epoch 30/50\n",
      "259/259 - 2s - loss: 0.4461 - accuracy: 0.7824 - 2s/epoch - 7ms/step\n",
      "Epoch 31/50\n",
      "259/259 - 2s - loss: 0.4449 - accuracy: 0.7874 - 2s/epoch - 7ms/step\n",
      "Epoch 32/50\n",
      "259/259 - 2s - loss: 0.4435 - accuracy: 0.7860 - 2s/epoch - 7ms/step\n",
      "Epoch 33/50\n",
      "259/259 - 2s - loss: 0.4432 - accuracy: 0.7854 - 2s/epoch - 7ms/step\n",
      "Epoch 34/50\n",
      "259/259 - 2s - loss: 0.4415 - accuracy: 0.7851 - 2s/epoch - 7ms/step\n",
      "Epoch 35/50\n",
      "259/259 - 2s - loss: 0.4407 - accuracy: 0.7879 - 2s/epoch - 7ms/step\n",
      "Epoch 36/50\n",
      "259/259 - 2s - loss: 0.4395 - accuracy: 0.7863 - 2s/epoch - 7ms/step\n",
      "Epoch 37/50\n",
      "259/259 - 2s - loss: 0.4386 - accuracy: 0.7914 - 2s/epoch - 7ms/step\n",
      "Epoch 38/50\n",
      "259/259 - 2s - loss: 0.4378 - accuracy: 0.7886 - 2s/epoch - 7ms/step\n",
      "Epoch 39/50\n",
      "259/259 - 2s - loss: 0.4359 - accuracy: 0.7898 - 2s/epoch - 7ms/step\n",
      "Epoch 40/50\n",
      "259/259 - 2s - loss: 0.4354 - accuracy: 0.7920 - 2s/epoch - 7ms/step\n",
      "Epoch 41/50\n",
      "259/259 - 2s - loss: 0.4341 - accuracy: 0.7909 - 2s/epoch - 7ms/step\n",
      "Epoch 42/50\n",
      "259/259 - 2s - loss: 0.4333 - accuracy: 0.7915 - 2s/epoch - 7ms/step\n",
      "Epoch 43/50\n",
      "259/259 - 2s - loss: 0.4329 - accuracy: 0.7927 - 2s/epoch - 7ms/step\n",
      "Epoch 44/50\n",
      "259/259 - 2s - loss: 0.4303 - accuracy: 0.7973 - 2s/epoch - 7ms/step\n",
      "Epoch 45/50\n",
      "259/259 - 2s - loss: 0.4299 - accuracy: 0.7964 - 2s/epoch - 7ms/step\n",
      "Epoch 46/50\n",
      "259/259 - 2s - loss: 0.4307 - accuracy: 0.7938 - 2s/epoch - 7ms/step\n",
      "Epoch 47/50\n",
      "259/259 - 2s - loss: 0.4283 - accuracy: 0.7937 - 2s/epoch - 7ms/step\n",
      "Epoch 48/50\n",
      "259/259 - 2s - loss: 0.4272 - accuracy: 0.7950 - 2s/epoch - 7ms/step\n",
      "Epoch 49/50\n",
      "259/259 - 2s - loss: 0.4257 - accuracy: 0.7976 - 2s/epoch - 7ms/step\n",
      "Epoch 50/50\n",
      "259/259 - 2s - loss: 0.4269 - accuracy: 0.7996 - 2s/epoch - 7ms/step\n",
      "\n",
      "Model Evaluation:\n",
      "\n",
      "65/65 [==============================] - 1s 7ms/step - loss: 0.4619 - accuracy: 0.7827\n",
      "[0.46188628673553467, 0.7826718091964722]\n",
      "65/65 [==============================] - 0s 3ms/step\n"
     ]
    }
   ],
   "source": [
    "y_pred = ANN(X_train, X_test, y_train, y_test)"
   ]
  },
  {
   "cell_type": "code",
   "execution_count": 37,
   "id": "c58055f3",
   "metadata": {},
   "outputs": [
    {
     "name": "stdout",
     "output_type": "stream",
     "text": [
      "\n",
      "Classification Report:\n",
      "\n",
      "              precision    recall  f1-score   support\n",
      "\n",
      "           0       0.83      0.71      0.77      1033\n",
      "           1       0.75      0.85      0.80      1033\n",
      "\n",
      "    accuracy                           0.78      2066\n",
      "   macro avg       0.79      0.78      0.78      2066\n",
      "weighted avg       0.79      0.78      0.78      2066\n",
      "\n"
     ]
    }
   ],
   "source": [
    "print('\\nClassification Report:\\n')\n",
    "print(classification_report(y_test, y_pred))"
   ]
  },
  {
   "cell_type": "markdown",
   "id": "a21ab64c",
   "metadata": {},
   "source": [
    "**Results after Oversampling**\n",
    "| Method       | f1-score (class 1) | f1-score (class 0)|\n",
    "|--------------|--------------------|-------------------|\n",
    "| Initial      | 0.56               |0.86               |\n",
    "| Undersampling| 0.76               |0.73               |\n",
    "| Oversampling | 0.8                |0.77               |\n",
    "\n",
    "We have more generalized classifier which classifies both classes with similar prediction score"
   ]
  },
  {
   "cell_type": "markdown",
   "id": "c30a4a00",
   "metadata": {},
   "source": [
    "## Method 3: SMOTE\n",
    "SMOTE (Synthetic Minority Over-sampling Technique) is a resampling method commonly used in machine learning to address class imbalance. It generates synthetic instances of the minority class by interpolating between existing minority class instances, thereby balancing the class distribution and improving the performance of models on imbalanced datasets."
   ]
  },
  {
   "cell_type": "markdown",
   "id": "51e4c111",
   "metadata": {},
   "source": [
    "To install imbalanced-learn library"
   ]
  },
  {
   "cell_type": "code",
   "execution_count": 38,
   "id": "b3e05875",
   "metadata": {},
   "outputs": [],
   "source": [
    "# !pip install imbalanced-learn"
   ]
  },
  {
   "cell_type": "code",
   "execution_count": 39,
   "id": "f70133c0",
   "metadata": {},
   "outputs": [],
   "source": [
    "X = df2.drop('Churn',axis='columns')\n",
    "y = df2['Churn']"
   ]
  },
  {
   "cell_type": "code",
   "execution_count": 40,
   "id": "628cc6db",
   "metadata": {},
   "outputs": [
    {
     "data": {
      "text/plain": [
       "Churn\n",
       "0    5163\n",
       "1    5163\n",
       "Name: count, dtype: int64"
      ]
     },
     "execution_count": 40,
     "metadata": {},
     "output_type": "execute_result"
    }
   ],
   "source": [
    "from imblearn.over_sampling import SMOTE\n",
    "\n",
    "smote = SMOTE(sampling_strategy='minority')\n",
    "X_sm, y_sm = smote.fit_resample(X, y)\n",
    "\n",
    "y_sm.value_counts()"
   ]
  },
  {
   "cell_type": "code",
   "execution_count": 41,
   "id": "9d61a820",
   "metadata": {},
   "outputs": [],
   "source": [
    "X_train, X_test, y_train, y_test = train_test_split(X_sm, y_sm, test_size=0.2, random_state=42, stratify=y_sm)"
   ]
  },
  {
   "cell_type": "code",
   "execution_count": 42,
   "id": "2ec1067e",
   "metadata": {},
   "outputs": [
    {
     "name": "stdout",
     "output_type": "stream",
     "text": [
      "Epoch 1/50\n",
      "259/259 - 3s - loss: 0.5616 - accuracy: 0.7292 - 3s/epoch - 10ms/step\n",
      "Epoch 2/50\n",
      "259/259 - 2s - loss: 0.4637 - accuracy: 0.7835 - 2s/epoch - 7ms/step\n",
      "Epoch 3/50\n",
      "259/259 - 2s - loss: 0.4532 - accuracy: 0.7861 - 2s/epoch - 7ms/step\n",
      "Epoch 4/50\n",
      "259/259 - 2s - loss: 0.4495 - accuracy: 0.7870 - 2s/epoch - 7ms/step\n",
      "Epoch 5/50\n",
      "259/259 - 2s - loss: 0.4461 - accuracy: 0.7887 - 2s/epoch - 7ms/step\n",
      "Epoch 6/50\n",
      "259/259 - 2s - loss: 0.4422 - accuracy: 0.7891 - 2s/epoch - 7ms/step\n",
      "Epoch 7/50\n",
      "259/259 - 2s - loss: 0.4390 - accuracy: 0.7916 - 2s/epoch - 7ms/step\n",
      "Epoch 8/50\n",
      "259/259 - 2s - loss: 0.4368 - accuracy: 0.7924 - 2s/epoch - 7ms/step\n",
      "Epoch 9/50\n",
      "259/259 - 2s - loss: 0.4341 - accuracy: 0.7969 - 2s/epoch - 7ms/step\n",
      "Epoch 10/50\n",
      "259/259 - 2s - loss: 0.4304 - accuracy: 0.7987 - 2s/epoch - 7ms/step\n",
      "Epoch 11/50\n",
      "259/259 - 2s - loss: 0.4295 - accuracy: 0.7988 - 2s/epoch - 7ms/step\n",
      "Epoch 12/50\n",
      "259/259 - 2s - loss: 0.4266 - accuracy: 0.8021 - 2s/epoch - 7ms/step\n",
      "Epoch 13/50\n",
      "259/259 - 2s - loss: 0.4248 - accuracy: 0.8027 - 2s/epoch - 7ms/step\n",
      "Epoch 14/50\n",
      "259/259 - 2s - loss: 0.4226 - accuracy: 0.8052 - 2s/epoch - 7ms/step\n",
      "Epoch 15/50\n",
      "259/259 - 2s - loss: 0.4211 - accuracy: 0.8074 - 2s/epoch - 7ms/step\n",
      "Epoch 16/50\n",
      "259/259 - 2s - loss: 0.4194 - accuracy: 0.8070 - 2s/epoch - 7ms/step\n",
      "Epoch 17/50\n",
      "259/259 - 2s - loss: 0.4170 - accuracy: 0.8098 - 2s/epoch - 7ms/step\n",
      "Epoch 18/50\n",
      "259/259 - 2s - loss: 0.4162 - accuracy: 0.8092 - 2s/epoch - 7ms/step\n",
      "Epoch 19/50\n",
      "259/259 - 2s - loss: 0.4148 - accuracy: 0.8107 - 2s/epoch - 7ms/step\n",
      "Epoch 20/50\n",
      "259/259 - 2s - loss: 0.4137 - accuracy: 0.8086 - 2s/epoch - 7ms/step\n",
      "Epoch 21/50\n",
      "259/259 - 2s - loss: 0.4115 - accuracy: 0.8136 - 2s/epoch - 7ms/step\n",
      "Epoch 22/50\n",
      "259/259 - 2s - loss: 0.4099 - accuracy: 0.8194 - 2s/epoch - 7ms/step\n",
      "Epoch 23/50\n",
      "259/259 - 2s - loss: 0.4089 - accuracy: 0.8126 - 2s/epoch - 7ms/step\n",
      "Epoch 24/50\n",
      "259/259 - 2s - loss: 0.4090 - accuracy: 0.8182 - 2s/epoch - 7ms/step\n",
      "Epoch 25/50\n",
      "259/259 - 2s - loss: 0.4069 - accuracy: 0.8191 - 2s/epoch - 7ms/step\n",
      "Epoch 26/50\n",
      "259/259 - 2s - loss: 0.4054 - accuracy: 0.8174 - 2s/epoch - 7ms/step\n",
      "Epoch 27/50\n",
      "259/259 - 2s - loss: 0.4038 - accuracy: 0.8173 - 2s/epoch - 7ms/step\n",
      "Epoch 28/50\n",
      "259/259 - 2s - loss: 0.4033 - accuracy: 0.8180 - 2s/epoch - 7ms/step\n",
      "Epoch 29/50\n",
      "259/259 - 2s - loss: 0.4011 - accuracy: 0.8189 - 2s/epoch - 7ms/step\n",
      "Epoch 30/50\n",
      "259/259 - 2s - loss: 0.3991 - accuracy: 0.8214 - 2s/epoch - 7ms/step\n",
      "Epoch 31/50\n",
      "259/259 - 2s - loss: 0.3993 - accuracy: 0.8219 - 2s/epoch - 7ms/step\n",
      "Epoch 32/50\n",
      "259/259 - 2s - loss: 0.3980 - accuracy: 0.8234 - 2s/epoch - 7ms/step\n",
      "Epoch 33/50\n",
      "259/259 - 2s - loss: 0.3971 - accuracy: 0.8218 - 2s/epoch - 7ms/step\n",
      "Epoch 34/50\n",
      "259/259 - 2s - loss: 0.3958 - accuracy: 0.8235 - 2s/epoch - 7ms/step\n",
      "Epoch 35/50\n",
      "259/259 - 2s - loss: 0.3951 - accuracy: 0.8251 - 2s/epoch - 7ms/step\n",
      "Epoch 36/50\n",
      "259/259 - 2s - loss: 0.3938 - accuracy: 0.8245 - 2s/epoch - 7ms/step\n",
      "Epoch 37/50\n",
      "259/259 - 2s - loss: 0.3934 - accuracy: 0.8220 - 2s/epoch - 7ms/step\n",
      "Epoch 38/50\n",
      "259/259 - 2s - loss: 0.3910 - accuracy: 0.8277 - 2s/epoch - 7ms/step\n",
      "Epoch 39/50\n",
      "259/259 - 2s - loss: 0.3906 - accuracy: 0.8252 - 2s/epoch - 7ms/step\n",
      "Epoch 40/50\n",
      "259/259 - 2s - loss: 0.3903 - accuracy: 0.8251 - 2s/epoch - 7ms/step\n",
      "Epoch 41/50\n",
      "259/259 - 2s - loss: 0.3900 - accuracy: 0.8253 - 2s/epoch - 7ms/step\n",
      "Epoch 42/50\n",
      "259/259 - 2s - loss: 0.3888 - accuracy: 0.8287 - 2s/epoch - 7ms/step\n",
      "Epoch 43/50\n",
      "259/259 - 2s - loss: 0.3878 - accuracy: 0.8270 - 2s/epoch - 7ms/step\n",
      "Epoch 44/50\n",
      "259/259 - 2s - loss: 0.3857 - accuracy: 0.8281 - 2s/epoch - 7ms/step\n",
      "Epoch 45/50\n",
      "259/259 - 2s - loss: 0.3840 - accuracy: 0.8288 - 2s/epoch - 7ms/step\n",
      "Epoch 46/50\n",
      "259/259 - 2s - loss: 0.3833 - accuracy: 0.8305 - 2s/epoch - 7ms/step\n",
      "Epoch 47/50\n",
      "259/259 - 2s - loss: 0.3835 - accuracy: 0.8332 - 2s/epoch - 7ms/step\n",
      "Epoch 48/50\n",
      "259/259 - 2s - loss: 0.3834 - accuracy: 0.8297 - 2s/epoch - 7ms/step\n",
      "Epoch 49/50\n",
      "259/259 - 2s - loss: 0.3811 - accuracy: 0.8324 - 2s/epoch - 7ms/step\n",
      "Epoch 50/50\n",
      "259/259 - 2s - loss: 0.3812 - accuracy: 0.8323 - 2s/epoch - 7ms/step\n",
      "\n",
      "Model Evaluation:\n",
      "\n",
      "65/65 [==============================] - 1s 6ms/step - loss: 0.4431 - accuracy: 0.7953\n",
      "[0.44306233525276184, 0.7952565550804138]\n",
      "65/65 [==============================] - 0s 3ms/step\n"
     ]
    }
   ],
   "source": [
    "y_pred = ANN(X_train, X_test, y_train, y_test)"
   ]
  },
  {
   "cell_type": "code",
   "execution_count": 43,
   "id": "36252b0e",
   "metadata": {},
   "outputs": [
    {
     "name": "stdout",
     "output_type": "stream",
     "text": [
      "\n",
      "Classification Report:\n",
      "\n",
      "              precision    recall  f1-score   support\n",
      "\n",
      "           0       0.80      0.79      0.79      1033\n",
      "           1       0.79      0.80      0.80      1033\n",
      "\n",
      "    accuracy                           0.80      2066\n",
      "   macro avg       0.80      0.80      0.80      2066\n",
      "weighted avg       0.80      0.80      0.80      2066\n",
      "\n"
     ]
    }
   ],
   "source": [
    "print('\\nClassification Report:\\n')\n",
    "print(classification_report(y_test, y_pred))"
   ]
  },
  {
   "cell_type": "markdown",
   "id": "79e37bae",
   "metadata": {},
   "source": [
    "**Results**\n",
    "| Method       | f1-score (class 1) | f1-score (class 0)|Accuracy|\n",
    "|--------------|--------------------|-------------------|--------|\n",
    "| Initial      | 0.56               |0.86               |0.79    | \n",
    "| Undersampling| 0.76               |0.73               |0.75    |\n",
    "| Oversampling | 0.8                |0.77               |0.78    | \n",
    "| SMOTE        | 0.8                |0.79               |0.80    | \n",
    "- SMOTE increases f1-score of minority class 1 from **0.56 to 0.80**\n",
    "- f1-score of class 0 reduced from **0.86 to 0.79**, but that's ok."
   ]
  },
  {
   "cell_type": "markdown",
   "id": "4a5b7b07",
   "metadata": {},
   "source": [
    "## Method 4: Use of Ensemble with undersampling"
   ]
  },
  {
   "cell_type": "code",
   "execution_count": 44,
   "id": "b43ef8ad",
   "metadata": {},
   "outputs": [
    {
     "data": {
      "text/plain": [
       "Churn\n",
       "0    5163\n",
       "1    1869\n",
       "Name: count, dtype: int64"
      ]
     },
     "execution_count": 44,
     "metadata": {},
     "output_type": "execute_result"
    }
   ],
   "source": [
    "df2['Churn'].value_counts()"
   ]
  },
  {
   "cell_type": "code",
   "execution_count": 45,
   "id": "44cb89b1",
   "metadata": {},
   "outputs": [
    {
     "data": {
      "text/plain": [
       "Churn\n",
       "0    4130\n",
       "1    1495\n",
       "Name: count, dtype: int64"
      ]
     },
     "execution_count": 45,
     "metadata": {},
     "output_type": "execute_result"
    }
   ],
   "source": [
    "X = df2.drop('Churn', axis=1)\n",
    "y = df2['Churn']\n",
    "\n",
    "X_train, X_test, y_train, y_test = train_test_split(X, y, test_size=0.2, random_state=42, stratify=y)\n",
    "\n",
    "y_train.value_counts()"
   ]
  },
  {
   "cell_type": "code",
   "execution_count": 46,
   "id": "8a9195d8",
   "metadata": {},
   "outputs": [],
   "source": [
    "df3 = X_train.copy()\n",
    "df3['Churn'] = y_train\n",
    "\n",
    "df3_class_0 = df3[df3['Churn']==0]\n",
    "df3_class_1 = df3[df3['Churn']==1]"
   ]
  },
  {
   "cell_type": "code",
   "execution_count": 47,
   "id": "70602eff",
   "metadata": {},
   "outputs": [],
   "source": [
    "def get_train_batch(df_majority, df_minority, start, end):\n",
    "    df_train = pd.concat([df_majority[start:end], df_minority], axis=0)\n",
    "\n",
    "    X_train = df_train.drop('Churn', axis='columns')\n",
    "    y_train = df_train.Churn\n",
    "    return X_train, y_train"
   ]
  },
  {
   "cell_type": "markdown",
   "id": "8edfbea3",
   "metadata": {},
   "source": [
    "**Batches**\n",
    "|model|class0|class1|\n",
    "|-----|------|------|\n",
    "|1|1495|(0, 1495)|\n",
    "|2|1495|(1496, 2990)|\n",
    "|3|1495|(2991, 4130)|\n"
   ]
  },
  {
   "cell_type": "code",
   "execution_count": 48,
   "id": "77398eeb",
   "metadata": {},
   "outputs": [
    {
     "name": "stdout",
     "output_type": "stream",
     "text": [
      "Epoch 1/50\n",
      "94/94 - 1s - loss: 0.6586 - accuracy: 0.6010 - 1s/epoch - 13ms/step\n",
      "Epoch 2/50\n",
      "94/94 - 1s - loss: 0.5453 - accuracy: 0.7274 - 652ms/epoch - 7ms/step\n",
      "Epoch 3/50\n",
      "94/94 - 1s - loss: 0.5113 - accuracy: 0.7492 - 639ms/epoch - 7ms/step\n",
      "Epoch 4/50\n",
      "94/94 - 1s - loss: 0.4954 - accuracy: 0.7565 - 651ms/epoch - 7ms/step\n",
      "Epoch 5/50\n",
      "94/94 - 1s - loss: 0.4883 - accuracy: 0.7559 - 656ms/epoch - 7ms/step\n",
      "Epoch 6/50\n",
      "94/94 - 1s - loss: 0.4837 - accuracy: 0.7629 - 652ms/epoch - 7ms/step\n",
      "Epoch 7/50\n",
      "94/94 - 1s - loss: 0.4809 - accuracy: 0.7656 - 646ms/epoch - 7ms/step\n",
      "Epoch 8/50\n",
      "94/94 - 1s - loss: 0.4778 - accuracy: 0.7666 - 636ms/epoch - 7ms/step\n",
      "Epoch 9/50\n",
      "94/94 - 1s - loss: 0.4761 - accuracy: 0.7632 - 637ms/epoch - 7ms/step\n",
      "Epoch 10/50\n",
      "94/94 - 1s - loss: 0.4744 - accuracy: 0.7649 - 631ms/epoch - 7ms/step\n",
      "Epoch 11/50\n",
      "94/94 - 1s - loss: 0.4721 - accuracy: 0.7696 - 646ms/epoch - 7ms/step\n",
      "Epoch 12/50\n",
      "94/94 - 1s - loss: 0.4704 - accuracy: 0.7702 - 653ms/epoch - 7ms/step\n",
      "Epoch 13/50\n",
      "94/94 - 1s - loss: 0.4690 - accuracy: 0.7672 - 668ms/epoch - 7ms/step\n",
      "Epoch 14/50\n",
      "94/94 - 1s - loss: 0.4662 - accuracy: 0.7689 - 650ms/epoch - 7ms/step\n",
      "Epoch 15/50\n",
      "94/94 - 1s - loss: 0.4648 - accuracy: 0.7729 - 650ms/epoch - 7ms/step\n",
      "Epoch 16/50\n",
      "94/94 - 1s - loss: 0.4622 - accuracy: 0.7776 - 649ms/epoch - 7ms/step\n",
      "Epoch 17/50\n",
      "94/94 - 1s - loss: 0.4603 - accuracy: 0.7742 - 636ms/epoch - 7ms/step\n",
      "Epoch 18/50\n",
      "94/94 - 1s - loss: 0.4587 - accuracy: 0.7739 - 667ms/epoch - 7ms/step\n",
      "Epoch 19/50\n",
      "94/94 - 1s - loss: 0.4579 - accuracy: 0.7763 - 637ms/epoch - 7ms/step\n",
      "Epoch 20/50\n",
      "94/94 - 1s - loss: 0.4570 - accuracy: 0.7759 - 650ms/epoch - 7ms/step\n",
      "Epoch 21/50\n",
      "94/94 - 1s - loss: 0.4538 - accuracy: 0.7789 - 668ms/epoch - 7ms/step\n",
      "Epoch 22/50\n",
      "94/94 - 1s - loss: 0.4527 - accuracy: 0.7839 - 668ms/epoch - 7ms/step\n",
      "Epoch 23/50\n",
      "94/94 - 1s - loss: 0.4510 - accuracy: 0.7813 - 659ms/epoch - 7ms/step\n",
      "Epoch 24/50\n",
      "94/94 - 1s - loss: 0.4485 - accuracy: 0.7823 - 654ms/epoch - 7ms/step\n",
      "Epoch 25/50\n",
      "94/94 - 1s - loss: 0.4478 - accuracy: 0.7839 - 656ms/epoch - 7ms/step\n",
      "Epoch 26/50\n",
      "94/94 - 1s - loss: 0.4439 - accuracy: 0.7853 - 667ms/epoch - 7ms/step\n",
      "Epoch 27/50\n",
      "94/94 - 1s - loss: 0.4440 - accuracy: 0.7856 - 656ms/epoch - 7ms/step\n",
      "Epoch 28/50\n",
      "94/94 - 1s - loss: 0.4420 - accuracy: 0.7870 - 665ms/epoch - 7ms/step\n",
      "Epoch 29/50\n",
      "94/94 - 1s - loss: 0.4399 - accuracy: 0.7860 - 654ms/epoch - 7ms/step\n",
      "Epoch 30/50\n",
      "94/94 - 1s - loss: 0.4375 - accuracy: 0.7933 - 660ms/epoch - 7ms/step\n",
      "Epoch 31/50\n",
      "94/94 - 1s - loss: 0.4362 - accuracy: 0.7980 - 649ms/epoch - 7ms/step\n",
      "Epoch 32/50\n",
      "94/94 - 1s - loss: 0.4359 - accuracy: 0.7923 - 647ms/epoch - 7ms/step\n",
      "Epoch 33/50\n",
      "94/94 - 1s - loss: 0.4341 - accuracy: 0.7923 - 648ms/epoch - 7ms/step\n",
      "Epoch 34/50\n",
      "94/94 - 1s - loss: 0.4326 - accuracy: 0.7923 - 679ms/epoch - 7ms/step\n",
      "Epoch 35/50\n",
      "94/94 - 1s - loss: 0.4309 - accuracy: 0.7916 - 652ms/epoch - 7ms/step\n",
      "Epoch 36/50\n",
      "94/94 - 1s - loss: 0.4295 - accuracy: 0.7953 - 651ms/epoch - 7ms/step\n",
      "Epoch 37/50\n",
      "94/94 - 1s - loss: 0.4283 - accuracy: 0.8010 - 654ms/epoch - 7ms/step\n",
      "Epoch 38/50\n",
      "94/94 - 1s - loss: 0.4282 - accuracy: 0.8000 - 661ms/epoch - 7ms/step\n",
      "Epoch 39/50\n",
      "94/94 - 1s - loss: 0.4253 - accuracy: 0.7970 - 635ms/epoch - 7ms/step\n",
      "Epoch 40/50\n",
      "94/94 - 1s - loss: 0.4251 - accuracy: 0.7987 - 670ms/epoch - 7ms/step\n",
      "Epoch 41/50\n",
      "94/94 - 1s - loss: 0.4242 - accuracy: 0.7997 - 659ms/epoch - 7ms/step\n",
      "Epoch 42/50\n",
      "94/94 - 1s - loss: 0.4245 - accuracy: 0.7993 - 665ms/epoch - 7ms/step\n",
      "Epoch 43/50\n",
      "94/94 - 1s - loss: 0.4219 - accuracy: 0.8000 - 654ms/epoch - 7ms/step\n",
      "Epoch 44/50\n",
      "94/94 - 1s - loss: 0.4209 - accuracy: 0.8023 - 668ms/epoch - 7ms/step\n",
      "Epoch 45/50\n",
      "94/94 - 1s - loss: 0.4190 - accuracy: 0.8027 - 663ms/epoch - 7ms/step\n",
      "Epoch 46/50\n",
      "94/94 - 1s - loss: 0.4178 - accuracy: 0.8027 - 657ms/epoch - 7ms/step\n",
      "Epoch 47/50\n",
      "94/94 - 1s - loss: 0.4183 - accuracy: 0.8077 - 650ms/epoch - 7ms/step\n",
      "Epoch 48/50\n",
      "94/94 - 1s - loss: 0.4164 - accuracy: 0.8013 - 662ms/epoch - 7ms/step\n",
      "Epoch 49/50\n",
      "94/94 - 1s - loss: 0.4167 - accuracy: 0.8020 - 659ms/epoch - 7ms/step\n",
      "Epoch 50/50\n",
      "94/94 - 1s - loss: 0.4152 - accuracy: 0.8027 - 653ms/epoch - 7ms/step\n",
      "\n",
      "Model Evaluation:\n",
      "\n",
      "44/44 [==============================] - 0s 6ms/step - loss: 0.5566 - accuracy: 0.7285\n",
      "[0.5565776824951172, 0.7285003662109375]\n",
      "44/44 [==============================] - 0s 3ms/step\n",
      "Epoch 1/50\n",
      "94/94 - 1s - loss: 0.6379 - accuracy: 0.6631 - 1s/epoch - 13ms/step\n",
      "Epoch 2/50\n",
      "94/94 - 1s - loss: 0.5335 - accuracy: 0.7454 - 654ms/epoch - 7ms/step\n",
      "Epoch 3/50\n",
      "94/94 - 1s - loss: 0.4961 - accuracy: 0.7688 - 654ms/epoch - 7ms/step\n",
      "Epoch 4/50\n",
      "94/94 - 1s - loss: 0.4862 - accuracy: 0.7698 - 656ms/epoch - 7ms/step\n",
      "Epoch 5/50\n",
      "94/94 - 1s - loss: 0.4807 - accuracy: 0.7715 - 648ms/epoch - 7ms/step\n",
      "Epoch 6/50\n",
      "94/94 - 1s - loss: 0.4778 - accuracy: 0.7725 - 654ms/epoch - 7ms/step\n",
      "Epoch 7/50\n",
      "94/94 - 1s - loss: 0.4747 - accuracy: 0.7782 - 665ms/epoch - 7ms/step\n",
      "Epoch 8/50\n",
      "94/94 - 1s - loss: 0.4746 - accuracy: 0.7708 - 669ms/epoch - 7ms/step\n",
      "Epoch 9/50\n",
      "94/94 - 1s - loss: 0.4711 - accuracy: 0.7752 - 680ms/epoch - 7ms/step\n",
      "Epoch 10/50\n",
      "94/94 - 1s - loss: 0.4707 - accuracy: 0.7742 - 668ms/epoch - 7ms/step\n",
      "Epoch 11/50\n",
      "94/94 - 1s - loss: 0.4718 - accuracy: 0.7745 - 667ms/epoch - 7ms/step\n",
      "Epoch 12/50\n",
      "94/94 - 1s - loss: 0.4694 - accuracy: 0.7795 - 668ms/epoch - 7ms/step\n",
      "Epoch 13/50\n",
      "94/94 - 1s - loss: 0.4672 - accuracy: 0.7782 - 664ms/epoch - 7ms/step\n",
      "Epoch 14/50\n",
      "94/94 - 1s - loss: 0.4665 - accuracy: 0.7792 - 657ms/epoch - 7ms/step\n",
      "Epoch 15/50\n",
      "94/94 - 1s - loss: 0.4650 - accuracy: 0.7792 - 672ms/epoch - 7ms/step\n",
      "Epoch 16/50\n",
      "94/94 - 1s - loss: 0.4658 - accuracy: 0.7779 - 666ms/epoch - 7ms/step\n",
      "Epoch 17/50\n",
      "94/94 - 1s - loss: 0.4635 - accuracy: 0.7825 - 685ms/epoch - 7ms/step\n",
      "Epoch 18/50\n",
      "94/94 - 1s - loss: 0.4633 - accuracy: 0.7785 - 662ms/epoch - 7ms/step\n",
      "Epoch 19/50\n",
      "94/94 - 1s - loss: 0.4607 - accuracy: 0.7782 - 641ms/epoch - 7ms/step\n",
      "Epoch 20/50\n",
      "94/94 - 1s - loss: 0.4612 - accuracy: 0.7829 - 637ms/epoch - 7ms/step\n",
      "Epoch 21/50\n",
      "94/94 - 1s - loss: 0.4609 - accuracy: 0.7819 - 655ms/epoch - 7ms/step\n",
      "Epoch 22/50\n",
      "94/94 - 1s - loss: 0.4596 - accuracy: 0.7792 - 654ms/epoch - 7ms/step\n",
      "Epoch 23/50\n",
      "94/94 - 1s - loss: 0.4585 - accuracy: 0.7819 - 673ms/epoch - 7ms/step\n",
      "Epoch 24/50\n",
      "94/94 - 1s - loss: 0.4569 - accuracy: 0.7852 - 664ms/epoch - 7ms/step\n",
      "Epoch 25/50\n",
      "94/94 - 1s - loss: 0.4567 - accuracy: 0.7845 - 668ms/epoch - 7ms/step\n",
      "Epoch 26/50\n",
      "94/94 - 1s - loss: 0.4553 - accuracy: 0.7799 - 654ms/epoch - 7ms/step\n",
      "Epoch 27/50\n",
      "94/94 - 1s - loss: 0.4562 - accuracy: 0.7839 - 673ms/epoch - 7ms/step\n",
      "Epoch 28/50\n",
      "94/94 - 1s - loss: 0.4563 - accuracy: 0.7866 - 679ms/epoch - 7ms/step\n",
      "Epoch 29/50\n",
      "94/94 - 1s - loss: 0.4539 - accuracy: 0.7835 - 663ms/epoch - 7ms/step\n",
      "Epoch 30/50\n",
      "94/94 - 1s - loss: 0.4535 - accuracy: 0.7886 - 662ms/epoch - 7ms/step\n",
      "Epoch 31/50\n",
      "94/94 - 1s - loss: 0.4546 - accuracy: 0.7855 - 647ms/epoch - 7ms/step\n",
      "Epoch 32/50\n",
      "94/94 - 1s - loss: 0.4545 - accuracy: 0.7819 - 652ms/epoch - 7ms/step\n",
      "Epoch 33/50\n",
      "94/94 - 1s - loss: 0.4532 - accuracy: 0.7859 - 651ms/epoch - 7ms/step\n",
      "Epoch 34/50\n",
      "94/94 - 1s - loss: 0.4501 - accuracy: 0.7882 - 673ms/epoch - 7ms/step\n",
      "Epoch 35/50\n",
      "94/94 - 1s - loss: 0.4511 - accuracy: 0.7849 - 662ms/epoch - 7ms/step\n",
      "Epoch 36/50\n",
      "94/94 - 1s - loss: 0.4497 - accuracy: 0.7909 - 661ms/epoch - 7ms/step\n",
      "Epoch 37/50\n",
      "94/94 - 1s - loss: 0.4490 - accuracy: 0.7879 - 650ms/epoch - 7ms/step\n",
      "Epoch 38/50\n",
      "94/94 - 1s - loss: 0.4495 - accuracy: 0.7855 - 657ms/epoch - 7ms/step\n",
      "Epoch 39/50\n",
      "94/94 - 1s - loss: 0.4491 - accuracy: 0.7892 - 660ms/epoch - 7ms/step\n",
      "Epoch 40/50\n",
      "94/94 - 1s - loss: 0.4492 - accuracy: 0.7866 - 669ms/epoch - 7ms/step\n",
      "Epoch 41/50\n",
      "94/94 - 1s - loss: 0.4471 - accuracy: 0.7876 - 662ms/epoch - 7ms/step\n",
      "Epoch 42/50\n",
      "94/94 - 1s - loss: 0.4462 - accuracy: 0.7896 - 650ms/epoch - 7ms/step\n",
      "Epoch 43/50\n",
      "94/94 - 1s - loss: 0.4461 - accuracy: 0.7869 - 656ms/epoch - 7ms/step\n",
      "Epoch 44/50\n",
      "94/94 - 1s - loss: 0.4460 - accuracy: 0.7892 - 660ms/epoch - 7ms/step\n",
      "Epoch 45/50\n",
      "94/94 - 1s - loss: 0.4449 - accuracy: 0.7916 - 656ms/epoch - 7ms/step\n",
      "Epoch 46/50\n",
      "94/94 - 1s - loss: 0.4474 - accuracy: 0.7862 - 650ms/epoch - 7ms/step\n",
      "Epoch 47/50\n",
      "94/94 - 1s - loss: 0.4464 - accuracy: 0.7882 - 660ms/epoch - 7ms/step\n",
      "Epoch 48/50\n",
      "94/94 - 1s - loss: 0.4427 - accuracy: 0.7906 - 648ms/epoch - 7ms/step\n",
      "Epoch 49/50\n",
      "94/94 - 1s - loss: 0.4439 - accuracy: 0.7876 - 653ms/epoch - 7ms/step\n",
      "Epoch 50/50\n",
      "94/94 - 1s - loss: 0.4441 - accuracy: 0.7936 - 667ms/epoch - 7ms/step\n",
      "\n",
      "Model Evaluation:\n",
      "\n",
      "44/44 [==============================] - 0s 6ms/step - loss: 0.5584 - accuracy: 0.7150\n",
      "[0.5584405064582825, 0.7149964570999146]\n",
      "44/44 [==============================] - 0s 3ms/step\n",
      "Epoch 1/50\n",
      "83/83 - 1s - loss: 0.5955 - accuracy: 0.7099 - 1s/epoch - 14ms/step\n",
      "Epoch 2/50\n",
      "83/83 - 1s - loss: 0.5266 - accuracy: 0.7517 - 585ms/epoch - 7ms/step\n",
      "Epoch 3/50\n",
      "83/83 - 1s - loss: 0.5023 - accuracy: 0.7608 - 587ms/epoch - 7ms/step\n",
      "Epoch 4/50\n",
      "83/83 - 1s - loss: 0.4924 - accuracy: 0.7604 - 576ms/epoch - 7ms/step\n",
      "Epoch 5/50\n",
      "83/83 - 1s - loss: 0.4849 - accuracy: 0.7658 - 597ms/epoch - 7ms/step\n",
      "Epoch 6/50\n",
      "83/83 - 1s - loss: 0.4821 - accuracy: 0.7661 - 588ms/epoch - 7ms/step\n",
      "Epoch 7/50\n",
      "83/83 - 1s - loss: 0.4769 - accuracy: 0.7733 - 598ms/epoch - 7ms/step\n",
      "Epoch 8/50\n",
      "83/83 - 1s - loss: 0.4738 - accuracy: 0.7752 - 590ms/epoch - 7ms/step\n",
      "Epoch 9/50\n",
      "83/83 - 1s - loss: 0.4711 - accuracy: 0.7783 - 586ms/epoch - 7ms/step\n",
      "Epoch 10/50\n",
      "83/83 - 1s - loss: 0.4701 - accuracy: 0.7802 - 591ms/epoch - 7ms/step\n",
      "Epoch 11/50\n",
      "83/83 - 1s - loss: 0.4682 - accuracy: 0.7771 - 599ms/epoch - 7ms/step\n",
      "Epoch 12/50\n",
      "83/83 - 1s - loss: 0.4673 - accuracy: 0.7798 - 592ms/epoch - 7ms/step\n",
      "Epoch 13/50\n",
      "83/83 - 1s - loss: 0.4644 - accuracy: 0.7802 - 584ms/epoch - 7ms/step\n",
      "Epoch 14/50\n",
      "83/83 - 1s - loss: 0.4622 - accuracy: 0.7794 - 582ms/epoch - 7ms/step\n",
      "Epoch 15/50\n",
      "83/83 - 1s - loss: 0.4608 - accuracy: 0.7821 - 593ms/epoch - 7ms/step\n",
      "Epoch 16/50\n",
      "83/83 - 1s - loss: 0.4598 - accuracy: 0.7806 - 585ms/epoch - 7ms/step\n",
      "Epoch 17/50\n",
      "83/83 - 1s - loss: 0.4583 - accuracy: 0.7885 - 586ms/epoch - 7ms/step\n",
      "Epoch 18/50\n",
      "83/83 - 1s - loss: 0.4569 - accuracy: 0.7866 - 593ms/epoch - 7ms/step\n",
      "Epoch 19/50\n",
      "83/83 - 1s - loss: 0.4537 - accuracy: 0.7821 - 583ms/epoch - 7ms/step\n",
      "Epoch 20/50\n",
      "83/83 - 1s - loss: 0.4551 - accuracy: 0.7882 - 593ms/epoch - 7ms/step\n",
      "Epoch 21/50\n",
      "83/83 - 1s - loss: 0.4528 - accuracy: 0.7855 - 591ms/epoch - 7ms/step\n",
      "Epoch 22/50\n",
      "83/83 - 1s - loss: 0.4502 - accuracy: 0.7859 - 593ms/epoch - 7ms/step\n",
      "Epoch 23/50\n",
      "83/83 - 1s - loss: 0.4494 - accuracy: 0.7904 - 579ms/epoch - 7ms/step\n",
      "Epoch 24/50\n",
      "83/83 - 1s - loss: 0.4504 - accuracy: 0.7901 - 592ms/epoch - 7ms/step\n",
      "Epoch 25/50\n",
      "83/83 - 1s - loss: 0.4481 - accuracy: 0.7889 - 589ms/epoch - 7ms/step\n",
      "Epoch 26/50\n",
      "83/83 - 1s - loss: 0.4492 - accuracy: 0.7882 - 581ms/epoch - 7ms/step\n",
      "Epoch 27/50\n",
      "83/83 - 1s - loss: 0.4457 - accuracy: 0.7893 - 589ms/epoch - 7ms/step\n",
      "Epoch 28/50\n",
      "83/83 - 1s - loss: 0.4444 - accuracy: 0.7916 - 598ms/epoch - 7ms/step\n",
      "Epoch 29/50\n",
      "83/83 - 1s - loss: 0.4440 - accuracy: 0.7938 - 580ms/epoch - 7ms/step\n",
      "Epoch 30/50\n",
      "83/83 - 1s - loss: 0.4440 - accuracy: 0.7950 - 584ms/epoch - 7ms/step\n",
      "Epoch 31/50\n",
      "83/83 - 1s - loss: 0.4415 - accuracy: 0.7969 - 592ms/epoch - 7ms/step\n",
      "Epoch 32/50\n",
      "83/83 - 1s - loss: 0.4432 - accuracy: 0.7954 - 599ms/epoch - 7ms/step\n",
      "Epoch 33/50\n",
      "83/83 - 1s - loss: 0.4407 - accuracy: 0.7980 - 594ms/epoch - 7ms/step\n",
      "Epoch 34/50\n",
      "83/83 - 1s - loss: 0.4398 - accuracy: 0.7988 - 595ms/epoch - 7ms/step\n",
      "Epoch 35/50\n",
      "83/83 - 1s - loss: 0.4378 - accuracy: 0.7938 - 582ms/epoch - 7ms/step\n",
      "Epoch 36/50\n",
      "83/83 - 1s - loss: 0.4377 - accuracy: 0.7999 - 569ms/epoch - 7ms/step\n",
      "Epoch 37/50\n",
      "83/83 - 1s - loss: 0.4374 - accuracy: 0.7965 - 580ms/epoch - 7ms/step\n",
      "Epoch 38/50\n",
      "83/83 - 1s - loss: 0.4359 - accuracy: 0.7995 - 582ms/epoch - 7ms/step\n",
      "Epoch 39/50\n",
      "83/83 - 1s - loss: 0.4367 - accuracy: 0.8007 - 575ms/epoch - 7ms/step\n",
      "Epoch 40/50\n",
      "83/83 - 1s - loss: 0.4357 - accuracy: 0.7988 - 583ms/epoch - 7ms/step\n",
      "Epoch 41/50\n",
      "83/83 - 1s - loss: 0.4351 - accuracy: 0.8014 - 594ms/epoch - 7ms/step\n",
      "Epoch 42/50\n",
      "83/83 - 1s - loss: 0.4320 - accuracy: 0.7976 - 575ms/epoch - 7ms/step\n",
      "Epoch 43/50\n",
      "83/83 - 1s - loss: 0.4317 - accuracy: 0.8022 - 600ms/epoch - 7ms/step\n",
      "Epoch 44/50\n",
      "83/83 - 1s - loss: 0.4342 - accuracy: 0.8037 - 569ms/epoch - 7ms/step\n",
      "Epoch 45/50\n",
      "83/83 - 1s - loss: 0.4305 - accuracy: 0.8037 - 582ms/epoch - 7ms/step\n",
      "Epoch 46/50\n",
      "83/83 - 1s - loss: 0.4318 - accuracy: 0.8026 - 584ms/epoch - 7ms/step\n",
      "Epoch 47/50\n",
      "83/83 - 1s - loss: 0.4284 - accuracy: 0.8045 - 588ms/epoch - 7ms/step\n",
      "Epoch 48/50\n",
      "83/83 - 1s - loss: 0.4298 - accuracy: 0.8007 - 586ms/epoch - 7ms/step\n",
      "Epoch 49/50\n",
      "83/83 - 1s - loss: 0.4280 - accuracy: 0.8056 - 568ms/epoch - 7ms/step\n",
      "Epoch 50/50\n",
      "83/83 - 1s - loss: 0.4274 - accuracy: 0.7999 - 599ms/epoch - 7ms/step\n",
      "\n",
      "Model Evaluation:\n",
      "\n",
      "44/44 [==============================] - 0s 6ms/step - loss: 0.5921 - accuracy: 0.6958\n",
      "[0.5921403765678406, 0.6958066821098328]\n",
      "44/44 [==============================] - 0s 3ms/step\n"
     ]
    }
   ],
   "source": [
    "# 1st Batch\n",
    "X_train, y_train = get_train_batch(df3_class_0, df3_class_1, 0, 1495)\n",
    "y_pred1 = ANN(X_train, X_test, y_train, y_test)\n",
    "\n",
    "# 2nd Batch\n",
    "X_train, y_train = get_train_batch(df3_class_0, df3_class_1, 1496, 2990)\n",
    "y_pred2 = ANN(X_train, X_test, y_train, y_test)\n",
    "\n",
    "# 3rd Batch\n",
    "X_train, y_train = get_train_batch(df3_class_0, df3_class_1, 2991, 4130)\n",
    "y_pred3 = ANN(X_train, X_test, y_train, y_test)"
   ]
  },
  {
   "cell_type": "code",
   "execution_count": 49,
   "id": "d1423c56",
   "metadata": {},
   "outputs": [
    {
     "data": {
      "text/plain": [
       "array([[0, 1, 0, ..., 0, 0, 0]])"
      ]
     },
     "execution_count": 49,
     "metadata": {},
     "output_type": "execute_result"
    }
   ],
   "source": [
    "y_pred_combined = y_pred1 + y_pred2 + y_pred3\n",
    "#  considers a \"majority vote\" to make the final prediction.\n",
    "y_pred_combined = (y_pred_combined>1).astype(int)\n",
    "y_pred_combined.T"
   ]
  },
  {
   "cell_type": "code",
   "execution_count": 50,
   "id": "bc1142a1",
   "metadata": {},
   "outputs": [
    {
     "name": "stdout",
     "output_type": "stream",
     "text": [
      "classification_report\n",
      "              precision    recall  f1-score   support\n",
      "\n",
      "           0       0.92      0.68      0.78      1033\n",
      "           1       0.48      0.83      0.61       374\n",
      "\n",
      "    accuracy                           0.72      1407\n",
      "   macro avg       0.70      0.75      0.70      1407\n",
      "weighted avg       0.80      0.72      0.74      1407\n",
      "\n"
     ]
    }
   ],
   "source": [
    "print('classification_report')\n",
    "print(classification_report(y_test, y_pred_combined))"
   ]
  },
  {
   "cell_type": "markdown",
   "id": "059989d5",
   "metadata": {},
   "source": [
    "This method doesn't seem to give better f1-score."
   ]
  }
 ],
 "metadata": {
  "kernelspec": {
   "display_name": "tf_env",
   "language": "python",
   "name": "python3"
  },
  "language_info": {
   "codemirror_mode": {
    "name": "ipython",
    "version": 3
   },
   "file_extension": ".py",
   "mimetype": "text/x-python",
   "name": "python",
   "nbconvert_exporter": "python",
   "pygments_lexer": "ipython3",
   "version": "3.10.0"
  }
 },
 "nbformat": 4,
 "nbformat_minor": 5
}
