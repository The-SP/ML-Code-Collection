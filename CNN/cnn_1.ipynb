{
 "cells": [
  {
   "cell_type": "markdown",
   "metadata": {},
   "source": [
    "## CNN Basics: MNIST dataset\n",
    "\n",
    "[Detailed Solution for MNIST dataset image classification](https://www.kaggle.com/code/kanncaa1/convolutional-neural-network-cnn-tutorial/notebook)"
   ]
  },
  {
   "cell_type": "code",
   "execution_count": 1,
   "metadata": {},
   "outputs": [],
   "source": [
    "from keras import layers, models\n",
    "from keras.datasets import mnist\n",
    "from keras.utils import to_categorical"
   ]
  },
  {
   "cell_type": "markdown",
   "metadata": {},
   "source": [
    "Define the CNN model"
   ]
  },
  {
   "cell_type": "code",
   "execution_count": 3,
   "metadata": {},
   "outputs": [
    {
     "name": "stdout",
     "output_type": "stream",
     "text": [
      "Model: \"sequential\"\n",
      "_________________________________________________________________\n",
      " Layer (type)                Output Shape              Param #   \n",
      "=================================================================\n",
      " conv2d (Conv2D)             (None, 24, 24, 32)        832       \n",
      "                                                                 \n",
      " max_pooling2d (MaxPooling2  (None, 12, 12, 32)        0         \n",
      " D)                                                              \n",
      "                                                                 \n",
      " conv2d_1 (Conv2D)           (None, 8, 8, 64)          51264     \n",
      "                                                                 \n",
      " max_pooling2d_1 (MaxPoolin  (None, 4, 4, 64)          0         \n",
      " g2D)                                                            \n",
      "                                                                 \n",
      " flatten (Flatten)           (None, 1024)              0         \n",
      "                                                                 \n",
      " dense (Dense)               (None, 10)                10250     \n",
      "                                                                 \n",
      "=================================================================\n",
      "Total params: 62346 (243.54 KB)\n",
      "Trainable params: 62346 (243.54 KB)\n",
      "Non-trainable params: 0 (0.00 Byte)\n",
      "_________________________________________________________________\n"
     ]
    }
   ],
   "source": [
    "# This creates a Sequential model, where each layer has exactly one input tensor and one output tensor.\n",
    "model = models.Sequential()\n",
    "\n",
    "# This adds a 2D convolutional layer with 32 filters, each with a 5x5 kernel, using the ReLU activation function.\n",
    "# The input_shape parameter specifies the shape of the input data. In this case, it's (28, 28, 1), meaning 28x28 images with a single channel (grayscale).\n",
    "model.add(layers.Conv2D(32, (5, 5), activation='relu', input_shape=(28, 28, 1)))\n",
    "# This adds a max pooling layer with a 2x2 pool size.\n",
    "model.add(layers.MaxPooling2D((2, 2)))\n",
    "\n",
    "# This adds another 2D convolutional layer with 64 filters, each with a 5x5 kernel, using the ReLU activation function.\n",
    "model.add(layers.Conv2D(64, (5, 5), activation='relu'))\n",
    "# Another max pooling layer with a 2x2 pool size is added.\n",
    "model.add(layers.MaxPooling2D((2, 2)))\n",
    "\n",
    "# This flattens the 2D output from the previous layer into a 1D array.\n",
    "model.add(layers.Flatten())\n",
    "\n",
    "# This adds a fully connected layer with 10 output units (since there are 10 classes in the MNIST dataset) and applies the softmax activation function.\n",
    "model.add(layers.Dense(10, activation='softmax'))\n",
    "\n",
    "# This prints a summary of the model, including the number of parameters in each layer.\n",
    "model.summary()"
   ]
  },
  {
   "cell_type": "code",
   "execution_count": 4,
   "metadata": {},
   "outputs": [
    {
     "name": "stdout",
     "output_type": "stream",
     "text": [
      "Downloading data from https://storage.googleapis.com/tensorflow/tf-keras-datasets/mnist.npz\n",
      "11490434/11490434 [==============================] - 2s 0us/step\n",
      "Epoch 1/5\n",
      "600/600 [==============================] - 25s 40ms/step - loss: 0.8565 - accuracy: 0.7859\n",
      "Epoch 2/5\n",
      "600/600 [==============================] - 24s 41ms/step - loss: 0.2579 - accuracy: 0.9244\n",
      "Epoch 3/5\n",
      "600/600 [==============================] - 24s 40ms/step - loss: 0.1860 - accuracy: 0.9461\n",
      "Epoch 4/5\n",
      "600/600 [==============================] - 26s 44ms/step - loss: 0.1479 - accuracy: 0.9570\n",
      "Epoch 5/5\n",
      "600/600 [==============================] - 29s 48ms/step - loss: 0.1243 - accuracy: 0.9634\n"
     ]
    },
    {
     "data": {
      "text/plain": [
       "<keras.src.callbacks.History at 0x182ab3fe0d0>"
      ]
     },
     "execution_count": 4,
     "metadata": {},
     "output_type": "execute_result"
    }
   ],
   "source": [
    "# Split the data into training and test sets\n",
    "(train_images, train_labels), (test_images, test_labels) = mnist.load_data()\n",
    "\n",
    "# Preprocess the data by reshaping it to the appropriate shape (adding a channel dimension for the grayscale images) and then normalizing the pixel values to be between 0 and 1.\n",
    "train_images = train_images.reshape((60000, 28, 28, 1))\n",
    "train_images = train_images.astype('float32') / 255\n",
    "\n",
    "test_images = test_images.reshape((10000, 28, 28, 1))\n",
    "test_images = test_images.astype('float32') / 255\n",
    "\n",
    "# This converts the labels to one-hot encoded format.\n",
    "train_labels = to_categorical(train_labels)\n",
    "test_labels = to_categorical(test_labels)\n",
    "\n",
    "# Train the model\n",
    "model.compile(loss='categorical_crossentropy', optimizer='sgd', metrics=['accuracy'])\n",
    "model.fit(train_images, train_labels, batch_size=100, epochs=5, verbose=1)"
   ]
  },
  {
   "cell_type": "code",
   "execution_count": 5,
   "metadata": {},
   "outputs": [
    {
     "name": "stdout",
     "output_type": "stream",
     "text": [
      "313/313 [==============================] - 3s 9ms/step - loss: 0.1003 - accuracy: 0.9709\n",
      "Test accuracy: 0.9708999991416931\n"
     ]
    }
   ],
   "source": [
    "# Test the model's accuracy\n",
    "test_loss, test_acc = model.evaluate(test_images, test_labels)\n",
    "print(f'Test accuracy: {test_acc}')"
   ]
  }
 ],
 "metadata": {
  "kernelspec": {
   "display_name": "Python 3",
   "language": "python",
   "name": "python3"
  },
  "language_info": {
   "codemirror_mode": {
    "name": "ipython",
    "version": 3
   },
   "file_extension": ".py",
   "mimetype": "text/x-python",
   "name": "python",
   "nbconvert_exporter": "python",
   "pygments_lexer": "ipython3",
   "version": "3.11.0"
  }
 },
 "nbformat": 4,
 "nbformat_minor": 2
}
