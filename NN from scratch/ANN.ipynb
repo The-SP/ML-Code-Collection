{
 "cells": [
  {
   "cell_type": "markdown",
   "metadata": {},
   "source": [
    "### Implementation of stochastic and batch grandient descent in python"
   ]
  },
  {
   "cell_type": "code",
   "execution_count": 1,
   "metadata": {},
   "outputs": [],
   "source": [
    "import numpy as np\n",
    "import pandas as pd\n",
    "\n",
    "from sklearn.preprocessing import StandardScaler, MinMaxScaler\n",
    "from sklearn.model_selection import train_test_split\n",
    "\n",
    "import matplotlib.pyplot as plt\n",
    "\n",
    "import tensorflow as tf\n",
    "from tensorflow import keras"
   ]
  },
  {
   "cell_type": "markdown",
   "metadata": {},
   "source": [
    "Using simple home prices data set"
   ]
  },
  {
   "cell_type": "code",
   "execution_count": 2,
   "metadata": {},
   "outputs": [
    {
     "data": {
      "text/html": [
       "<div>\n",
       "<style scoped>\n",
       "    .dataframe tbody tr th:only-of-type {\n",
       "        vertical-align: middle;\n",
       "    }\n",
       "\n",
       "    .dataframe tbody tr th {\n",
       "        vertical-align: top;\n",
       "    }\n",
       "\n",
       "    .dataframe thead th {\n",
       "        text-align: right;\n",
       "    }\n",
       "</style>\n",
       "<table border=\"1\" class=\"dataframe\">\n",
       "  <thead>\n",
       "    <tr style=\"text-align: right;\">\n",
       "      <th></th>\n",
       "      <th>area</th>\n",
       "      <th>bedrooms</th>\n",
       "      <th>price</th>\n",
       "    </tr>\n",
       "  </thead>\n",
       "  <tbody>\n",
       "    <tr>\n",
       "      <th>0</th>\n",
       "      <td>1056</td>\n",
       "      <td>2</td>\n",
       "      <td>39.07</td>\n",
       "    </tr>\n",
       "    <tr>\n",
       "      <th>1</th>\n",
       "      <td>2600</td>\n",
       "      <td>4</td>\n",
       "      <td>120.00</td>\n",
       "    </tr>\n",
       "    <tr>\n",
       "      <th>2</th>\n",
       "      <td>1440</td>\n",
       "      <td>3</td>\n",
       "      <td>62.00</td>\n",
       "    </tr>\n",
       "    <tr>\n",
       "      <th>3</th>\n",
       "      <td>1521</td>\n",
       "      <td>3</td>\n",
       "      <td>75.00</td>\n",
       "    </tr>\n",
       "    <tr>\n",
       "      <th>4</th>\n",
       "      <td>1200</td>\n",
       "      <td>2</td>\n",
       "      <td>51.00</td>\n",
       "    </tr>\n",
       "  </tbody>\n",
       "</table>\n",
       "</div>"
      ],
      "text/plain": [
       "   area  bedrooms   price\n",
       "0  1056         2   39.07\n",
       "1  2600         4  120.00\n",
       "2  1440         3   62.00\n",
       "3  1521         3   75.00\n",
       "4  1200         2   51.00"
      ]
     },
     "execution_count": 2,
     "metadata": {},
     "output_type": "execute_result"
    }
   ],
   "source": [
    "df = pd.read_csv('homeprices_banglore.csv')\n",
    "df.head()"
   ]
  },
  {
   "cell_type": "code",
   "execution_count": 3,
   "metadata": {},
   "outputs": [],
   "source": [
    "scaler_x = MinMaxScaler()\n",
    "scaler_y = MinMaxScaler()\n",
    "\n",
    "X = df.drop('price', axis=1)\n",
    "y = df['price']\n",
    "\n",
    "X_scaled = scaler_x.fit_transform(X)\n",
    "y_scaled = scaler_y.fit_transform(y.values.reshape(len(X), 1)).reshape(len(X))"
   ]
  },
  {
   "cell_type": "code",
   "execution_count": 4,
   "metadata": {},
   "outputs": [
    {
     "data": {
      "text/plain": [
       "(array([[0.08827586, 0.25      ],\n",
       "        [0.62068966, 0.75      ],\n",
       "        [0.22068966, 0.5       ],\n",
       "        [0.24862069, 0.5       ],\n",
       "        [0.13793103, 0.25      ]]),\n",
       " array([0.05237037, 0.65185185, 0.22222222, 0.31851852, 0.14074074]))"
      ]
     },
     "execution_count": 4,
     "metadata": {},
     "output_type": "execute_result"
    }
   ],
   "source": [
    "X_scaled[:5], y_scaled[:5]"
   ]
  },
  {
   "cell_type": "code",
   "execution_count": 5,
   "metadata": {},
   "outputs": [
    {
     "data": {
      "text/plain": [
       "((16, 2), (4, 2))"
      ]
     },
     "execution_count": 5,
     "metadata": {},
     "output_type": "execute_result"
    }
   ],
   "source": [
    "X_train, X_test, y_train, y_test = train_test_split(X_scaled, y_scaled, test_size=0.2, random_state=42)\n",
    "X_train.shape, X_test.shape"
   ]
  },
  {
   "cell_type": "markdown",
   "metadata": {},
   "source": [
    "**Helper functions**"
   ]
  },
  {
   "cell_type": "code",
   "execution_count": 6,
   "metadata": {},
   "outputs": [],
   "source": [
    "def MSE(y_pred, y_true):\n",
    "    return np.mean(np.square(y_true-y_pred))\n",
    "\n",
    "def plot_cost_vs_epoch(epoch_list, cost_list):\n",
    "    plt.figure(figsize=(3, 3))\n",
    "    plt.xlabel('epoch')\n",
    "    plt.ylabel('cost')\n",
    "    plt.plot(epoch_list, cost_list)\n",
    "\n",
    "def predict(X, w, b):\n",
    "    scaled_X = scaler_x.transform(X)\n",
    "    y_pred = np.dot(w, scaled_X.T) + b \n",
    "    return scaler_y.inverse_transform([y_pred])\n",
    "\n",
    "def model_evaluate(X, y, w, b):\n",
    "    y_pred = np.dot(w, X.T) + b\n",
    "    loss = MSE(y_pred, y)\n",
    "    print('MSE:', loss)"
   ]
  },
  {
   "cell_type": "markdown",
   "metadata": {},
   "source": [
    "#### Batch Gradient Descent"
   ]
  },
  {
   "cell_type": "code",
   "execution_count": 7,
   "metadata": {},
   "outputs": [],
   "source": [
    "def batch_gradient_descent(X, y_true, epochs):\n",
    "    n, num_features = X.shape # no of rows, no of features\n",
    "    w = np.ones(num_features)\n",
    "    b, learning_rate = 0, 0.5\n",
    "    \n",
    "    cost_list, epoch_list = [], []\n",
    "    \n",
    "    for i in range(epochs):\n",
    "        y_pred = np.dot(w, X.T) + b\n",
    "        loss = MSE(y_pred, y_true)\n",
    "        w_grad = -(2/n) * np.dot(X.T, (y_true-y_pred))\n",
    "        b_grad = -(2/n) * np.sum(y_true-y_pred)\n",
    "        \n",
    "        w = w - learning_rate * w_grad\n",
    "        b = b - learning_rate * b_grad\n",
    "        \n",
    "        if i%10 == 0:\n",
    "            print(f'Epoch: {i} - loss: {loss}')\n",
    "            cost_list.append(loss)\n",
    "            epoch_list.append(i)\n",
    "            \n",
    "    return w, b, loss, epoch_list, cost_list"
   ]
  },
  {
   "cell_type": "code",
   "execution_count": 8,
   "metadata": {},
   "outputs": [
    {
     "name": "stdout",
     "output_type": "stream",
     "text": [
      "Epoch: 0 - loss: 0.28411680803072636\n",
      "Epoch: 10 - loss: 0.007063530789619413\n",
      "Epoch: 20 - loss: 0.0052816211873927005\n",
      "Epoch: 30 - loss: 0.004849556061328331\n",
      "Epoch: 40 - loss: 0.004604768446951022\n",
      "Epoch: 50 - loss: 0.004411017788316349\n",
      "Epoch: 60 - loss: 0.004248395152354594\n",
      "Epoch: 70 - loss: 0.004110782956529063\n",
      "Epoch: 80 - loss: 0.003994207888462423\n",
      "Epoch: 90 - loss: 0.0038954396546970887\n",
      "Epoch: 100 - loss: 0.0038117566534340568\n",
      "Epoch: 110 - loss: 0.0037408546810188004\n",
      "Epoch: 120 - loss: 0.0036807816515864967\n",
      "Epoch: 130 - loss: 0.003629883645439847\n",
      "Epoch: 140 - loss: 0.003586759350399403\n",
      "Epoch: 150 - loss: 0.003550221478584625\n",
      "Epoch: 160 - loss: 0.003519264077990786\n",
      "Epoch: 170 - loss: 0.003493034836824267\n",
      "Epoch: 180 - loss: 0.0034708116178531847\n",
      "Epoch: 190 - loss: 0.003451982576696346\n",
      "Epoch: 200 - loss: 0.0034360293166692066\n",
      "Epoch: 210 - loss: 0.0034225126164095527\n",
      "Epoch: 220 - loss: 0.0034110603373394173\n",
      "Epoch: 230 - loss: 0.0034013571780341987\n",
      "Epoch: 240 - loss: 0.0033931359934188192\n",
      "Epoch: 250 - loss: 0.003386170439793021\n",
      "Epoch: 260 - loss: 0.003380268743190431\n",
      "Epoch: 270 - loss: 0.0033752684195033017\n",
      "Epoch: 280 - loss: 0.003371031801008699\n",
      "Epoch: 290 - loss: 0.0033674422461334843\n",
      "Epoch: 300 - loss: 0.003364400928106237\n",
      "Epoch: 310 - loss: 0.0033618241140821094\n",
      "Epoch: 320 - loss: 0.0033596408598300124\n",
      "Epoch: 330 - loss: 0.003357791056512952\n",
      "Epoch: 340 - loss: 0.0033562237757857796\n",
      "Epoch: 350 - loss: 0.003354895867648143\n",
      "Epoch: 360 - loss: 0.0033537707724489024\n",
      "Epoch: 370 - loss: 0.0033528175143345195\n",
      "Epoch: 380 - loss: 0.0033520098484292283\n",
      "Epoch: 390 - loss: 0.0033513255382673426\n",
      "Epoch: 400 - loss: 0.003350745743584181\n",
      "Epoch: 410 - loss: 0.0033502545016103687\n",
      "Epoch: 420 - loss: 0.003349838287588679\n",
      "Epoch: 430 - loss: 0.00334948564241362\n",
      "Epoch: 440 - loss: 0.003349186857142072\n",
      "Epoch: 450 - loss: 0.0033489337056889753\n",
      "Epoch: 460 - loss: 0.0033487192183487063\n",
      "Epoch: 470 - loss: 0.0033485374899068113\n",
      "Epoch: 480 - loss: 0.0033483835170590288\n",
      "Epoch: 490 - loss: 0.003348253060661528\n"
     ]
    },
    {
     "data": {
      "image/png": "[encoded data removed]",
      "text/plain": [
       "<Figure size 300x300 with 1 Axes>"
      ]
     },
     "metadata": {},
     "output_type": "display_data"
    }
   ],
   "source": [
    "w, b, loss, epoch_list, cost_list = batch_gradient_descent(X_train, y_train, epochs=500)\n",
    "plot_cost_vs_epoch(epoch_list, cost_list)"
   ]
  },
  {
   "cell_type": "code",
   "execution_count": 9,
   "metadata": {},
   "outputs": [
    {
     "data": {
      "text/plain": [
       "array([[120.45819425,  38.43303582,  66.92984028]])"
      ]
     },
     "execution_count": 9,
     "metadata": {},
     "output_type": "execute_result"
    }
   ],
   "source": [
    "X1 = pd.DataFrame({\n",
    "        \"area\": [2600, 1000, 1500],\n",
    "        \"bedrooms\": [4, 2, 3]\n",
    "\n",
    "    })\n",
    "predict(X1, w, b)"
   ]
  },
  {
   "cell_type": "code",
   "execution_count": 10,
   "metadata": {},
   "outputs": [
    {
     "name": "stdout",
     "output_type": "stream",
     "text": [
      "MSE: 0.001247952671332777\n"
     ]
    }
   ],
   "source": [
    "model_evaluate(X_test, y_test, w, b)"
   ]
  },
  {
   "cell_type": "markdown",
   "metadata": {},
   "source": [
    "#### Stochastic Gradient Descent Implementation  \n",
    "Stochastic GD will use randomly picked single training sample to calculate error and using this error we backpropage to adjust weights"
   ]
  },
  {
   "cell_type": "code",
   "execution_count": 11,
   "metadata": {},
   "outputs": [],
   "source": [
    "import random"
   ]
  },
  {
   "cell_type": "code",
   "execution_count": 12,
   "metadata": {},
   "outputs": [],
   "source": [
    "def stochastic_gradient_descent(X, y_true, epochs):\n",
    "    total_samples, num_features = X.shape # no of rows, no of features\n",
    "    w = np.ones(num_features)\n",
    "    b, learning_rate = 0, 0.05\n",
    "    \n",
    "    cost_list, epoch_list = [], []\n",
    "\n",
    "    for i in range(epochs):\n",
    "        random_index = random.randint(0, total_samples-1)\n",
    "        sample_X = X[random_index]\n",
    "        sample_y = y_true[random_index]\n",
    "    \n",
    "        y_pred = np.dot(w, sample_X.T) + b\n",
    "        loss = MSE(y_pred, sample_y)\n",
    "        w_grad = -(2/total_samples) * np.dot(sample_X.T, (sample_y-y_pred))\n",
    "        b_grad = -(2/total_samples) * np.sum(sample_y-y_pred)\n",
    "        \n",
    "        w = w - learning_rate * w_grad\n",
    "        b = b - learning_rate * b_grad\n",
    "        \n",
    "        if i%10 == 0:\n",
    "            print(f'Epoch: {i} - loss: {loss}')\n",
    "            cost_list.append(loss)\n",
    "            epoch_list.append(i)\n",
    "            \n",
    "    return w, b, loss, epoch_list, cost_list"
   ]
  },
  {
   "cell_type": "code",
   "execution_count": 13,
   "metadata": {},
   "outputs": [
    {
     "name": "stdout",
     "output_type": "stream",
     "text": [
      "Epoch: 0 - loss: 0.08654717748972825\n",
      "Epoch: 10 - loss: 0.8539031321816747\n",
      "Epoch: 20 - loss: 0.7497127638011599\n",
      "Epoch: 30 - loss: 0.022491577358084283\n",
      "Epoch: 40 - loss: 0.1735630311852378\n",
      "Epoch: 50 - loss: 0.22640365065259827\n",
      "Epoch: 60 - loss: 0.11529494563862047\n",
      "Epoch: 70 - loss: 0.4902682092060913\n",
      "Epoch: 80 - loss: 0.08675390450226174\n",
      "Epoch: 90 - loss: 0.06504388347325361\n",
      "Epoch: 100 - loss: 0.3751724454438426\n",
      "Epoch: 110 - loss: 0.030593357496856828\n",
      "Epoch: 120 - loss: 0.07440599997899407\n",
      "Epoch: 130 - loss: 0.017806011427094353\n",
      "Epoch: 140 - loss: 0.05682799214471247\n",
      "Epoch: 150 - loss: 0.03085695380471129\n",
      "Epoch: 160 - loss: 0.03906787040330934\n",
      "Epoch: 170 - loss: 0.024762006552506308\n",
      "Epoch: 180 - loss: 0.0029502387157914938\n",
      "Epoch: 190 - loss: 0.02651369537004857\n",
      "Epoch: 200 - loss: 0.015753456455112273\n",
      "Epoch: 210 - loss: 0.0001250964180753715\n",
      "Epoch: 220 - loss: 0.001543378682582022\n",
      "Epoch: 230 - loss: 0.007866830169411526\n",
      "Epoch: 240 - loss: 0.08461772344132658\n",
      "Epoch: 250 - loss: 0.024286330373210437\n",
      "Epoch: 260 - loss: 0.004111041862724523\n",
      "Epoch: 270 - loss: 0.00010879048571665745\n",
      "Epoch: 280 - loss: 0.007566443942814686\n",
      "Epoch: 290 - loss: 8.168110048300552e-07\n",
      "Epoch: 300 - loss: 0.0004113039840116182\n",
      "Epoch: 310 - loss: 0.09397003842224545\n",
      "Epoch: 320 - loss: 0.008305943606007221\n",
      "Epoch: 330 - loss: 0.02146280716818089\n",
      "Epoch: 340 - loss: 0.07492323410243006\n",
      "Epoch: 350 - loss: 0.020166648545735823\n",
      "Epoch: 360 - loss: 0.002460199159074047\n",
      "Epoch: 370 - loss: 0.0015672386973726584\n",
      "Epoch: 380 - loss: 0.007481098100367779\n",
      "Epoch: 390 - loss: 0.006317703230573746\n",
      "Epoch: 400 - loss: 0.0016417070628350263\n",
      "Epoch: 410 - loss: 0.007553477912278623\n",
      "Epoch: 420 - loss: 0.004427438550741989\n",
      "Epoch: 430 - loss: 0.010320766937676194\n",
      "Epoch: 440 - loss: 0.0014201854072833598\n",
      "Epoch: 450 - loss: 0.0012530011832872806\n",
      "Epoch: 460 - loss: 7.60751833549186e-05\n",
      "Epoch: 470 - loss: 0.007837681296987501\n",
      "Epoch: 480 - loss: 0.0007606644507475162\n",
      "Epoch: 490 - loss: 0.0016562382484925041\n"
     ]
    },
    {
     "data": {
      "image/png": "[encoded data removed]",
      "text/plain": [
       "<Figure size 300x300 with 1 Axes>"
      ]
     },
     "metadata": {},
     "output_type": "display_data"
    }
   ],
   "source": [
    "w, b, loss, epoch_list, cost_list = stochastic_gradient_descent(X_train, y_train, 500)\n",
    "plot_cost_vs_epoch(epoch_list, cost_list)"
   ]
  },
  {
   "cell_type": "code",
   "execution_count": 14,
   "metadata": {},
   "outputs": [
    {
     "data": {
      "text/plain": [
       "array([[133.92634691,  24.91470748,  68.52928866]])"
      ]
     },
     "execution_count": 14,
     "metadata": {},
     "output_type": "execute_result"
    }
   ],
   "source": [
    "predict(X1, w, b)"
   ]
  },
  {
   "cell_type": "code",
   "execution_count": 15,
   "metadata": {},
   "outputs": [
    {
     "name": "stdout",
     "output_type": "stream",
     "text": [
      "MSE: 0.007622758646786542\n"
     ]
    }
   ],
   "source": [
    "model_evaluate(X_test, y_test, w, b)"
   ]
  },
  {
   "cell_type": "markdown",
   "metadata": {},
   "source": [
    "#### Mini Batch Gradient Descent"
   ]
  },
  {
   "cell_type": "code",
   "execution_count": 18,
   "metadata": {},
   "outputs": [],
   "source": [
    "def mini_batch_gradient_descent(X, y_true, epochs):\n",
    "    total_samples, num_features = X.shape # no of rows, no of features\n",
    "    w = np.ones(num_features)\n",
    "    b, learning_rate = 0, 0.05\n",
    "    \n",
    "    sample_count = int(0.2 * total_samples)\n",
    "    \n",
    "    cost_list, epoch_list = [], []\n",
    "\n",
    "    for i in range(epochs):\n",
    "        random_indices = random.sample(range(total_samples), sample_count)\n",
    "        sample_X = X[random_indices]\n",
    "        sample_y = y_true[random_indices]\n",
    "    \n",
    "        y_pred = np.dot(w, sample_X.T) + b\n",
    "        loss = MSE(y_pred, sample_y)\n",
    "        w_grad = -(2/total_samples) * np.dot(sample_X.T, (sample_y-y_pred))\n",
    "        b_grad = -(2/total_samples) * np.sum(sample_y-y_pred)\n",
    "        \n",
    "        w = w - learning_rate * w_grad\n",
    "        b = b - learning_rate * b_grad\n",
    "        \n",
    "        if i%10 == 0:\n",
    "            print(f'Epoch: {i} - loss: {loss}')\n",
    "            cost_list.append(loss)\n",
    "            epoch_list.append(i)\n",
    "            \n",
    "    return w, b, loss, epoch_list, cost_list"
   ]
  },
  {
   "cell_type": "code",
   "execution_count": 19,
   "metadata": {},
   "outputs": [
    {
     "name": "stdout",
     "output_type": "stream",
     "text": [
      "Epoch: 0 - loss: 0.3906954917366538\n",
      "Epoch: 10 - loss: 0.15338454059650128\n",
      "Epoch: 20 - loss: 0.05812022456648789\n",
      "Epoch: 30 - loss: 0.06072903192222873\n",
      "Epoch: 40 - loss: 0.10634804468924282\n",
      "Epoch: 50 - loss: 0.016161917933095626\n",
      "Epoch: 60 - loss: 0.0694130994432715\n",
      "Epoch: 70 - loss: 0.01877908438874789\n",
      "Epoch: 80 - loss: 0.02693907525564702\n",
      "Epoch: 90 - loss: 0.03146535612942555\n",
      "Epoch: 100 - loss: 0.03924328127332422\n",
      "Epoch: 110 - loss: 0.03164951781073682\n",
      "Epoch: 120 - loss: 0.03170470067933124\n",
      "Epoch: 130 - loss: 0.0031145336998329477\n",
      "Epoch: 140 - loss: 0.02449132480051676\n",
      "Epoch: 150 - loss: 0.0009758901352654982\n",
      "Epoch: 160 - loss: 0.02576248264501671\n",
      "Epoch: 170 - loss: 0.009719333758707887\n",
      "Epoch: 180 - loss: 0.001306874548729349\n",
      "Epoch: 190 - loss: 0.051145273495113\n",
      "Epoch: 200 - loss: 0.009600555650591073\n",
      "Epoch: 210 - loss: 0.003968169265651957\n",
      "Epoch: 220 - loss: 0.0026908099931593544\n",
      "Epoch: 230 - loss: 0.008397531655831052\n",
      "Epoch: 240 - loss: 0.02200185675900641\n",
      "Epoch: 250 - loss: 0.017013454558911005\n",
      "Epoch: 260 - loss: 0.027749646537888695\n",
      "Epoch: 270 - loss: 0.028279456590084292\n",
      "Epoch: 280 - loss: 0.0033704566598490686\n",
      "Epoch: 290 - loss: 0.015623930825998654\n",
      "Epoch: 300 - loss: 0.0063393588015669316\n",
      "Epoch: 310 - loss: 0.004609929681472807\n",
      "Epoch: 320 - loss: 0.004933694247045228\n",
      "Epoch: 330 - loss: 0.01263637541109988\n",
      "Epoch: 340 - loss: 0.012141691421821227\n",
      "Epoch: 350 - loss: 0.005378327842338319\n",
      "Epoch: 360 - loss: 0.02497549648590225\n",
      "Epoch: 370 - loss: 0.00434117442805681\n",
      "Epoch: 380 - loss: 0.015201808984242365\n",
      "Epoch: 390 - loss: 0.006357374181821807\n",
      "Epoch: 400 - loss: 0.0036211288583639246\n",
      "Epoch: 410 - loss: 0.012344410809396656\n",
      "Epoch: 420 - loss: 0.00840751016218253\n",
      "Epoch: 430 - loss: 0.009242161377232385\n",
      "Epoch: 440 - loss: 0.003671246702037513\n",
      "Epoch: 450 - loss: 0.006623161356847591\n",
      "Epoch: 460 - loss: 0.02786720722026632\n",
      "Epoch: 470 - loss: 0.00920619182393405\n",
      "Epoch: 480 - loss: 0.004851357734434029\n",
      "Epoch: 490 - loss: 0.0009952201530881233\n"
     ]
    },
    {
     "data": {
      "image/png": "[encoded data removed]",
      "text/plain": [
       "<Figure size 300x300 with 1 Axes>"
      ]
     },
     "metadata": {},
     "output_type": "display_data"
    }
   ],
   "source": [
    "w, b, loss, epoch_list, cost_list = mini_batch_gradient_descent(X_train, y_train, 500)\n",
    "plot_cost_vs_epoch(epoch_list, cost_list)"
   ]
  },
  {
   "cell_type": "code",
   "execution_count": 20,
   "metadata": {},
   "outputs": [
    {
     "data": {
      "text/plain": [
       "array([[128.15629688,  31.09581391,  69.93775336]])"
      ]
     },
     "execution_count": 20,
     "metadata": {},
     "output_type": "execute_result"
    }
   ],
   "source": [
    "predict(X1, w, b)"
   ]
  },
  {
   "cell_type": "code",
   "execution_count": 21,
   "metadata": {},
   "outputs": [
    {
     "data": {
      "text/plain": [
       "array([ 0, 13,  4,  6, 12, 19,  9,  2,  1,  3, 10,  8, 17,  7, 18, 14,  5,\n",
       "       15, 16, 11])"
      ]
     },
     "execution_count": 21,
     "metadata": {},
     "output_type": "execute_result"
    }
   ],
   "source": [
    "np.random.permutation(20)"
   ]
  }
 ],
 "metadata": {
  "kernelspec": {
   "display_name": "tf_env",
   "language": "python",
   "name": "python3"
  },
  "language_info": {
   "codemirror_mode": {
    "name": "ipython",
    "version": 3
   },
   "file_extension": ".py",
   "mimetype": "text/x-python",
   "name": "python",
   "nbconvert_exporter": "python",
   "pygments_lexer": "ipython3",
   "version": "3.10.0"
  }
 },
 "nbformat": 4,
 "nbformat_minor": 2
}
